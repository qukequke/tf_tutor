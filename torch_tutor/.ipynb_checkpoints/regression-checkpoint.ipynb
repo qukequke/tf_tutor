{
 "cells": [
  {
   "cell_type": "code",
   "execution_count": 13,
   "metadata": {
    "collapsed": true
   },
   "outputs": [],
   "source": [
    "import torch\n",
    "import matplotlib.pyplot as plt\n",
    "import numpy as np\n",
    "from torch.autograd import Variable"
   ]
  },
  {
   "cell_type": "code",
   "execution_count": 5,
   "metadata": {},
   "outputs": [
    {
     "data": {
      "text/plain": [
       "tensor([[ 0.,  1.],\n",
       "        [ 2.,  3.]])"
      ]
     },
     "execution_count": 5,
     "metadata": {},
     "output_type": "execute_result"
    }
   ],
   "source": [
    "a = torch.FloatTensor(np.arange(4).reshape(2,2))\n",
    "a"
   ]
  },
  {
   "cell_type": "code",
   "execution_count": 6,
   "metadata": {},
   "outputs": [
    {
     "data": {
      "text/plain": [
       "tensor([[ 0,  1],\n",
       "        [ 2,  3]], dtype=torch.int32)"
      ]
     },
     "execution_count": 6,
     "metadata": {},
     "output_type": "execute_result"
    }
   ],
   "source": [
    "torch.from_numpy(np.arange(4).reshape(2, 2))"
   ]
  },
  {
   "cell_type": "code",
   "execution_count": 18,
   "metadata": {},
   "outputs": [
    {
     "data": {
      "text/plain": [
       "tensor([-2.0000, -1.9596, -1.9192, -1.8788, -1.8384, -1.7980, -1.7576,\n",
       "        -1.7172, -1.6768, -1.6364, -1.5960, -1.5556, -1.5152, -1.4747,\n",
       "        -1.4343, -1.3939, -1.3535, -1.3131, -1.2727, -1.2323, -1.1919,\n",
       "        -1.1515, -1.1111, -1.0707, -1.0303, -0.9899, -0.9495, -0.9091,\n",
       "        -0.8687, -0.8283, -0.7879, -0.7475, -0.7071, -0.6667, -0.6263,\n",
       "        -0.5859, -0.5455, -0.5051, -0.4646, -0.4242, -0.3838, -0.3434,\n",
       "        -0.3030, -0.2626, -0.2222, -0.1818, -0.1414, -0.1010, -0.0606,\n",
       "        -0.0202,  0.0202,  0.0606,  0.1010,  0.1414,  0.1818,  0.2222,\n",
       "         0.2626,  0.3030,  0.3434,  0.3838,  0.4242,  0.4646,  0.5051,\n",
       "         0.5455,  0.5859,  0.6263,  0.6667,  0.7071,  0.7475,  0.7879,\n",
       "         0.8283,  0.8687,  0.9091,  0.9495,  0.9899,  1.0303,  1.0707,\n",
       "         1.1111,  1.1515,  1.1919,  1.2323,  1.2727,  1.3131,  1.3535,\n",
       "         1.3939,  1.4343,  1.4747,  1.5152,  1.5556,  1.5960,  1.6364,\n",
       "         1.6768,  1.7172,  1.7576,  1.7980,  1.8384,  1.8788,  1.9192,\n",
       "         1.9596,  2.0000])"
      ]
     },
     "execution_count": 18,
     "metadata": {},
     "output_type": "execute_result"
    }
   ],
   "source": [
    "a = torch.linspace(-2, 2, 100)\n",
    "a"
   ]
  },
  {
   "cell_type": "code",
   "execution_count": 19,
   "metadata": {},
   "outputs": [
    {
     "data": {
      "text/plain": [
       "tensor([ 4.3096,  3.9716,  3.8512,  4.5271,  4.1816,  3.7892,  3.2883,\n",
       "         3.1750,  3.6430,  3.0245,  3.1110,  2.4545,  3.0884,  2.3804,\n",
       "         2.3770,  2.7865,  2.5104,  2.6869,  2.4267,  2.0066,  1.4801,\n",
       "         2.2329,  1.9993,  1.4584,  2.0252,  1.3155,  1.6132,  1.2902,\n",
       "         0.9954,  0.7163,  0.8746,  1.1504,  0.7488,  1.4241,  0.4161,\n",
       "         1.1373,  0.4717,  0.6675,  0.9195,  0.6504,  0.1965,  0.1349,\n",
       "         0.5067,  0.6256,  0.6215,  0.4021,  0.3095,  0.5412,  0.0895,\n",
       "         0.4208,  0.8826,  0.4771,  0.4343,  0.7291,  0.6250,  0.6074,\n",
       "         0.9262,  0.2807,  0.4446,  0.4167,  0.9018,  1.1625,  0.2641,\n",
       "         1.2879,  1.0806,  0.5338,  0.9160,  1.0286,  0.8394,  1.5657,\n",
       "         0.9507,  1.6294,  1.5985,  1.1448,  1.7964,  1.7677,  1.8564,\n",
       "         1.3955,  1.5812,  1.8827,  2.4999,  2.2777,  2.1336,  2.2024,\n",
       "         2.3082,  2.8238,  2.1829,  2.8925,  2.4369,  3.1830,  2.8797,\n",
       "         3.6831,  3.7029,  3.0921,  3.4601,  4.1331,  3.6226,  3.8974,\n",
       "         4.1366,  4.4925])"
      ]
     },
     "execution_count": 19,
     "metadata": {},
     "output_type": "execute_result"
    }
   ],
   "source": [
    "b = torch.pow(a, 2) + torch.rand(100)\n",
    "b"
   ]
  },
  {
   "cell_type": "code",
   "execution_count": 20,
   "metadata": {},
   "outputs": [
    {
     "data": {
      "text/plain": [
       "torch.Size([100])"
      ]
     },
     "execution_count": 20,
     "metadata": {},
     "output_type": "execute_result"
    }
   ],
   "source": [
    "a.shape"
   ]
  },
  {
   "cell_type": "code",
   "execution_count": 21,
   "metadata": {},
   "outputs": [
    {
     "data": {
      "text/plain": [
       "torch.Size([100])"
      ]
     },
     "execution_count": 21,
     "metadata": {},
     "output_type": "execute_result"
    }
   ],
   "source": [
    "b.shape"
   ]
  },
  {
   "cell_type": "code",
   "execution_count": 23,
   "metadata": {},
   "outputs": [
    {
     "data": {
      "image/png": "[encoded data removed]",
      "text/plain": [
       "<matplotlib.figure.Figure at 0x9fab5f8>"
      ]
     },
     "metadata": {},
     "output_type": "display_data"
    }
   ],
   "source": [
    "plt.scatter(a.numpy(), b.numpy())\n",
    "plt.show()"
   ]
  },
  {
   "cell_type": "code",
   "execution_count": 46,
   "metadata": {
    "collapsed": true
   },
   "outputs": [],
   "source": [
    "class Net(torch.nn.Module):\n",
    "    def __init__(self):\n",
    "        super().__init__()\n",
    "        self.fcn1 = torch.nn.Linear(1, 50)\n",
    "        self.fcn2 = torch.nn.Linear(50, 1)\n",
    "    def forward(self, x):\n",
    "        x = self.fcn1(x)\n",
    "        x = torch.relu(x)\n",
    "        x = self.fcn2(x)\n",
    "        return x"
   ]
  },
  {
   "cell_type": "code",
   "execution_count": 29,
   "metadata": {},
   "outputs": [
    {
     "data": {
      "text/plain": [
       "Net(\n",
       "  (fcn1): Linear(in_features=1, out_features=50, bias=True)\n",
       "  (fcn2): Linear(in_features=50, out_features=1, bias=True)\n",
       ")"
      ]
     },
     "execution_count": 29,
     "metadata": {},
     "output_type": "execute_result"
    }
   ],
   "source": [
    "net = Net()\n",
    "net"
   ]
  },
  {
   "cell_type": "code",
   "execution_count": 31,
   "metadata": {},
   "outputs": [
    {
     "data": {
      "text/plain": [
       "<generator object Module.parameters at 0x0000000009EF55C8>"
      ]
     },
     "execution_count": 31,
     "metadata": {},
     "output_type": "execute_result"
    }
   ],
   "source": [
    "net.parameters()"
   ]
  },
  {
   "cell_type": "code",
   "execution_count": 41,
   "metadata": {},
   "outputs": [],
   "source": [
    "opti = torch.optim.Adam(net.parameters())\n",
    "def loss_func(y, y_pre):\n",
    "    return torch.mean(torch.pow((y - y_pre), 2))"
   ]
  },
  {
   "cell_type": "code",
   "execution_count": 39,
   "metadata": {},
   "outputs": [
    {
     "name": "stdout",
     "output_type": "stream",
     "text": [
      "<class 'torch.Tensor'>\n"
     ]
    },
    {
     "data": {
      "text/plain": [
       "torch.Tensor"
      ]
     },
     "execution_count": 39,
     "metadata": {},
     "output_type": "execute_result"
    }
   ],
   "source": [
    "a = a.reshape(100, 1)\n",
    "b = b.reshape(100, 1)\n",
    "print(type(a))\n",
    "type(Variable(a))"
   ]
  },
  {
   "cell_type": "code",
   "execution_count": 45,
   "metadata": {},
   "outputs": [],
   "source": [
    "steps = 1000\n",
    "plt.ion()\n",
    "for i in range(steps):\n",
    "    x = Variable(a)\n",
    "    y = Variable(b)\n",
    "    pre = net(x)\n",
    "    loss = loss_func(y, pre)\n",
    "#     print(loss)\n",
    "    opti.zero_grad()\n",
    "    loss.backward()\n",
    "    opti.step()\n",
    "    if i % 5 == 10:\n",
    "        plt.scatter(x.data.numpy(), y.data.numpy())\n",
    "        plt.plot(x, pre)\n",
    "        plt.pause(0.5)\n",
    "        plt.show()\n",
    "# plt.ioff()"
   ]
  },
  {
   "cell_type": "code",
   "execution_count": 44,
   "metadata": {
    "collapsed": true
   },
   "outputs": [],
   "source": [
    "plt.show()"
   ]
  },
  {
   "cell_type": "code",
   "execution_count": null,
   "metadata": {
    "collapsed": true
   },
   "outputs": [],
   "source": []
  }
 ],
 "metadata": {
  "kernelspec": {
   "display_name": "Python 3",
   "language": "python",
   "name": "python3"
  },
  "language_info": {
   "codemirror_mode": {
    "name": "ipython",
    "version": 3
   },
   "file_extension": ".py",
   "mimetype": "text/x-python",
   "name": "python",
   "nbconvert_exporter": "python",
   "pygments_lexer": "ipython3",
   "version": "3.6.2"
  }
 },
 "nbformat": 4,
 "nbformat_minor": 2
}
