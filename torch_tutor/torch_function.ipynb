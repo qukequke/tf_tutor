{
 "cells": [
  {
   "cell_type": "code",
   "execution_count": 12,
   "metadata": {
    "collapsed": true
   },
   "outputs": [],
   "source": [
    "import torch\n",
    "import numpy as np\n",
    "import torchvision"
   ]
  },
  {
   "cell_type": "code",
   "execution_count": 6,
   "metadata": {},
   "outputs": [
    {
     "name": "stdout",
     "output_type": "stream",
     "text": [
      "[tensor([[ 0.2518,  0.0755,  0.3644,  0.9612]]), tensor([[ 0.6993,  0.8270,  0.0911,  0.4161]])]\n"
     ]
    },
    {
     "data": {
      "text/plain": [
       "tensor([[ 0.2518,  0.0755,  0.3644,  0.9612],\n",
       "        [ 0.6993,  0.8270,  0.0911,  0.4161]])"
      ]
     },
     "execution_count": 6,
     "metadata": {},
     "output_type": "execute_result"
    }
   ],
   "source": [
    "a = [torch.rand(1,4), torch.rand(1, 4)]\n",
    "print(a)\n",
    "b = torch.cat(a,0)\n",
    "b"
   ]
  },
  {
   "cell_type": "code",
   "execution_count": 10,
   "metadata": {},
   "outputs": [
    {
     "name": "stdout",
     "output_type": "stream",
     "text": [
      "tensor([[ 0.6993,  0.8270,  0.3644,  0.9612],\n",
      "        [ 0.2518,  0.0755,  0.0911,  0.4161]])\n",
      "tensor([[ 1,  1,  0,  0],\n",
      "        [ 0,  0,  1,  1]])\n"
     ]
    }
   ],
   "source": [
    "ret, index = b.sort(0, descending=True)\n",
    "print(ret)\n",
    "print(index)\n",
    "#返回tensor排序和索引排序"
   ]
  },
  {
   "cell_type": "code",
   "execution_count": 12,
   "metadata": {},
   "outputs": [
    {
     "data": {
      "text/plain": [
       "8"
      ]
     },
     "execution_count": 12,
     "metadata": {},
     "output_type": "execute_result"
    }
   ],
   "source": [
    "index.numel()  #返回元素的总数\n",
    "# torch.numel()"
   ]
  },
  {
   "cell_type": "code",
   "execution_count": 4,
   "metadata": {},
   "outputs": [
    {
     "data": {
      "text/plain": [
       "torch.Size([224, 224, 3])"
      ]
     },
     "execution_count": 4,
     "metadata": {},
     "output_type": "execute_result"
    }
   ],
   "source": [
    "a = torch.rand(3, 224, 224)\n",
    "a.permute(2,1,0).shape"
   ]
  },
  {
   "cell_type": "code",
   "execution_count": null,
   "metadata": {
    "collapsed": true
   },
   "outputs": [],
   "source": [
    "torch.nonzero()"
   ]
  },
  {
   "cell_type": "code",
   "execution_count": 18,
   "metadata": {},
   "outputs": [
    {
     "data": {
      "text/plain": [
       "tensor([[ 0.3537,  0.6601,  0.8416],\n",
       "        [ 0.9410,  0.3837,  0.2294],\n",
       "        [ 0.9501,  0.4583,  0.7400]])"
      ]
     },
     "execution_count": 18,
     "metadata": {},
     "output_type": "execute_result"
    }
   ],
   "source": [
    "a = torch.rand(3,3)\n",
    "a"
   ]
  },
  {
   "cell_type": "code",
   "execution_count": 10,
   "metadata": {},
   "outputs": [
    {
     "data": {
      "text/plain": [
       "tensor([[ 0,  0],\n",
       "        [ 0,  1],\n",
       "        [ 0,  2],\n",
       "        [ 1,  0],\n",
       "        [ 1,  1],\n",
       "        [ 1,  2],\n",
       "        [ 2,  0],\n",
       "        [ 2,  1],\n",
       "        [ 2,  2]])"
      ]
     },
     "execution_count": 10,
     "metadata": {},
     "output_type": "execute_result"
    }
   ],
   "source": [
    "a.nonzero().squeeze()#返回的两列是非零 的点的坐标"
   ]
  },
  {
   "cell_type": "code",
   "execution_count": 20,
   "metadata": {},
   "outputs": [
    {
     "data": {
      "text/plain": [
       "tensor([[ 0.3537,  0.6601,  0.8416],\n",
       "        [ 0.3537,  0.6601,  0.8416],\n",
       "        [ 0.3537,  0.6601,  0.8416],\n",
       "        [ 0.9410,  0.3837,  0.2294],\n",
       "        [ 0.9410,  0.3837,  0.2294],\n",
       "        [ 0.9410,  0.3837,  0.2294],\n",
       "        [ 0.9501,  0.4583,  0.7400],\n",
       "        [ 0.9501,  0.4583,  0.7400],\n",
       "        [ 0.9501,  0.4583,  0.7400]])"
      ]
     },
     "execution_count": 20,
     "metadata": {},
     "output_type": "execute_result"
    }
   ],
   "source": [
    "a[a.nonzero()[:,0]]"
   ]
  },
  {
   "cell_type": "code",
   "execution_count": 21,
   "metadata": {},
   "outputs": [
    {
     "data": {
      "text/plain": [
       "tensor([[[ 0.3537,  0.6601,  0.8416],\n",
       "         [ 0.3537,  0.6601,  0.8416]],\n",
       "\n",
       "        [[ 0.3537,  0.6601,  0.8416],\n",
       "         [ 0.9410,  0.3837,  0.2294]],\n",
       "\n",
       "        [[ 0.3537,  0.6601,  0.8416],\n",
       "         [ 0.9501,  0.4583,  0.7400]],\n",
       "\n",
       "        [[ 0.9410,  0.3837,  0.2294],\n",
       "         [ 0.3537,  0.6601,  0.8416]],\n",
       "\n",
       "        [[ 0.9410,  0.3837,  0.2294],\n",
       "         [ 0.9410,  0.3837,  0.2294]],\n",
       "\n",
       "        [[ 0.9410,  0.3837,  0.2294],\n",
       "         [ 0.9501,  0.4583,  0.7400]],\n",
       "\n",
       "        [[ 0.9501,  0.4583,  0.7400],\n",
       "         [ 0.3537,  0.6601,  0.8416]],\n",
       "\n",
       "        [[ 0.9501,  0.4583,  0.7400],\n",
       "         [ 0.9410,  0.3837,  0.2294]],\n",
       "\n",
       "        [[ 0.9501,  0.4583,  0.7400],\n",
       "         [ 0.9501,  0.4583,  0.7400]]])"
      ]
     },
     "execution_count": 21,
     "metadata": {},
     "output_type": "execute_result"
    }
   ],
   "source": [
    "a[a.nonzero().squeeze()]  #都是索引出一行，9来自9行，2来自2列，3来自原来的3列"
   ]
  },
  {
   "cell_type": "code",
   "execution_count": 8,
   "metadata": {},
   "outputs": [
    {
     "data": {
      "text/plain": [
       "torch.Size([9, 2, 3])"
      ]
     },
     "execution_count": 8,
     "metadata": {},
     "output_type": "execute_result"
    }
   ],
   "source": [
    "a[a.nonzero()].shape"
   ]
  },
  {
   "cell_type": "code",
   "execution_count": 34,
   "metadata": {},
   "outputs": [
    {
     "data": {
      "text/plain": [
       "torch.Size([5, 1])"
      ]
     },
     "execution_count": 34,
     "metadata": {},
     "output_type": "execute_result"
    }
   ],
   "source": [
    "a = torch.rand(5)\n",
    "a.nonzero().shape"
   ]
  },
  {
   "cell_type": "code",
   "execution_count": 41,
   "metadata": {
    "collapsed": true
   },
   "outputs": [],
   "source": [
    "def nms(bboxes,scores,threshold=0.5):\n",
    "    '''\n",
    "    bboxes(tensor) [N,4] N是所有满足的格子\n",
    "    scores(tensor) [N,]\n",
    "    '''\n",
    "    x1 = bboxes[:,0] #[N, 1] 所有格子的xmin 坐标\n",
    "    y1 = bboxes[:,1]\n",
    "    x2 = bboxes[:,2]\n",
    "    y2 = bboxes[:,3]\n",
    "    areas = (x2-x1) * (y2-y1) #所有格子面积\n",
    "\n",
    "    _,order = scores.sort(0,descending=True)\n",
    "    keep = []\n",
    "    while order.numel() > 0:\n",
    "        i = order[0]\n",
    "        keep.append(i)#i 是最大概率的那个格子\n",
    "\n",
    "        if order.numel() == 1: #返回tensor总数\n",
    "            break\n",
    "\n",
    "        xx1 = x1[order[1:]].clamp(min=x1[i]) #torch.clamp == np.clip\n",
    "        yy1 = y1[order[1:]].clamp(min=y1[i])\n",
    "        xx2 = x2[order[1:]].clamp(max=x2[i])\n",
    "        yy2 = y2[order[1:]].clamp(max=y2[i])\n",
    "\n",
    "        w = (xx2-xx1).clamp(min=0)\n",
    "        h = (yy2-yy1).clamp(min=0)\n",
    "        inter = w*h\n",
    "\n",
    "        ovr = inter / (areas[i] + areas[order[1:]] - inter) #两个面积相加减去相交的【N, 1]\n",
    "#         print(ovr.shape)\n",
    "        ids = (ovr<=threshold).nonzero().squeeze() #把小于阈值的选出来了\n",
    "#         ids = (ovr<=threshold).nonzero()\n",
    "        print('ids  ' + str(ids))\n",
    "#         print(ids.shape)\n",
    "        if ids.numel() == 0:\n",
    "            break\n",
    "        order = order[ids+1]\n",
    "    return torch.LongTensor(keep)"
   ]
  },
  {
   "cell_type": "code",
   "execution_count": 43,
   "metadata": {},
   "outputs": [
    {
     "name": "stdout",
     "output_type": "stream",
     "text": [
      "ids  tensor([ 0,  1,  2,  3,  4,  5,  6,  7,  8])\n",
      "ids  tensor([ 0,  1,  2,  3,  4,  5,  6,  7])\n",
      "ids  tensor([ 0,  1,  2,  3,  4,  5,  6])\n",
      "ids  tensor([ 0,  1,  2,  3,  4,  5])\n",
      "ids  tensor([ 0,  1,  2,  3,  4])\n",
      "ids  tensor([ 0,  1,  2,  3])\n",
      "ids  tensor([ 0,  1,  2])\n",
      "ids  tensor([ 0,  1])\n",
      "ids  tensor(0)\n"
     ]
    },
    {
     "name": "stderr",
     "output_type": "stream",
     "text": [
      "D:\\annoconda\\lib\\site-packages\\ipykernel_launcher.py:15: UserWarning: invalid index of a 0-dim tensor. This will be an error in PyTorch 0.5. Use tensor.item() to convert a 0-dim tensor to a Python number\n",
      "  from ipykernel import kernelapp as app\n"
     ]
    },
    {
     "name": "stdout",
     "output_type": "stream",
     "text": [
      "torch.Size([10])\n"
     ]
    }
   ],
   "source": [
    "bboxes = torch.rand(10, 4)\n",
    "scores = torch.rand(10)\n",
    "threshold=0.5\n",
    "ret = nms(bboxes, scores)\n",
    "print(ret.shape)"
   ]
  },
  {
   "cell_type": "code",
   "execution_count": null,
   "metadata": {
    "collapsed": true
   },
   "outputs": [],
   "source": []
  }
 ],
 "metadata": {
  "kernelspec": {
   "display_name": "Python 3",
   "language": "python",
   "name": "python3"
  },
  "language_info": {
   "codemirror_mode": {
    "name": "ipython",
    "version": 3
   },
   "file_extension": ".py",
   "mimetype": "text/x-python",
   "name": "python",
   "nbconvert_exporter": "python",
   "pygments_lexer": "ipython3",
   "version": "3.6.2"
  }
 },
 "nbformat": 4,
 "nbformat_minor": 2
}
