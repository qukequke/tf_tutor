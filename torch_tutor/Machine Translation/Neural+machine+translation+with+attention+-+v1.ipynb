{
 "cells": [
  {
   "cell_type": "markdown",
   "metadata": {},
   "source": [
    "# Neural Machine Translation\n",
    "\n",
    "Welcome to your first programming assignment for this week! \n",
    "\n",
    "You will build a Neural Machine Translation (NMT) model to translate human readable dates (\"25th of June, 2009\") into machine readable dates (\"2009-06-25\"). You will do this using an attention model, one of the most sophisticated sequence to sequence models. \n",
    "\n",
    "This notebook was produced together with NVIDIA's Deep Learning Institute. \n",
    "\n",
    "Let's load all the packages you will need for this assignment."
   ]
  },
  {
   "cell_type": "code",
   "execution_count": 20,
   "metadata": {},
   "outputs": [],
   "source": [
    "from keras.layers import Bidirectional, Concatenate, Permute, Dot, Input, LSTM, Multiply\n",
    "from keras.layers import RepeatVector, Dense, Activation, Lambda\n",
    "from keras.optimizers import Adam\n",
    "from keras.utils import to_categorical\n",
    "from keras.models import load_model, Model\n",
    "import keras.backend as K\n",
    "import numpy as np\n",
    "\n",
    "from faker import Faker\n",
    "import random\n",
    "from tqdm import tqdm\n",
    "from babel.dates import format_date\n",
    "from nmt_utils import *\n",
    "import matplotlib.pyplot as plt\n",
    "%matplotlib inline"
   ]
  },
  {
   "cell_type": "markdown",
   "metadata": {},
   "source": [
    "## 1 - Translating human readable dates into machine readable dates\n",
    "\n",
    "The model you will build here could be used to translate from one language to another, such as translating from English to Hindi. However, language translation requires massive datasets and usually takes days of training on GPUs. To give you a place to experiment with these models even without using massive datasets, we will instead use a simpler \"date translation\" task. \n",
    "\n",
    "The network will input a date written in a variety of possible formats (*e.g. \"the 29th of August 1958\", \"03/30/1968\", \"24 JUNE 1987\"*) and translate them into standardized, machine readable dates (*e.g. \"1958-08-29\", \"1968-03-30\", \"1987-06-24\"*). We will have the network learn to output dates in the common machine-readable format YYYY-MM-DD. \n",
    "\n",
    "\n",
    "\n",
    "<!-- \n",
    "Take a look at [nmt_utils.py](./nmt_utils.py) to see all the formatting. Count and figure out how the formats work, you will need this knowledge later. !--> "
   ]
  },
  {
   "cell_type": "markdown",
   "metadata": {},
   "source": [
    "### 1.1 - Dataset\n",
    "\n",
    "We will train the model on a dataset of 10000 human readable dates and their equivalent, standardized, machine readable dates. Let's run the following cells to load the dataset and print some examples. "
   ]
  },
  {
   "cell_type": "code",
   "execution_count": 21,
   "metadata": {},
   "outputs": [
    {
     "name": "stderr",
     "output_type": "stream",
     "text": [
      "100%|█████████████████████████████████| 10000/10000 [00:00<00:00, 25510.19it/s]\n"
     ]
    }
   ],
   "source": [
    "m = 10000\n",
    "dataset, human_vocab, machine_vocab, inv_machine_vocab = load_dataset(m)"
   ]
  },
  {
   "cell_type": "code",
   "execution_count": 22,
   "metadata": {},
   "outputs": [
    {
     "name": "stdout",
     "output_type": "stream",
     "text": [
      "10000\n"
     ]
    },
    {
     "data": {
      "text/plain": [
       "[('19 october 1980', '1980-10-19'),\n",
       " ('sunday december 24 1978', '1978-12-24'),\n",
       " ('monday october 9 2006', '2006-10-09'),\n",
       " ('9/10/73', '1973-09-10'),\n",
       " ('wednesday october 15 1986', '1986-10-15'),\n",
       " ('sunday february 19 2012', '2012-02-19'),\n",
       " ('17 jun 1992', '1992-06-17'),\n",
       " ('25 10 74', '1974-10-25'),\n",
       " ('sunday may 14 1972', '1972-05-14'),\n",
       " ('saturday july 24 1993', '1993-07-24')]"
      ]
     },
     "execution_count": 22,
     "metadata": {},
     "output_type": "execute_result"
    }
   ],
   "source": [
    "print(len(dataset))\n",
    "dataset[:10]"
   ]
  },
  {
   "cell_type": "code",
   "execution_count": null,
   "metadata": {
    "collapsed": true
   },
   "outputs": [],
   "source": [
    "([12,  4,  7, 30, 24, 29, 30,  3,  4, 24, 18, 18, 11, 30,  9])"
   ]
  },
  {
   "cell_type": "code",
   "execution_count": 4,
   "metadata": {},
   "outputs": [
    {
     "data": {
      "text/plain": [
       "{' ': 0,\n",
       " '.': 1,\n",
       " '/': 2,\n",
       " '0': 3,\n",
       " '1': 4,\n",
       " '2': 5,\n",
       " '3': 6,\n",
       " '4': 7,\n",
       " '5': 8,\n",
       " '6': 9,\n",
       " '7': 10,\n",
       " '8': 11,\n",
       " '9': 12,\n",
       " '<pad>': 36,\n",
       " '<unk>': 35,\n",
       " 'a': 13,\n",
       " 'b': 14,\n",
       " 'c': 15,\n",
       " 'd': 16,\n",
       " 'e': 17,\n",
       " 'f': 18,\n",
       " 'g': 19,\n",
       " 'h': 20,\n",
       " 'i': 21,\n",
       " 'j': 22,\n",
       " 'l': 23,\n",
       " 'm': 24,\n",
       " 'n': 25,\n",
       " 'o': 26,\n",
       " 'p': 27,\n",
       " 'r': 28,\n",
       " 's': 29,\n",
       " 't': 30,\n",
       " 'u': 31,\n",
       " 'v': 32,\n",
       " 'w': 33,\n",
       " 'y': 34}"
      ]
     },
     "execution_count": 4,
     "metadata": {},
     "output_type": "execute_result"
    }
   ],
   "source": [
    "human_vocab"
   ]
  },
  {
   "cell_type": "code",
   "execution_count": 5,
   "metadata": {},
   "outputs": [
    {
     "data": {
      "text/plain": [
       "{'-': 0,\n",
       " '0': 1,\n",
       " '1': 2,\n",
       " '2': 3,\n",
       " '3': 4,\n",
       " '4': 5,\n",
       " '5': 6,\n",
       " '6': 7,\n",
       " '7': 8,\n",
       " '8': 9,\n",
       " '9': 10}"
      ]
     },
     "execution_count": 5,
     "metadata": {},
     "output_type": "execute_result"
    }
   ],
   "source": [
    "machine_vocab"
   ]
  },
  {
   "cell_type": "code",
   "execution_count": 6,
   "metadata": {},
   "outputs": [
    {
     "data": {
      "text/plain": [
       "{0: '-',\n",
       " 1: '0',\n",
       " 2: '1',\n",
       " 3: '2',\n",
       " 4: '3',\n",
       " 5: '4',\n",
       " 6: '5',\n",
       " 7: '6',\n",
       " 8: '7',\n",
       " 9: '8',\n",
       " 10: '9'}"
      ]
     },
     "execution_count": 6,
     "metadata": {},
     "output_type": "execute_result"
    }
   ],
   "source": [
    "inv_machine_vocab"
   ]
  },
  {
   "cell_type": "markdown",
   "metadata": {},
   "source": [
    "You've loaded:\n",
    "- `dataset`: a list of tuples of (human readable date, machine readable date)\n",
    "- `human_vocab`: a python dictionary mapping all characters used in the human readable dates to an integer-valued index \n",
    "- `machine_vocab`: a python dictionary mapping all characters used in machine readable dates to an integer-valued index. These indices are not necessarily consistent with `human_vocab`. \n",
    "- `inv_machine_vocab`: the inverse dictionary of `machine_vocab`, mapping from indices back to characters. \n",
    "\n",
    "Let's preprocess the data and map the raw text data into the index values. We will also use Tx=30 (which we assume is the maximum length of the human readable date; if we get a longer input, we would have to truncate it) and Ty=10 (since \"YYYY-MM-DD\" is 10 characters long). "
   ]
  },
  {
   "cell_type": "code",
   "execution_count": 23,
   "metadata": {},
   "outputs": [
    {
     "name": "stdout",
     "output_type": "stream",
     "text": [
      "X.shape: (10000, 30)\n",
      "Y.shape: (10000, 10)\n",
      "Xoh.shape: (10000, 30, 37)\n",
      "Yoh.shape: (10000, 10, 11)\n"
     ]
    }
   ],
   "source": [
    "Tx = 30\n",
    "Ty = 10\n",
    "X, Y, Xoh, Yoh = preprocess_data(dataset, human_vocab, machine_vocab, Tx, Ty)\n",
    "\n",
    "print(\"X.shape:\", X.shape)\n",
    "print(\"Y.shape:\", Y.shape)\n",
    "print(\"Xoh.shape:\", Xoh.shape)\n",
    "print(\"Yoh.shape:\", Yoh.shape)"
   ]
  },
  {
   "cell_type": "code",
   "execution_count": 18,
   "metadata": {},
   "outputs": [
    {
     "data": {
      "text/plain": [
       "array([[ 0.,  0.,  0.,  0.,  0.,  0.,  0.,  0.,  0.,  0.,  0.,  0.,  1.,\n",
       "         0.,  0.,  0.,  0.,  0.,  0.,  0.,  0.,  0.,  0.,  0.,  0.,  0.,\n",
       "         0.,  0.,  0.,  0.,  0.,  0.,  0.,  0.,  0.,  0.,  0.],\n",
       "       [ 1.,  0.,  0.,  0.,  0.,  0.,  0.,  0.,  0.,  0.,  0.,  0.,  0.,\n",
       "         0.,  0.,  0.,  0.,  0.,  0.,  0.,  0.,  0.,  0.,  0.,  0.,  0.,\n",
       "         0.,  0.,  0.,  0.,  0.,  0.,  0.,  0.,  0.,  0.,  0.],\n",
       "       [ 0.,  0.,  0.,  0.,  0.,  0.,  0.,  0.,  0.,  0.,  0.,  0.,  0.,\n",
       "         0.,  0.,  0.,  0.,  0.,  0.,  0.,  0.,  0.,  0.,  0.,  1.,  0.,\n",
       "         0.,  0.,  0.,  0.,  0.,  0.,  0.,  0.,  0.,  0.,  0.],\n",
       "       [ 0.,  0.,  0.,  0.,  0.,  0.,  0.,  0.,  0.,  0.,  0.,  0.,  0.,\n",
       "         1.,  0.,  0.,  0.,  0.,  0.,  0.,  0.,  0.,  0.,  0.,  0.,  0.,\n",
       "         0.,  0.,  0.,  0.,  0.,  0.,  0.,  0.,  0.,  0.,  0.],\n",
       "       [ 0.,  0.,  0.,  0.,  0.,  0.,  0.,  0.,  0.,  0.,  0.,  0.,  0.,\n",
       "         0.,  0.,  0.,  0.,  0.,  0.,  0.,  0.,  0.,  0.,  0.,  0.,  0.,\n",
       "         0.,  0.,  0.,  0.,  0.,  0.,  0.,  0.,  1.,  0.,  0.],\n",
       "       [ 1.,  0.,  0.,  0.,  0.,  0.,  0.,  0.,  0.,  0.,  0.,  0.,  0.,\n",
       "         0.,  0.,  0.,  0.,  0.,  0.,  0.,  0.,  0.,  0.,  0.,  0.,  0.,\n",
       "         0.,  0.,  0.,  0.,  0.,  0.,  0.,  0.,  0.,  0.,  0.],\n",
       "       [ 0.,  0.,  0.,  0.,  1.,  0.,  0.,  0.,  0.,  0.,  0.,  0.,  0.,\n",
       "         0.,  0.,  0.,  0.,  0.,  0.,  0.,  0.,  0.,  0.,  0.,  0.,  0.,\n",
       "         0.,  0.,  0.,  0.,  0.,  0.,  0.,  0.,  0.,  0.,  0.],\n",
       "       [ 0.,  0.,  0.,  0.,  0.,  0.,  0.,  0.,  0.,  0.,  0.,  0.,  1.,\n",
       "         0.,  0.,  0.,  0.,  0.,  0.,  0.,  0.,  0.,  0.,  0.,  0.,  0.,\n",
       "         0.,  0.,  0.,  0.,  0.,  0.,  0.,  0.,  0.,  0.,  0.],\n",
       "       [ 0.,  0.,  0.,  0.,  0.,  0.,  0.,  0.,  0.,  0.,  0.,  0.,  1.,\n",
       "         0.,  0.,  0.,  0.,  0.,  0.,  0.,  0.,  0.,  0.,  0.,  0.,  0.,\n",
       "         0.,  0.,  0.,  0.,  0.,  0.,  0.,  0.,  0.,  0.,  0.],\n",
       "       [ 0.,  0.,  0.,  0.,  0.,  0.,  0.,  0.,  0.,  0.,  0.,  1.,  0.,\n",
       "         0.,  0.,  0.,  0.,  0.,  0.,  0.,  0.,  0.,  0.,  0.,  0.,  0.,\n",
       "         0.,  0.,  0.,  0.,  0.,  0.,  0.,  0.,  0.,  0.,  0.],\n",
       "       [ 0.,  0.,  0.,  0.,  0.,  0.,  0.,  0.,  0.,  0.,  0.,  0.,  0.,\n",
       "         0.,  0.,  0.,  0.,  0.,  0.,  0.,  0.,  0.,  0.,  0.,  0.,  0.,\n",
       "         0.,  0.,  0.,  0.,  0.,  0.,  0.,  0.,  0.,  0.,  1.],\n",
       "       [ 0.,  0.,  0.,  0.,  0.,  0.,  0.,  0.,  0.,  0.,  0.,  0.,  0.,\n",
       "         0.,  0.,  0.,  0.,  0.,  0.,  0.,  0.,  0.,  0.,  0.,  0.,  0.,\n",
       "         0.,  0.,  0.,  0.,  0.,  0.,  0.,  0.,  0.,  0.,  1.],\n",
       "       [ 0.,  0.,  0.,  0.,  0.,  0.,  0.,  0.,  0.,  0.,  0.,  0.,  0.,\n",
       "         0.,  0.,  0.,  0.,  0.,  0.,  0.,  0.,  0.,  0.,  0.,  0.,  0.,\n",
       "         0.,  0.,  0.,  0.,  0.,  0.,  0.,  0.,  0.,  0.,  1.],\n",
       "       [ 0.,  0.,  0.,  0.,  0.,  0.,  0.,  0.,  0.,  0.,  0.,  0.,  0.,\n",
       "         0.,  0.,  0.,  0.,  0.,  0.,  0.,  0.,  0.,  0.,  0.,  0.,  0.,\n",
       "         0.,  0.,  0.,  0.,  0.,  0.,  0.,  0.,  0.,  0.,  1.],\n",
       "       [ 0.,  0.,  0.,  0.,  0.,  0.,  0.,  0.,  0.,  0.,  0.,  0.,  0.,\n",
       "         0.,  0.,  0.,  0.,  0.,  0.,  0.,  0.,  0.,  0.,  0.,  0.,  0.,\n",
       "         0.,  0.,  0.,  0.,  0.,  0.,  0.,  0.,  0.,  0.,  1.]])"
      ]
     },
     "execution_count": 18,
     "metadata": {},
     "output_type": "execute_result"
    }
   ],
   "source": [
    "Xoh[0, :15, :]"
   ]
  },
  {
   "cell_type": "code",
   "execution_count": 12,
   "metadata": {},
   "outputs": [
    {
     "data": {
      "text/plain": [
       "array([12,  0, 24, 13, 34,  0,  4, 12, 12, 11, 36, 36, 36, 36, 36, 36, 36,\n",
       "       36, 36, 36, 36, 36, 36, 36, 36, 36, 36, 36, 36, 36])"
      ]
     },
     "execution_count": 12,
     "metadata": {},
     "output_type": "execute_result"
    }
   ],
   "source": [
    "X[0,:]"
   ]
  },
  {
   "cell_type": "code",
   "execution_count": 19,
   "metadata": {},
   "outputs": [
    {
     "data": {
      "text/plain": [
       "array([ 2, 10, 10,  9,  0,  1,  6,  0,  1, 10])"
      ]
     },
     "execution_count": 19,
     "metadata": {},
     "output_type": "execute_result"
    }
   ],
   "source": [
    "Y[0,:]"
   ]
  },
  {
   "cell_type": "markdown",
   "metadata": {},
   "source": [
    "You now have:\n",
    "- `X`: a processed version of the human readable dates in the training set, where each character is replaced by an index mapped to the character via `human_vocab`. Each date is further padded to $T_x$ values with a special character (< pad >). `X.shape = (m, Tx)`\n",
    "- `Y`: a processed version of the machine readable dates in the training set, where each character is replaced by the index it is mapped to in `machine_vocab`. You should have `Y.shape = (m, Ty)`. \n",
    "- `Xoh`: one-hot version of `X`, the \"1\" entry's index is mapped to the character thanks to `human_vocab`. `Xoh.shape = (m, Tx, len(human_vocab))`\n",
    "- `Yoh`: one-hot version of `Y`, the \"1\" entry's index is mapped to the character thanks to `machine_vocab`. `Yoh.shape = (m, Tx, len(machine_vocab))`. Here, `len(machine_vocab) = 11` since there are 11 characters ('-' as well as 0-9). \n"
   ]
  },
  {
   "cell_type": "markdown",
   "metadata": {},
   "source": [
    "Lets also look at some examples of preprocessed training examples. Feel free to play with `index` in the cell below to navigate the dataset and see how source/target dates are preprocessed. "
   ]
  },
  {
   "cell_type": "code",
   "execution_count": 24,
   "metadata": {},
   "outputs": [
    {
     "name": "stdout",
     "output_type": "stream",
     "text": [
      "Source date: 19 october 1980\n",
      "Target date: 1980-10-19\n",
      "\n",
      "Source after preprocessing (indices): [ 4 12  0 26 15 30 26 14 17 28  0  4 12 11  3 36 36 36 36 36 36 36 36 36 36\n",
      " 36 36 36 36 36]\n",
      "Target after preprocessing (indices): [ 2 10  9  1  0  2  1  0  2 10]\n",
      "\n",
      "Source after preprocessing (one-hot): [[ 0.  0.  0. ...,  0.  0.  0.]\n",
      " [ 0.  0.  0. ...,  0.  0.  0.]\n",
      " [ 1.  0.  0. ...,  0.  0.  0.]\n",
      " ..., \n",
      " [ 0.  0.  0. ...,  0.  0.  1.]\n",
      " [ 0.  0.  0. ...,  0.  0.  1.]\n",
      " [ 0.  0.  0. ...,  0.  0.  1.]]\n",
      "Target after preprocessing (one-hot): [[ 0.  0.  1.  0.  0.  0.  0.  0.  0.  0.  0.]\n",
      " [ 0.  0.  0.  0.  0.  0.  0.  0.  0.  0.  1.]\n",
      " [ 0.  0.  0.  0.  0.  0.  0.  0.  0.  1.  0.]\n",
      " [ 0.  1.  0.  0.  0.  0.  0.  0.  0.  0.  0.]\n",
      " [ 1.  0.  0.  0.  0.  0.  0.  0.  0.  0.  0.]\n",
      " [ 0.  0.  1.  0.  0.  0.  0.  0.  0.  0.  0.]\n",
      " [ 0.  1.  0.  0.  0.  0.  0.  0.  0.  0.  0.]\n",
      " [ 1.  0.  0.  0.  0.  0.  0.  0.  0.  0.  0.]\n",
      " [ 0.  0.  1.  0.  0.  0.  0.  0.  0.  0.  0.]\n",
      " [ 0.  0.  0.  0.  0.  0.  0.  0.  0.  0.  1.]]\n"
     ]
    }
   ],
   "source": [
    "index = 0\n",
    "print(\"Source date:\", dataset[index][0])\n",
    "print(\"Target date:\", dataset[index][1])\n",
    "print()\n",
    "print(\"Source after preprocessing (indices):\", X[index])\n",
    "print(\"Target after preprocessing (indices):\", Y[index])\n",
    "print()\n",
    "print(\"Source after preprocessing (one-hot):\", Xoh[index])\n",
    "print(\"Target after preprocessing (one-hot):\", Yoh[index])"
   ]
  },
  {
   "cell_type": "markdown",
   "metadata": {},
   "source": [
    "## 2 - Neural machine translation with attention\n",
    "\n",
    "If you had to translate a book's paragraph from French to English, you would not read the whole paragraph, then close the book and translate. Even during the translation process, you would read/re-read and focus on the parts of the French paragraph corresponding to the parts of the English you are writing down. \n",
    "\n",
    "The attention mechanism tells a Neural Machine Translation model where it should pay attention to at any step. \n",
    "\n",
    "\n",
    "### 2.1 - Attention mechanism\n",
    "\n",
    "In this part, you will implement the attention mechanism presented in the lecture videos. Here is a figure to remind you how the model works. The diagram on the left shows the attention model. The diagram on the right shows what one \"Attention\" step does to calculate the attention variables $\\alpha^{\\langle t, t' \\rangle}$, which are used to compute the context variable $context^{\\langle t \\rangle}$ for each timestep in the output ($t=1, \\ldots, T_y$). \n",
    "\n",
    "<table>\n",
    "<td> \n",
    "<img src=\"images/attn_model.png\" style=\"width:500;height:500px;\"> <br>\n",
    "</td> \n",
    "<td> \n",
    "<img src=\"images/attn_mechanism.png\" style=\"width:500;height:500px;\"> <br>\n",
    "</td> \n",
    "</table>\n",
    "<caption><center> **Figure 1**: Neural machine translation with attention</center></caption>\n"
   ]
  },
  {
   "cell_type": "markdown",
   "metadata": {},
   "source": [
    "\n",
    "Here are some properties of the model that you may notice: \n",
    "\n",
    "- There are two separate LSTMs in this model (see diagram on the left). Because the one at the bottom of the picture is a Bi-directional LSTM and comes *before* the attention mechanism, we will call it *pre-attention* Bi-LSTM. The LSTM at the top of the diagram comes *after* the attention mechanism, so we will call it the *post-attention* LSTM. The pre-attention Bi-LSTM goes through $T_x$ time steps; the post-attention LSTM goes through $T_y$ time steps. \n",
    "\n",
    "- The post-attention LSTM passes $s^{\\langle t \\rangle}, c^{\\langle t \\rangle}$ from one time step to the next. In the lecture videos, we were using only a basic RNN for the post-activation sequence model, so the state captured by the RNN output activations $s^{\\langle t\\rangle}$. But since we are using an LSTM here, the LSTM has both the output activation $s^{\\langle t\\rangle}$ and the hidden cell state $c^{\\langle t\\rangle}$. However, unlike previous text generation examples (such as Dinosaurus in week 1), in this model the post-activation LSTM at time $t$ does will not take the specific generated $y^{\\langle t-1 \\rangle}$ as input; it only takes $s^{\\langle t\\rangle}$ and $c^{\\langle t\\rangle}$ as input. We have designed the model this way, because (unlike language generation where adjacent characters are highly correlated) there isn't as strong a dependency between the previous character and the next character in a YYYY-MM-DD date. \n",
    "\n",
    "- We use $a^{\\langle t \\rangle} = [\\overrightarrow{a}^{\\langle t \\rangle}; \\overleftarrow{a}^{\\langle t \\rangle}]$ to represent the concatenation of the activations of both the forward-direction and backward-directions of the pre-attention Bi-LSTM. \n",
    "\n",
    "- The diagram on the right uses a `RepeatVector` node to copy $s^{\\langle t-1 \\rangle}$'s value $T_x$ times, and then `Concatenation` to concatenate $s^{\\langle t-1 \\rangle}$ and $a^{\\langle t \\rangle}$ to compute $e^{\\langle t, t'}$, which is then passed through a softmax to compute $\\alpha^{\\langle t, t' \\rangle}$. We'll explain how to use `RepeatVector` and `Concatenation` in Keras below. \n",
    "\n",
    "Lets implement this model. You will start by implementing two functions: `one_step_attention()` and `model()`.\n",
    "\n",
    "**1) `one_step_attention()`**: At step $t$, given all the hidden states of the Bi-LSTM ($[a^{<1>},a^{<2>}, ..., a^{<T_x>}]$) and the previous hidden state of the second LSTM ($s^{<t-1>}$), `one_step_attention()` will compute the attention weights ($[\\alpha^{<t,1>},\\alpha^{<t,2>}, ..., \\alpha^{<t,T_x>}]$) and output the context vector (see Figure  1 (right) for details):\n",
    "$$context^{<t>} = \\sum_{t' = 0}^{T_x} \\alpha^{<t,t'>}a^{<t'>}\\tag{1}$$ \n",
    "\n",
    "Note that we are denoting the attention in this notebook $context^{\\langle t \\rangle}$. In the lecture videos, the context was denoted $c^{\\langle t \\rangle}$, but here we are calling it $context^{\\langle t \\rangle}$ to avoid confusion with the (post-attention) LSTM's internal memory cell variable, which is sometimes also denoted $c^{\\langle t \\rangle}$. \n",
    "  \n",
    "**2) `model()`**: Implements the entire model. It first runs the input through a Bi-LSTM to get back $[a^{<1>},a^{<2>}, ..., a^{<T_x>}]$. Then, it calls `one_step_attention()` $T_y$ times (`for` loop). At each iteration of this loop, it gives the computed context vector $c^{<t>}$ to the second LSTM, and runs the output of the LSTM through a dense layer with softmax activation to generate a prediction $\\hat{y}^{<t>}$. \n",
    "\n",
    "\n",
    "\n",
    "**Exercise**: Implement `one_step_attention()`. The function `model()` will call the layers in `one_step_attention()` $T_y$ using a for-loop, and it is important that all $T_y$ copies have the same weights. I.e., it should not re-initiaiize the weights every time. In other words, all $T_y$ steps should have shared weights. Here's how you can implement layers with shareable weights in Keras:\n",
    "1. Define the layer objects (as global variables for examples).\n",
    "2. Call these objects when propagating the input.\n",
    "\n",
    "We have defined the layers you need as global variables. Please run the following cells to create them. Please check the Keras documentation to make sure you understand what these layers are: [RepeatVector()](https://keras.io/layers/core/#repeatvector), [Concatenate()](https://keras.io/layers/merge/#concatenate), [Dense()](https://keras.io/layers/core/#dense), [Activation()](https://keras.io/layers/core/#activation), [Dot()](https://keras.io/layers/merge/#dot)."
   ]
  },
  {
   "cell_type": "code",
   "execution_count": 25,
   "metadata": {
    "collapsed": true
   },
   "outputs": [],
   "source": [
    "# Defined shared layers as global variables\n",
    "repeator = RepeatVector(Tx)\n",
    "concatenator = Concatenate(axis=-1)\n",
    "densor1 = Dense(10, activation = \"tanh\")\n",
    "densor2 = Dense(1, activation = \"relu\")\n",
    "activator = Activation(softmax, name='attention_weights') # We are using a custom softmax(axis = 1) loaded in this notebook\n",
    "dotor = Dot(axes = 1)"
   ]
  },
  {
   "cell_type": "code",
   "execution_count": 26,
   "metadata": {},
   "outputs": [
    {
     "data": {
      "text/plain": [
       "<keras.layers.core.RepeatVector at 0xf1e3ba8>"
      ]
     },
     "execution_count": 26,
     "metadata": {},
     "output_type": "execute_result"
    }
   ],
   "source": [
    "a = np.arange(9).reshape(3,3)\n",
    "RepeatVector(a)"
   ]
  },
  {
   "cell_type": "code",
   "execution_count": 12,
   "metadata": {},
   "outputs": [
    {
     "data": {
      "text/plain": [
       "<tf.Tensor 'dot_1_1/MatMul:0' shape=(5, 1, 64) dtype=float32>"
      ]
     },
     "execution_count": 12,
     "metadata": {},
     "output_type": "execute_result"
    }
   ],
   "source": [
    "a = K.ones((5,30, 1))\n",
    "b = K.ones((5,30, 64))\n",
    "dotor([a,b])"
   ]
  },
  {
   "cell_type": "markdown",
   "metadata": {},
   "source": [
    "Now you can use these layers to implement `one_step_attention()`. In order to propagate a Keras tensor object X through one of these layers, use `layer(X)` (or `layer([X,Y])` if it requires multiple inputs.), e.g. `densor(X)` will propagate X through the `Dense(1)` layer defined above."
   ]
  },
  {
   "cell_type": "code",
   "execution_count": 31,
   "metadata": {
    "collapsed": true
   },
   "outputs": [],
   "source": [
    "# GRADED FUNCTION: one_step_attention\n",
    "\n",
    "def one_step_attention(a, s_prev):\n",
    "    \"\"\"\n",
    "    Performs one step of attention: Outputs a context vector computed as a dot product of the attention weights\n",
    "    \"alphas\" and the hidden states \"a\" of the Bi-LSTM.\n",
    "    \n",
    "    Arguments:\n",
    "    a -- hidden state output of the Bi-LSTM, numpy-array of shape (m, Tx, 2*n_a)\n",
    "    s_prev -- previous hidden state of the (post-attention) LSTM, numpy-array of shape (m, n_s)\n",
    "    \n",
    "    Returns:\n",
    "    context -- context vector, input of the next (post-attetion) LSTM cell\n",
    "    \"\"\"\n",
    "    \n",
    "    ### START CODE HERE ###\n",
    "    # Use repeator to repeat s_prev to be of shape (m, Tx, n_s) so that you can concatenate it with all hidden states \"a\" (≈ 1 line)\n",
    "    s_prev = repeator(s_prev)\n",
    "    # Use concatenator to concatenate a and s_prev on the last axis (≈ 1 line)\n",
    "    concat = concatenator([s_prev, a])\n",
    "    # Use densor to propagate concat through a small fully-connected neural network to compute the \"energies\" variable e. (≈1 lines)\n",
    "    e = densor1(concat)\n",
    "    e = densor2(e)\n",
    "    # Use activator and e to compute the attention weights \"alphas\" (≈ 1 line)\n",
    "    alphas = activator(e)\n",
    "    # Use dotor together with \"alphas\" and \"a\" to compute the context vector to be given to the next (post-attention) LSTM-cell (≈ 1 line)\n",
    "    context = dotor([alphas, a])\n",
    "    ### END CODE HERE ###\n",
    "    \n",
    "    return context"
   ]
  },
  {
   "cell_type": "markdown",
   "metadata": {},
   "source": [
    "You will be able to check the expected output of `one_step_attention()` after you've coded the `model()` function."
   ]
  },
  {
   "cell_type": "markdown",
   "metadata": {},
   "source": [
    "**Exercise**: Implement `model()` as explained in figure 2 and the text above. Again, we have defined global layers that will share weights to be used in `model()`."
   ]
  },
  {
   "cell_type": "code",
   "execution_count": 29,
   "metadata": {
    "collapsed": true
   },
   "outputs": [],
   "source": [
    "n_a = 32\n",
    "n_s = 64\n",
    "post_activation_LSTM_cell = LSTM(n_s, return_state = True)\n",
    "output_layer = Dense(len(machine_vocab), activation=softmax)"
   ]
  },
  {
   "cell_type": "markdown",
   "metadata": {},
   "source": [
    "Now you can use these layers $T_y$ times in a `for` loop to generate the outputs, and their parameters will not be reinitialized. You will have to carry out the following steps: \n",
    "\n",
    "1. Propagate the input into a [Bidirectional](https://keras.io/layers/wrappers/#bidirectional) [LSTM](https://keras.io/layers/recurrent/#lstm)\n",
    "2. Iterate for $t = 0, \\dots, T_y-1$: \n",
    "    1. Call `one_step_attention()` on $[\\alpha^{<t,1>},\\alpha^{<t,2>}, ..., \\alpha^{<t,T_x>}]$ and $s^{<t-1>}$ to get the context vector $context^{<t>}$.\n",
    "    2. Give $context^{<t>}$ to the post-attention LSTM cell. Remember pass in the previous hidden-state $s^{\\langle t-1\\rangle}$ and cell-states $c^{\\langle t-1\\rangle}$ of this LSTM using `initial_state= [previous hidden state, previous cell state]`. Get back the new hidden state $s^{<t>}$ and the new cell state $c^{<t>}$.\n",
    "    3. Apply a softmax layer to $s^{<t>}$, get the output. \n",
    "    4. Save the output by adding it to the list of outputs.\n",
    "\n",
    "3. Create your Keras model instance, it should have three inputs (\"inputs\", $s^{<0>}$ and $c^{<0>}$) and output the list of \"outputs\"."
   ]
  },
  {
   "cell_type": "code",
   "execution_count": 39,
   "metadata": {
    "collapsed": true
   },
   "outputs": [],
   "source": [
    "# GRADED FUNCTION: model\n",
    "\n",
    "def model(Tx, Ty, n_a, n_s, human_vocab_size, machine_vocab_size):\n",
    "    \"\"\"\n",
    "    Arguments:\n",
    "    Tx -- length of the input sequence\n",
    "    Ty -- length of the output sequence\n",
    "    n_a -- hidden state size of the Bi-LSTM\n",
    "    n_s -- hidden state size of the post-attention LSTM\n",
    "    human_vocab_size -- size of the python dictionary \"human_vocab\"\n",
    "    machine_vocab_size -- size of the python dictionary \"machine_vocab\"\n",
    "\n",
    "    Returns:\n",
    "    model -- Keras model instance\n",
    "    \"\"\"\n",
    "    \n",
    "    # Define the inputs of your model with a shape (Tx,)\n",
    "    # Define s0 and c0, initial hidden state for the decoder LSTM of shape (n_s,)\n",
    "    X = Input(shape=(Tx, human_vocab_size))\n",
    "    s0 = Input(shape=(n_s,), name='s0')\n",
    "    c0 = Input(shape=(n_s,), name='c0')\n",
    "    s = s0\n",
    "    c = c0\n",
    "    \n",
    "    # Initialize empty list of outputs\n",
    "    outputs = []\n",
    "    \n",
    "    ### START CODE HERE ###\n",
    "    \n",
    "    # Step 1: Define your pre-attention Bi-LSTM. Remember to use return_sequences=True. (≈ 1 line)\n",
    "#     a = LSTM(32, return_sequences=True)(X)\n",
    "    a = Bidirectional(LSTM(32, return_sequences=True), name='bidirection')(X)\n",
    "    print(a)\n",
    "    # Step 2: Iterate for Ty steps\n",
    "    for t in range(Ty):\n",
    "    \n",
    "        # Step 2.A: Perform one step of the attention mechanism to get back the context vector at step t (≈ 1 line)\n",
    "        context = one_step_attention(a, s)\n",
    "#         print(context)\n",
    "        # Step 2.B: Apply the post-attention LSTM cell to the \"context\" vector.\n",
    "        # Don't forget to pass: initial_state = [hidden state, cell state] (≈ 1 line)\n",
    "        s, _, c = post_activation_LSTM_cell(context, initial_state=[s, c])\n",
    "        \n",
    "        # Step 2.C: Apply Dense layer to the hidden state output of the post-attention LSTM (≈ 1 line)\n",
    "        out = output_layer(s)\n",
    "        \n",
    "        # Step 2.D: Append \"out\" to the \"outputs\" list (≈ 1 line)\n",
    "        outputs.append(out)\n",
    "    \n",
    "    # Step 3: Create model instance taking three inputs and returning the list of outputs. (≈ 1 line)\n",
    "    model = Model(inputs=[X, s0, c0], outputs=outputs)\n",
    "    \n",
    "    ### END CODE HERE ###\n",
    "    \n",
    "    return model"
   ]
  },
  {
   "cell_type": "markdown",
   "metadata": {},
   "source": [
    "Run the following cell to create your model."
   ]
  },
  {
   "cell_type": "code",
   "execution_count": 40,
   "metadata": {},
   "outputs": [
    {
     "name": "stdout",
     "output_type": "stream",
     "text": [
      "Tensor(\"bidirection_4/concat:0\", shape=(?, ?, 64), dtype=float32)\n"
     ]
    }
   ],
   "source": [
    "model = model(Tx, Ty, n_a, n_s, len(human_vocab), len(machine_vocab))"
   ]
  },
  {
   "cell_type": "markdown",
   "metadata": {},
   "source": [
    "Let's get a summary of the model to check if it matches the expected output."
   ]
  },
  {
   "cell_type": "code",
   "execution_count": 45,
   "metadata": {},
   "outputs": [
    {
     "name": "stdout",
     "output_type": "stream",
     "text": [
      "__________________________________________________________________________________________________\n",
      "Layer (type)                    Output Shape         Param #     Connected to                     \n",
      "==================================================================================================\n",
      "s0 (InputLayer)                 (None, 64)           0                                            \n",
      "__________________________________________________________________________________________________\n",
      "input_9 (InputLayer)            (None, 30, 37)       0                                            \n",
      "__________________________________________________________________________________________________\n",
      "repeat_vector_2 (RepeatVector)  (None, 30, 64)       0           s0[0][0]                         \n",
      "                                                                 lstm_7[0][0]                     \n",
      "                                                                 lstm_7[1][0]                     \n",
      "                                                                 lstm_7[2][0]                     \n",
      "                                                                 lstm_7[3][0]                     \n",
      "                                                                 lstm_7[4][0]                     \n",
      "                                                                 lstm_7[5][0]                     \n",
      "                                                                 lstm_7[6][0]                     \n",
      "                                                                 lstm_7[7][0]                     \n",
      "                                                                 lstm_7[8][0]                     \n",
      "__________________________________________________________________________________________________\n",
      "bidirection (Bidirectional)     (None, 30, 64)       17920       input_9[0][0]                    \n",
      "__________________________________________________________________________________________________\n",
      "concatenate_2 (Concatenate)     (None, 30, 128)      0           repeat_vector_2[0][0]            \n",
      "                                                                 bidirection[0][0]                \n",
      "                                                                 repeat_vector_2[1][0]            \n",
      "                                                                 bidirection[0][0]                \n",
      "                                                                 repeat_vector_2[2][0]            \n",
      "                                                                 bidirection[0][0]                \n",
      "                                                                 repeat_vector_2[3][0]            \n",
      "                                                                 bidirection[0][0]                \n",
      "                                                                 repeat_vector_2[4][0]            \n",
      "                                                                 bidirection[0][0]                \n",
      "                                                                 repeat_vector_2[5][0]            \n",
      "                                                                 bidirection[0][0]                \n",
      "                                                                 repeat_vector_2[6][0]            \n",
      "                                                                 bidirection[0][0]                \n",
      "                                                                 repeat_vector_2[7][0]            \n",
      "                                                                 bidirection[0][0]                \n",
      "                                                                 repeat_vector_2[8][0]            \n",
      "                                                                 bidirection[0][0]                \n",
      "                                                                 repeat_vector_2[9][0]            \n",
      "                                                                 bidirection[0][0]                \n",
      "__________________________________________________________________________________________________\n",
      "dense_4 (Dense)                 (None, 30, 10)       1290        concatenate_2[0][0]              \n",
      "                                                                 concatenate_2[1][0]              \n",
      "                                                                 concatenate_2[2][0]              \n",
      "                                                                 concatenate_2[3][0]              \n",
      "                                                                 concatenate_2[4][0]              \n",
      "                                                                 concatenate_2[5][0]              \n",
      "                                                                 concatenate_2[6][0]              \n",
      "                                                                 concatenate_2[7][0]              \n",
      "                                                                 concatenate_2[8][0]              \n",
      "                                                                 concatenate_2[9][0]              \n",
      "__________________________________________________________________________________________________\n",
      "dense_5 (Dense)                 (None, 30, 1)        11          dense_4[0][0]                    \n",
      "                                                                 dense_4[1][0]                    \n",
      "                                                                 dense_4[2][0]                    \n",
      "                                                                 dense_4[3][0]                    \n",
      "                                                                 dense_4[4][0]                    \n",
      "                                                                 dense_4[5][0]                    \n",
      "                                                                 dense_4[6][0]                    \n",
      "                                                                 dense_4[7][0]                    \n",
      "                                                                 dense_4[8][0]                    \n",
      "                                                                 dense_4[9][0]                    \n",
      "__________________________________________________________________________________________________\n",
      "attention_weights (Activation)  (None, 30, 1)        0           dense_5[0][0]                    \n",
      "                                                                 dense_5[1][0]                    \n",
      "                                                                 dense_5[2][0]                    \n",
      "                                                                 dense_5[3][0]                    \n",
      "                                                                 dense_5[4][0]                    \n",
      "                                                                 dense_5[5][0]                    \n",
      "                                                                 dense_5[6][0]                    \n",
      "                                                                 dense_5[7][0]                    \n",
      "                                                                 dense_5[8][0]                    \n",
      "                                                                 dense_5[9][0]                    \n",
      "__________________________________________________________________________________________________\n",
      "dot_2 (Dot)                     (None, 1, 64)        0           attention_weights[0][0]          \n",
      "                                                                 bidirection[0][0]                \n",
      "                                                                 attention_weights[1][0]          \n",
      "                                                                 bidirection[0][0]                \n",
      "                                                                 attention_weights[2][0]          \n",
      "                                                                 bidirection[0][0]                \n",
      "                                                                 attention_weights[3][0]          \n",
      "                                                                 bidirection[0][0]                \n",
      "                                                                 attention_weights[4][0]          \n",
      "                                                                 bidirection[0][0]                \n",
      "                                                                 attention_weights[5][0]          \n",
      "                                                                 bidirection[0][0]                \n",
      "                                                                 attention_weights[6][0]          \n",
      "                                                                 bidirection[0][0]                \n",
      "                                                                 attention_weights[7][0]          \n",
      "                                                                 bidirection[0][0]                \n",
      "                                                                 attention_weights[8][0]          \n",
      "                                                                 bidirection[0][0]                \n",
      "                                                                 attention_weights[9][0]          \n",
      "                                                                 bidirection[0][0]                \n",
      "__________________________________________________________________________________________________\n",
      "c0 (InputLayer)                 (None, 64)           0                                            \n",
      "__________________________________________________________________________________________________\n",
      "lstm_7 (LSTM)                   [(None, 64), (None,  33024       dot_2[0][0]                      \n",
      "                                                                 s0[0][0]                         \n",
      "                                                                 c0[0][0]                         \n",
      "                                                                 dot_2[1][0]                      \n",
      "                                                                 lstm_7[0][0]                     \n",
      "                                                                 lstm_7[0][2]                     \n",
      "                                                                 dot_2[2][0]                      \n",
      "                                                                 lstm_7[1][0]                     \n",
      "                                                                 lstm_7[1][2]                     \n",
      "                                                                 dot_2[3][0]                      \n",
      "                                                                 lstm_7[2][0]                     \n",
      "                                                                 lstm_7[2][2]                     \n",
      "                                                                 dot_2[4][0]                      \n",
      "                                                                 lstm_7[3][0]                     \n",
      "                                                                 lstm_7[3][2]                     \n",
      "                                                                 dot_2[5][0]                      \n",
      "                                                                 lstm_7[4][0]                     \n",
      "                                                                 lstm_7[4][2]                     \n",
      "                                                                 dot_2[6][0]                      \n",
      "                                                                 lstm_7[5][0]                     \n",
      "                                                                 lstm_7[5][2]                     \n",
      "                                                                 dot_2[7][0]                      \n",
      "                                                                 lstm_7[6][0]                     \n",
      "                                                                 lstm_7[6][2]                     \n",
      "                                                                 dot_2[8][0]                      \n",
      "                                                                 lstm_7[7][0]                     \n",
      "                                                                 lstm_7[7][2]                     \n",
      "                                                                 dot_2[9][0]                      \n",
      "                                                                 lstm_7[8][0]                     \n",
      "                                                                 lstm_7[8][2]                     \n",
      "__________________________________________________________________________________________________\n",
      "dense_6 (Dense)                 (None, 11)           715         lstm_7[0][0]                     \n",
      "                                                                 lstm_7[1][0]                     \n",
      "                                                                 lstm_7[2][0]                     \n",
      "                                                                 lstm_7[3][0]                     \n",
      "                                                                 lstm_7[4][0]                     \n",
      "                                                                 lstm_7[5][0]                     \n",
      "                                                                 lstm_7[6][0]                     \n",
      "                                                                 lstm_7[7][0]                     \n",
      "                                                                 lstm_7[8][0]                     \n",
      "                                                                 lstm_7[9][0]                     \n",
      "==================================================================================================\n",
      "Total params: 52,960\n",
      "Trainable params: 52,960\n",
      "Non-trainable params: 0\n",
      "__________________________________________________________________________________________________\n"
     ]
    }
   ],
   "source": [
    "model.summary()"
   ]
  },
  {
   "cell_type": "markdown",
   "metadata": {},
   "source": [
    "**Expected Output**:\n",
    "\n",
    "Here is the summary you should see\n",
    "<table>\n",
    "    <tr>\n",
    "        <td>\n",
    "            **Total params:**\n",
    "        </td>\n",
    "        <td>\n",
    "         185,484\n",
    "        </td>\n",
    "    </tr>\n",
    "        <tr>\n",
    "        <td>\n",
    "            **Trainable params:**\n",
    "        </td>\n",
    "        <td>\n",
    "         185,484\n",
    "        </td>\n",
    "    </tr>\n",
    "            <tr>\n",
    "        <td>\n",
    "            **Non-trainable params:**\n",
    "        </td>\n",
    "        <td>\n",
    "         0\n",
    "        </td>\n",
    "    </tr>\n",
    "                    <tr>\n",
    "        <td>\n",
    "            **bidirectional_1's output shape **\n",
    "        </td>\n",
    "        <td>\n",
    "         (None, 30, 128)  \n",
    "        </td>\n",
    "    </tr>\n",
    "    <tr>\n",
    "        <td>\n",
    "            **repeat_vector_1's output shape **\n",
    "        </td>\n",
    "        <td>\n",
    "         (None, 30, 128)  \n",
    "        </td>\n",
    "    </tr>\n",
    "                <tr>\n",
    "        <td>\n",
    "            **concatenate_1's output shape **\n",
    "        </td>\n",
    "        <td>\n",
    "         (None, 30, 256) \n",
    "        </td>\n",
    "    </tr>\n",
    "            <tr>\n",
    "        <td>\n",
    "            **attention_weights's output shape **\n",
    "        </td>\n",
    "        <td>\n",
    "         (None, 30, 1)  \n",
    "        </td>\n",
    "    </tr>\n",
    "        <tr>\n",
    "        <td>\n",
    "            **dot_1's output shape **\n",
    "        </td>\n",
    "        <td>\n",
    "         (None, 1, 128) \n",
    "        </td>\n",
    "    </tr>\n",
    "           <tr>\n",
    "        <td>\n",
    "            **dense_2's output shape **\n",
    "        </td>\n",
    "        <td>\n",
    "         (None, 11) \n",
    "        </td>\n",
    "    </tr>\n",
    "</table>\n"
   ]
  },
  {
   "cell_type": "markdown",
   "metadata": {},
   "source": [
    "As usual, after creating your model in Keras, you need to compile it and define what loss, optimizer and metrics your are want to use. Compile your model using `categorical_crossentropy` loss, a custom [Adam](https://keras.io/optimizers/#adam) [optimizer](https://keras.io/optimizers/#usage-of-optimizers) (`learning rate = 0.005`, $\\beta_1 = 0.9$, $\\beta_2 = 0.999$, `decay = 0.01`)  and `['accuracy']` metrics:"
   ]
  },
  {
   "cell_type": "code",
   "execution_count": 46,
   "metadata": {
    "collapsed": true
   },
   "outputs": [],
   "source": [
    "### START CODE HERE ### (≈2 lines)\n",
    "opt = Adam(lr=0.005, beta_1=0.9, beta_2=0.999, decay=0.001)\n",
    "model.compile(loss='categorical_crossentropy', optimizer=opt, metrics=['accuracy'])\n",
    "### END CODE HERE ###"
   ]
  },
  {
   "cell_type": "markdown",
   "metadata": {},
   "source": [
    "The last step is to define all your inputs and outputs to fit the model:\n",
    "- You already have X of shape $(m = 10000, T_x = 30)$ containing the training examples.\n",
    "- You need to create `s0` and `c0` to initialize your `post_activation_LSTM_cell` with 0s.\n",
    "- Given the `model()` you coded, you need the \"outputs\" to be a list of 11 elements of shape (m, T_y). So that: `outputs[i][0], ..., outputs[i][Ty]` represent the true labels (characters) corresponding to the $i^{th}$ training example (`X[i]`). More generally, `outputs[i][j]` is the true label of the $j^{th}$ character in the $i^{th}$ training example."
   ]
  },
  {
   "cell_type": "code",
   "execution_count": 47,
   "metadata": {
    "collapsed": true
   },
   "outputs": [],
   "source": [
    "s0 = np.zeros((m, n_s))\n",
    "c0 = np.zeros((m, n_s))\n",
    "outputs = list(Yoh.swapaxes(0,1))"
   ]
  },
  {
   "cell_type": "markdown",
   "metadata": {},
   "source": [
    "Let's now fit the model and run it for one epoch."
   ]
  },
  {
   "cell_type": "code",
   "execution_count": 34,
   "metadata": {},
   "outputs": [
    {
     "name": "stdout",
     "output_type": "stream",
     "text": [
      "Epoch 1/1\n"
     ]
    },
    {
     "name": "stdout",
     "output_type": "stream",
     "text": [
      " 1600/10000 [===>..........................] - ETA: 12:55 - loss: 24.0782 - dense_2_loss_1: 2.3959 - dense_2_loss_2: 2.4137 - dense_2_loss_3: 2.4036 - dense_2_loss_4: 2.3981 - dense_2_loss_5: 2.4236 - dense_2_loss_6: 2.4230 - dense_2_loss_7: 2.3961 - dense_2_loss_8: 2.4320 - dense_2_loss_9: 2.4024 - dense_2_loss_10: 2.3897 - dense_2_acc_1: 0.0200 - dense_2_acc_2: 0.0000e+00 - dense_2_acc_3: 0.0000e+00 - dense_2_acc_4: 0.0700 - dense_2_acc_5: 0.0000e+00 - dense_2_acc_6: 0.0000e+00 - dense_2_acc_7: 0.0800 - dense_2_acc_8: 0.0000e+00 - dense_2_acc_9: 0.0000e+00 - dense_2_acc_10: 0.170 - ETA: 6:27 - loss: 23.8510 - dense_2_loss_1: 2.3928 - dense_2_loss_2: 2.3978 - dense_2_loss_3: 2.3970 - dense_2_loss_4: 2.4037 - dense_2_loss_5: 2.3570 - dense_2_loss_6: 2.3664 - dense_2_loss_7: 2.4064 - dense_2_loss_8: 2.3506 - dense_2_loss_9: 2.3780 - dense_2_loss_10: 2.4014 - dense_2_acc_1: 0.0100 - dense_2_acc_2: 0.0350 - dense_2_acc_3: 0.0250 - dense_2_acc_4: 0.0400 - dense_2_acc_5: 0.4400 - dense_2_acc_6: 0.0650 - dense_2_acc_7: 0.0400 - dense_2_acc_8: 0.4300 - dense_2_acc_9: 0.0200 - dense_2_acc_10: 0.0950                        - ETA: 4:18 - loss: 23.6271 - dense_2_loss_1: 2.3897 - dense_2_loss_2: 2.3855 - dense_2_loss_3: 2.3951 - dense_2_loss_4: 2.4111 - dense_2_loss_5: 2.2883 - dense_2_loss_6: 2.3059 - dense_2_loss_7: 2.4210 - dense_2_loss_8: 2.2651 - dense_2_loss_9: 2.3560 - dense_2_loss_10: 2.4094 - dense_2_acc_1: 0.0067 - dense_2_acc_2: 0.0400 - dense_2_acc_3: 0.0233 - dense_2_acc_4: 0.0300 - dense_2_acc_5: 0.6167 - dense_2_acc_6: 0.0533 - dense_2_acc_7: 0.0267 - dense_2_acc_8: 0.6100 - dense_2_acc_9: 0.0133 - dense_2_acc_10: 0.06 - ETA: 3:13 - loss: 23.3818 - dense_2_loss_1: 2.3858 - dense_2_loss_2: 2.3742 - dense_2_loss_3: 2.3955 - dense_2_loss_4: 2.4221 - dense_2_loss_5: 2.2025 - dense_2_loss_6: 2.2330 - dense_2_loss_7: 2.4424 - dense_2_loss_8: 2.1532 - dense_2_loss_9: 2.3341 - dense_2_loss_10: 2.4390 - dense_2_acc_1: 0.0050 - dense_2_acc_2: 0.0425 - dense_2_acc_3: 0.0200 - dense_2_acc_4: 0.0225 - dense_2_acc_5: 0.7100 - dense_2_acc_6: 0.0400 - dense_2_acc_7: 0.0200 - dense_2_acc_8: 0.7075 - dense_2_acc_9: 0.0100 - dense_2_acc_10: 0.04 - ETA: 2:34 - loss: 23.1100 - dense_2_loss_1: 2.3820 - dense_2_loss_2: 2.3578 - dense_2_loss_3: 2.3890 - dense_2_loss_4: 2.4345 - dense_2_loss_5: 2.0866 - dense_2_loss_6: 2.1447 - dense_2_loss_7: 2.4844 - dense_2_loss_8: 1.9963 - dense_2_loss_9: 2.3190 - dense_2_loss_10: 2.5157 - dense_2_acc_1: 0.0040 - dense_2_acc_2: 0.0360 - dense_2_acc_3: 0.0160 - dense_2_acc_4: 0.0180 - dense_2_acc_5: 0.7680 - dense_2_acc_6: 0.0320 - dense_2_acc_7: 0.0160 - dense_2_acc_8: 0.7660 - dense_2_acc_9: 0.0080 - dense_2_acc_10: 0.03 - ETA: 2:08 - loss: 23.0076 - dense_2_loss_1: 2.3727 - dense_2_loss_2: 2.3556 - dense_2_loss_3: 2.4070 - dense_2_loss_4: 2.4925 - dense_2_loss_5: 1.9461 - dense_2_loss_6: 2.0579 - dense_2_loss_7: 2.5822 - dense_2_loss_8: 1.8174 - dense_2_loss_9: 2.3353 - dense_2_loss_10: 2.6408 - dense_2_acc_1: 0.0033 - dense_2_acc_2: 0.0300 - dense_2_acc_3: 0.0133 - dense_2_acc_4: 0.0150 - dense_2_acc_5: 0.8067 - dense_2_acc_6: 0.0267 - dense_2_acc_7: 0.0133 - dense_2_acc_8: 0.8050 - dense_2_acc_9: 0.0067 - dense_2_acc_10: 0.03 - ETA: 1:49 - loss: 22.8685 - dense_2_loss_1: 2.3626 - dense_2_loss_2: 2.3485 - dense_2_loss_3: 2.4167 - dense_2_loss_4: 2.5171 - dense_2_loss_5: 1.8523 - dense_2_loss_6: 1.9919 - dense_2_loss_7: 2.6308 - dense_2_loss_8: 1.7032 - dense_2_loss_9: 2.3021 - dense_2_loss_10: 2.7433 - dense_2_acc_1: 0.0029 - dense_2_acc_2: 0.0400 - dense_2_acc_3: 0.0114 - dense_2_acc_4: 0.0129 - dense_2_acc_5: 0.8343 - dense_2_acc_6: 0.0229 - dense_2_acc_7: 0.0114 - dense_2_acc_8: 0.8329 - dense_2_acc_9: 0.0057 - dense_2_acc_10: 0.02 - ETA: 1:35 - loss: 22.7136 - dense_2_loss_1: 2.3550 - dense_2_loss_2: 2.3294 - dense_2_loss_3: 2.4055 - dense_2_loss_4: 2.5423 - dense_2_loss_5: 1.7993 - dense_2_loss_6: 1.9458 - dense_2_loss_7: 2.6500 - dense_2_loss_8: 1.6430 - dense_2_loss_9: 2.2669 - dense_2_loss_10: 2.7764 - dense_2_acc_1: 0.0025 - dense_2_acc_2: 0.0888 - dense_2_acc_3: 0.0200 - dense_2_acc_4: 0.0112 - dense_2_acc_5: 0.8550 - dense_2_acc_6: 0.0200 - dense_2_acc_7: 0.0100 - dense_2_acc_8: 0.8538 - dense_2_acc_9: 0.0050 - dense_2_acc_10: 0.02 - ETA: 1:24 - loss: 22.5692 - dense_2_loss_1: 2.3487 - dense_2_loss_2: 2.3080 - dense_2_loss_3: 2.3878 - dense_2_loss_4: 2.5530 - dense_2_loss_5: 1.7773 - dense_2_loss_6: 1.9158 - dense_2_loss_7: 2.6399 - dense_2_loss_8: 1.6228 - dense_2_loss_9: 2.2358 - dense_2_loss_10: 2.7801 - dense_2_acc_1: 0.0022 - dense_2_acc_2: 0.1356 - dense_2_acc_3: 0.0478 - dense_2_acc_4: 0.0167 - dense_2_acc_5: 0.8711 - dense_2_acc_6: 0.0178 - dense_2_acc_7: 0.0089 - dense_2_acc_8: 0.8700 - dense_2_acc_9: 0.0044 - dense_2_acc_10: 0.02 - ETA: 1:16 - loss: 22.4704 - dense_2_loss_1: 2.3397 - dense_2_loss_2: 2.2945 - dense_2_loss_3: 2.3785 - dense_2_loss_4: 2.5532 - dense_2_loss_5: 1.7686 - dense_2_loss_6: 1.8946 - dense_2_loss_7: 2.6322 - dense_2_loss_8: 1.6199 - dense_2_loss_9: 2.2016 - dense_2_loss_10: 2.7876 - dense_2_acc_1: 0.0020 - dense_2_acc_2: 0.1620 - dense_2_acc_3: 0.0630 - dense_2_acc_4: 0.0260 - dense_2_acc_5: 0.8280 - dense_2_acc_6: 0.0170 - dense_2_acc_7: 0.0080 - dense_2_acc_8: 0.8830 - dense_2_acc_9: 0.0040 - dense_2_acc_10: 0.01 - ETA: 1:08 - loss: 22.3956 - dense_2_loss_1: 2.3313 - dense_2_loss_2: 2.2789 - dense_2_loss_3: 2.3703 - dense_2_loss_4: 2.5590 - dense_2_loss_5: 1.7637 - dense_2_loss_6: 1.8789 - dense_2_loss_7: 2.6337 - dense_2_loss_8: 1.6217 - dense_2_loss_9: 2.1699 - dense_2_loss_10: 2.7881 - dense_2_acc_1: 0.0018 - dense_2_acc_2: 0.1864 - dense_2_acc_3: 0.0736 - dense_2_acc_4: 0.0382 - dense_2_acc_5: 0.7891 - dense_2_acc_6: 0.0164 - dense_2_acc_7: 0.0073 - dense_2_acc_8: 0.8936 - dense_2_acc_9: 0.0036 - dense_2_acc_10: 0.01 - ETA: 1:02 - loss: 22.3126 - dense_2_loss_1: 2.3218 - dense_2_loss_2: 2.2636 - dense_2_loss_3: 2.3658 - dense_2_loss_4: 2.5581 - dense_2_loss_5: 1.7558 - dense_2_loss_6: 1.8647 - dense_2_loss_7: 2.6324 - dense_2_loss_8: 1.6193 - dense_2_loss_9: 2.1407 - dense_2_loss_10: 2.7903 - dense_2_acc_1: 0.0017 - dense_2_acc_2: 0.2025 - dense_2_acc_3: 0.0850 - dense_2_acc_4: 0.0475 - dense_2_acc_5: 0.7742 - dense_2_acc_6: 0.0150 - dense_2_acc_7: 0.0067 - dense_2_acc_8: 0.9025 - dense_2_acc_9: 0.0033 - dense_2_acc_10: 0.01 - ETA: 57s - loss: 22.2397 - dense_2_loss_1: 2.3131 - dense_2_loss_2: 2.2457 - dense_2_loss_3: 2.3618 - dense_2_loss_4: 2.5658 - dense_2_loss_5: 1.7448 - dense_2_loss_6: 1.8491 - dense_2_loss_7: 2.6423 - dense_2_loss_8: 1.6120 - dense_2_loss_9: 2.1181 - dense_2_loss_10: 2.7869 - dense_2_acc_1: 0.0015 - dense_2_acc_2: 0.2177 - dense_2_acc_3: 0.0969 - dense_2_acc_4: 0.0515 - dense_2_acc_5: 0.7615 - dense_2_acc_6: 0.0138 - dense_2_acc_7: 0.0062 - dense_2_acc_8: 0.9100 - dense_2_acc_9: 0.0031 - dense_2_acc_10: 0.0146 - ETA: 53s - loss: 22.1657 - dense_2_loss_1: 2.3042 - dense_2_loss_2: 2.2275 - dense_2_loss_3: 2.3594 - dense_2_loss_4: 2.5797 - dense_2_loss_5: 1.7301 - dense_2_loss_6: 1.8346 - dense_2_loss_7: 2.6407 - dense_2_loss_8: 1.5990 - dense_2_loss_9: 2.0999 - dense_2_loss_10: 2.7904 - dense_2_acc_1: 0.0014 - dense_2_acc_2: 0.2264 - dense_2_acc_3: 0.1021 - dense_2_acc_4: 0.0579 - dense_2_acc_5: 0.7493 - dense_2_acc_6: 0.0129 - dense_2_acc_7: 0.0057 - dense_2_acc_8: 0.9164 - dense_2_acc_9: 0.0029 - dense_2_acc_10: 0.013 - ETA: 49s - loss: 22.1039 - dense_2_loss_1: 2.2966 - dense_2_loss_2: 2.2060 - dense_2_loss_3: 2.3563 - dense_2_loss_4: 2.5970 - dense_2_loss_5: 1.7136 - dense_2_loss_6: 1.8163 - dense_2_loss_7: 2.6500 - dense_2_loss_8: 1.5826 - dense_2_loss_9: 2.0839 - dense_2_loss_10: 2.8015 - dense_2_acc_1: 0.0013 - dense_2_acc_2: 0.2347 - dense_2_acc_3: 0.1087 - dense_2_acc_4: 0.0600 - dense_2_acc_5: 0.7127 - dense_2_acc_6: 0.0127 - dense_2_acc_7: 0.0053 - dense_2_acc_8: 0.9220 - dense_2_acc_9: 0.0027 - dense_2_acc_10: 0.012 - ETA: 46s - loss: 22.0635 - dense_2_loss_1: 2.2894 - dense_2_loss_2: 2.1836 - dense_2_loss_3: 2.3533 - dense_2_loss_4: 2.6172 - dense_2_loss_5: 1.6967 - dense_2_loss_6: 1.7965 - dense_2_loss_7: 2.6726 - dense_2_loss_8: 1.5646 - dense_2_loss_9: 2.0802 - dense_2_loss_10: 2.8095 - dense_2_acc_1: 0.0012 - dense_2_acc_2: 0.2406 - dense_2_acc_3: 0.1138 - dense_2_acc_4: 0.0625 - dense_2_acc_5: 0.6719 - dense_2_acc_6: 0.0169 - dense_2_acc_7: 0.0050 - dense_2_acc_8: 0.9269 - dense_2_acc_9: 0.0025 - dense_2_acc_10: 0.011 3200/10000 [========>.....................] - ETA: 43s - loss: 21.9922 - dense_2_loss_1: 2.2854 - dense_2_loss_2: 2.1589 - dense_2_loss_3: 2.3465 - dense_2_loss_4: 2.6290 - dense_2_loss_5: 1.6793 - dense_2_loss_6: 1.7824 - dense_2_loss_7: 2.6781 - dense_2_loss_8: 1.5458 - dense_2_loss_9: 2.0754 - dense_2_loss_10: 2.8113 - dense_2_acc_1: 0.0012 - dense_2_acc_2: 0.2494 - dense_2_acc_3: 0.1171 - dense_2_acc_4: 0.0659 - dense_2_acc_5: 0.6535 - dense_2_acc_6: 0.0159 - dense_2_acc_7: 0.0047 - dense_2_acc_8: 0.9312 - dense_2_acc_9: 0.0024 - dense_2_acc_10: 0.011 - ETA: 40s - loss: 21.9336 - dense_2_loss_1: 2.2798 - dense_2_loss_2: 2.1368 - dense_2_loss_3: 2.3440 - dense_2_loss_4: 2.6468 - dense_2_loss_5: 1.6618 - dense_2_loss_6: 1.7722 - dense_2_loss_7: 2.6796 - dense_2_loss_8: 1.5273 - dense_2_loss_9: 2.0744 - dense_2_loss_10: 2.8108 - dense_2_acc_1: 0.0011 - dense_2_acc_2: 0.2533 - dense_2_acc_3: 0.1228 - dense_2_acc_4: 0.0672 - dense_2_acc_5: 0.6689 - dense_2_acc_6: 0.0150 - dense_2_acc_7: 0.0044 - dense_2_acc_8: 0.9350 - dense_2_acc_9: 0.0022 - dense_2_acc_10: 0.010 - ETA: 38s - loss: 21.8702 - dense_2_loss_1: 2.2752 - dense_2_loss_2: 2.1155 - dense_2_loss_3: 2.3302 - dense_2_loss_4: 2.6558 - dense_2_loss_5: 1.6442 - dense_2_loss_6: 1.7669 - dense_2_loss_7: 2.6889 - dense_2_loss_8: 1.5099 - dense_2_loss_9: 2.0748 - dense_2_loss_10: 2.8088 - dense_2_acc_1: 0.0011 - dense_2_acc_2: 0.2579 - dense_2_acc_3: 0.1295 - dense_2_acc_4: 0.0716 - dense_2_acc_5: 0.6863 - dense_2_acc_6: 0.0142 - dense_2_acc_7: 0.0042 - dense_2_acc_8: 0.9384 - dense_2_acc_9: 0.0021 - dense_2_acc_10: 0.010 - ETA: 36s - loss: 21.8155 - dense_2_loss_1: 2.2713 - dense_2_loss_2: 2.0948 - dense_2_loss_3: 2.3231 - dense_2_loss_4: 2.6634 - dense_2_loss_5: 1.6281 - dense_2_loss_6: 1.7648 - dense_2_loss_7: 2.6952 - dense_2_loss_8: 1.4954 - dense_2_loss_9: 2.0720 - dense_2_loss_10: 2.8075 - dense_2_acc_1: 1.0000e-03 - dense_2_acc_2: 0.2625 - dense_2_acc_3: 0.1315 - dense_2_acc_4: 0.0715 - dense_2_acc_5: 0.7020 - dense_2_acc_6: 0.0135 - dense_2_acc_7: 0.0040 - dense_2_acc_8: 0.9415 - dense_2_acc_9: 0.0020 - dense_2_acc_10: 0.009 - ETA: 34s - loss: 21.7705 - dense_2_loss_1: 2.2687 - dense_2_loss_2: 2.0736 - dense_2_loss_3: 2.3164 - dense_2_loss_4: 2.6762 - dense_2_loss_5: 1.6147 - dense_2_loss_6: 1.7628 - dense_2_loss_7: 2.6936 - dense_2_loss_8: 1.4851 - dense_2_loss_9: 2.0726 - dense_2_loss_10: 2.8067 - dense_2_acc_1: 9.5238e-04 - dense_2_acc_2: 0.2681 - dense_2_acc_3: 0.1367 - dense_2_acc_4: 0.0729 - dense_2_acc_5: 0.7162 - dense_2_acc_6: 0.0129 - dense_2_acc_7: 0.0038 - dense_2_acc_8: 0.9443 - dense_2_acc_9: 0.0019 - dense_2_acc_10: 0.009 - ETA: 32s - loss: 21.7281 - dense_2_loss_1: 2.2669 - dense_2_loss_2: 2.0520 - dense_2_loss_3: 2.3111 - dense_2_loss_4: 2.6849 - dense_2_loss_5: 1.6046 - dense_2_loss_6: 1.7581 - dense_2_loss_7: 2.6973 - dense_2_loss_8: 1.4792 - dense_2_loss_9: 2.0706 - dense_2_loss_10: 2.8035 - dense_2_acc_1: 9.0909e-04 - dense_2_acc_2: 0.2736 - dense_2_acc_3: 0.1400 - dense_2_acc_4: 0.0750 - dense_2_acc_5: 0.7291 - dense_2_acc_6: 0.0123 - dense_2_acc_7: 0.0036 - dense_2_acc_8: 0.9468 - dense_2_acc_9: 0.0018 - dense_2_acc_10: 0.008 - ETA: 31s - loss: 21.6807 - dense_2_loss_1: 2.2650 - dense_2_loss_2: 2.0295 - dense_2_loss_3: 2.3017 - dense_2_loss_4: 2.7012 - dense_2_loss_5: 1.5965 - dense_2_loss_6: 1.7528 - dense_2_loss_7: 2.6945 - dense_2_loss_8: 1.4755 - dense_2_loss_9: 2.0664 - dense_2_loss_10: 2.7976 - dense_2_acc_1: 8.6957e-04 - dense_2_acc_2: 0.2791 - dense_2_acc_3: 0.1439 - dense_2_acc_4: 0.0743 - dense_2_acc_5: 0.7243 - dense_2_acc_6: 0.0117 - dense_2_acc_7: 0.0035 - dense_2_acc_8: 0.9491 - dense_2_acc_9: 0.0017 - dense_2_acc_10: 0.008 - ETA: 29s - loss: 21.6271 - dense_2_loss_1: 2.2627 - dense_2_loss_2: 2.0059 - dense_2_loss_3: 2.2932 - dense_2_loss_4: 2.7079 - dense_2_loss_5: 1.5888 - dense_2_loss_6: 1.7461 - dense_2_loss_7: 2.6993 - dense_2_loss_8: 1.4716 - dense_2_loss_9: 2.0623 - dense_2_loss_10: 2.7893 - dense_2_acc_1: 8.3333e-04 - dense_2_acc_2: 0.2887 - dense_2_acc_3: 0.1446 - dense_2_acc_4: 0.0775 - dense_2_acc_5: 0.7104 - dense_2_acc_6: 0.0112 - dense_2_acc_7: 0.0033 - dense_2_acc_8: 0.9513 - dense_2_acc_9: 0.0017 - dense_2_acc_10: 0.007 - ETA: 28s - loss: 21.5709 - dense_2_loss_1: 2.2583 - dense_2_loss_2: 1.9804 - dense_2_loss_3: 2.2837 - dense_2_loss_4: 2.7215 - dense_2_loss_5: 1.5799 - dense_2_loss_6: 1.7400 - dense_2_loss_7: 2.6990 - dense_2_loss_8: 1.4653 - dense_2_loss_9: 2.0598 - dense_2_loss_10: 2.7830 - dense_2_acc_1: 8.0000e-04 - dense_2_acc_2: 0.3056 - dense_2_acc_3: 0.1468 - dense_2_acc_4: 0.0768 - dense_2_acc_5: 0.6968 - dense_2_acc_6: 0.0108 - dense_2_acc_7: 0.0032 - dense_2_acc_8: 0.9532 - dense_2_acc_9: 0.0016 - dense_2_acc_10: 0.007 - ETA: 27s - loss: 21.5089 - dense_2_loss_1: 2.2580 - dense_2_loss_2: 1.9548 - dense_2_loss_3: 2.2694 - dense_2_loss_4: 2.7325 - dense_2_loss_5: 1.5661 - dense_2_loss_6: 1.7395 - dense_2_loss_7: 2.6975 - dense_2_loss_8: 1.4539 - dense_2_loss_9: 2.0565 - dense_2_loss_10: 2.7807 - dense_2_acc_1: 7.6923e-04 - dense_2_acc_2: 0.3169 - dense_2_acc_3: 0.1538 - dense_2_acc_4: 0.0785 - dense_2_acc_5: 0.7085 - dense_2_acc_6: 0.0104 - dense_2_acc_7: 0.0031 - dense_2_acc_8: 0.9550 - dense_2_acc_9: 0.0015 - dense_2_acc_10: 0.007 - ETA: 25s - loss: 21.4597 - dense_2_loss_1: 2.2580 - dense_2_loss_2: 1.9305 - dense_2_loss_3: 2.2606 - dense_2_loss_4: 2.7443 - dense_2_loss_5: 1.5475 - dense_2_loss_6: 1.7413 - dense_2_loss_7: 2.7011 - dense_2_loss_8: 1.4428 - dense_2_loss_9: 2.0529 - dense_2_loss_10: 2.7805 - dense_2_acc_1: 7.4074e-04 - dense_2_acc_2: 0.3267 - dense_2_acc_3: 0.1581 - dense_2_acc_4: 0.0789 - dense_2_acc_5: 0.7193 - dense_2_acc_6: 0.0100 - dense_2_acc_7: 0.0030 - dense_2_acc_8: 0.9567 - dense_2_acc_9: 0.0015 - dense_2_acc_10: 0.007 - ETA: 24s - loss: 21.4094 - dense_2_loss_1: 2.2512 - dense_2_loss_2: 1.9057 - dense_2_loss_3: 2.2551 - dense_2_loss_4: 2.7547 - dense_2_loss_5: 1.5291 - dense_2_loss_6: 1.7430 - dense_2_loss_7: 2.7075 - dense_2_loss_8: 1.4380 - dense_2_loss_9: 2.0477 - dense_2_loss_10: 2.7775 - dense_2_acc_1: 7.1429e-04 - dense_2_acc_2: 0.3404 - dense_2_acc_3: 0.1611 - dense_2_acc_4: 0.0800 - dense_2_acc_5: 0.7293 - dense_2_acc_6: 0.0096 - dense_2_acc_7: 0.0029 - dense_2_acc_8: 0.9582 - dense_2_acc_9: 0.0014 - dense_2_acc_10: 0.006 - ETA: 23s - loss: 21.3622 - dense_2_loss_1: 2.2509 - dense_2_loss_2: 1.8833 - dense_2_loss_3: 2.2423 - dense_2_loss_4: 2.7662 - dense_2_loss_5: 1.5141 - dense_2_loss_6: 1.7395 - dense_2_loss_7: 2.7115 - dense_2_loss_8: 1.4394 - dense_2_loss_9: 2.0399 - dense_2_loss_10: 2.7752 - dense_2_acc_1: 6.8966e-04 - dense_2_acc_2: 0.3483 - dense_2_acc_3: 0.1672 - dense_2_acc_4: 0.0800 - dense_2_acc_5: 0.7386 - dense_2_acc_6: 0.0093 - dense_2_acc_7: 0.0028 - dense_2_acc_8: 0.9597 - dense_2_acc_9: 0.0055 - dense_2_acc_10: 0.009 - ETA: 22s - loss: 21.3090 - dense_2_loss_1: 2.2462 - dense_2_loss_2: 1.8593 - dense_2_loss_3: 2.2340 - dense_2_loss_4: 2.7750 - dense_2_loss_5: 1.5033 - dense_2_loss_6: 1.7308 - dense_2_loss_7: 2.7158 - dense_2_loss_8: 1.4436 - dense_2_loss_9: 2.0321 - dense_2_loss_10: 2.7689 - dense_2_acc_1: 6.6667e-04 - dense_2_acc_2: 0.3587 - dense_2_acc_3: 0.1707 - dense_2_acc_4: 0.0820 - dense_2_acc_5: 0.7317 - dense_2_acc_6: 0.0160 - dense_2_acc_7: 0.0027 - dense_2_acc_8: 0.9423 - dense_2_acc_9: 0.0150 - dense_2_acc_10: 0.013 - ETA: 21s - loss: 21.2600 - dense_2_loss_1: 2.2434 - dense_2_loss_2: 1.8374 - dense_2_loss_3: 2.2219 - dense_2_loss_4: 2.7896 - dense_2_loss_5: 1.4909 - dense_2_loss_6: 1.7275 - dense_2_loss_7: 2.7152 - dense_2_loss_8: 1.4429 - dense_2_loss_9: 2.0266 - dense_2_loss_10: 2.7646 - dense_2_acc_1: 6.4516e-04 - dense_2_acc_2: 0.3671 - dense_2_acc_3: 0.1748 - dense_2_acc_4: 0.0813 - dense_2_acc_5: 0.7355 - dense_2_acc_6: 0.0165 - dense_2_acc_7: 0.0026 - dense_2_acc_8: 0.9377 - dense_2_acc_9: 0.0190 - dense_2_acc_10: 0.016 - ETA: 21s - loss: 21.2071 - dense_2_loss_1: 2.2401 - dense_2_loss_2: 1.8182 - dense_2_loss_3: 2.2084 - dense_2_loss_4: 2.7981 - dense_2_loss_5: 1.4739 - dense_2_loss_6: 1.7294 - dense_2_loss_7: 2.7169 - dense_2_loss_8: 1.4385 - dense_2_loss_9: 2.0207 - dense_2_loss_10: 2.7629 - dense_2_acc_1: 6.2500e-04 - dense_2_acc_2: 0.3744 - dense_2_acc_3: 0.1797 - dense_2_acc_4: 0.0803 - dense_2_acc_5: 0.7438 - dense_2_acc_6: 0.0159 - dense_2_acc_7: 0.0025 - dense_2_acc_8: 0.9397 - dense_2_acc_9: 0.0194 - dense_2_acc_10: 0.0191 4800/10000 [=============>................] - ETA: 20s - loss: 21.1532 - dense_2_loss_1: 2.2314 - dense_2_loss_2: 1.7976 - dense_2_loss_3: 2.1983 - dense_2_loss_4: 2.8079 - dense_2_loss_5: 1.4563 - dense_2_loss_6: 1.7331 - dense_2_loss_7: 2.7202 - dense_2_loss_8: 1.4347 - dense_2_loss_9: 2.0172 - dense_2_loss_10: 2.7564 - dense_2_acc_1: 6.0606e-04 - dense_2_acc_2: 0.3839 - dense_2_acc_3: 0.1839 - dense_2_acc_4: 0.0779 - dense_2_acc_5: 0.7515 - dense_2_acc_6: 0.0155 - dense_2_acc_7: 0.0024 - dense_2_acc_8: 0.9415 - dense_2_acc_9: 0.0245 - dense_2_acc_10: 0.022 - ETA: 19s - loss: 21.0957 - dense_2_loss_1: 2.2230 - dense_2_loss_2: 1.7775 - dense_2_loss_3: 2.1862 - dense_2_loss_4: 2.8173 - dense_2_loss_5: 1.4414 - dense_2_loss_6: 1.7340 - dense_2_loss_7: 2.7186 - dense_2_loss_8: 1.4304 - dense_2_loss_9: 2.0127 - dense_2_loss_10: 2.7545 - dense_2_acc_1: 5.8824e-04 - dense_2_acc_2: 0.3921 - dense_2_acc_3: 0.1894 - dense_2_acc_4: 0.0765 - dense_2_acc_5: 0.7588 - dense_2_acc_6: 0.0150 - dense_2_acc_7: 0.0024 - dense_2_acc_8: 0.9426 - dense_2_acc_9: 0.0265 - dense_2_acc_10: 0.025 - ETA: 18s - loss: 21.0417 - dense_2_loss_1: 2.2170 - dense_2_loss_2: 1.7597 - dense_2_loss_3: 2.1763 - dense_2_loss_4: 2.8184 - dense_2_loss_5: 1.4306 - dense_2_loss_6: 1.7281 - dense_2_loss_7: 2.7238 - dense_2_loss_8: 1.4288 - dense_2_loss_9: 2.0057 - dense_2_loss_10: 2.7534 - dense_2_acc_1: 5.7143e-04 - dense_2_acc_2: 0.3977 - dense_2_acc_3: 0.1920 - dense_2_acc_4: 0.0771 - dense_2_acc_5: 0.7597 - dense_2_acc_6: 0.0197 - dense_2_acc_7: 0.0023 - dense_2_acc_8: 0.9334 - dense_2_acc_9: 0.0331 - dense_2_acc_10: 0.026 - ETA: 18s - loss: 20.9847 - dense_2_loss_1: 2.2037 - dense_2_loss_2: 1.7411 - dense_2_loss_3: 2.1661 - dense_2_loss_4: 2.8237 - dense_2_loss_5: 1.4191 - dense_2_loss_6: 1.7243 - dense_2_loss_7: 2.7255 - dense_2_loss_8: 1.4289 - dense_2_loss_9: 2.0011 - dense_2_loss_10: 2.7512 - dense_2_acc_1: 5.5556e-04 - dense_2_acc_2: 0.4067 - dense_2_acc_3: 0.1950 - dense_2_acc_4: 0.0769 - dense_2_acc_5: 0.7644 - dense_2_acc_6: 0.0197 - dense_2_acc_7: 0.0025 - dense_2_acc_8: 0.9292 - dense_2_acc_9: 0.0417 - dense_2_acc_10: 0.029 - ETA: 17s - loss: 20.9294 - dense_2_loss_1: 2.1908 - dense_2_loss_2: 1.7237 - dense_2_loss_3: 2.1556 - dense_2_loss_4: 2.8301 - dense_2_loss_5: 1.4053 - dense_2_loss_6: 1.7219 - dense_2_loss_7: 2.7303 - dense_2_loss_8: 1.4272 - dense_2_loss_9: 1.9960 - dense_2_loss_10: 2.7486 - dense_2_acc_1: 0.0011 - dense_2_acc_2: 0.4141 - dense_2_acc_3: 0.1978 - dense_2_acc_4: 0.0765 - dense_2_acc_5: 0.7708 - dense_2_acc_6: 0.0192 - dense_2_acc_7: 0.0024 - dense_2_acc_8: 0.9284 - dense_2_acc_9: 0.0489 - dense_2_acc_10: 0.0324    - ETA: 16s - loss: 20.8593 - dense_2_loss_1: 2.1753 - dense_2_loss_2: 1.7059 - dense_2_loss_3: 2.1434 - dense_2_loss_4: 2.8351 - dense_2_loss_5: 1.3892 - dense_2_loss_6: 1.7224 - dense_2_loss_7: 2.7334 - dense_2_loss_8: 1.4204 - dense_2_loss_9: 1.9903 - dense_2_loss_10: 2.7439 - dense_2_acc_1: 0.0089 - dense_2_acc_2: 0.4224 - dense_2_acc_3: 0.2021 - dense_2_acc_4: 0.0747 - dense_2_acc_5: 0.7768 - dense_2_acc_6: 0.0187 - dense_2_acc_7: 0.0024 - dense_2_acc_8: 0.9303 - dense_2_acc_9: 0.0555 - dense_2_acc_10: 0.035 - ETA: 16s - loss: 20.8042 - dense_2_loss_1: 2.1665 - dense_2_loss_2: 1.6911 - dense_2_loss_3: 2.1310 - dense_2_loss_4: 2.8382 - dense_2_loss_5: 1.3733 - dense_2_loss_6: 1.7212 - dense_2_loss_7: 2.7430 - dense_2_loss_8: 1.4121 - dense_2_loss_9: 1.9852 - dense_2_loss_10: 2.7426 - dense_2_acc_1: 0.0164 - dense_2_acc_2: 0.4264 - dense_2_acc_3: 0.2069 - dense_2_acc_4: 0.0738 - dense_2_acc_5: 0.7826 - dense_2_acc_6: 0.0182 - dense_2_acc_7: 0.0023 - dense_2_acc_8: 0.9321 - dense_2_acc_9: 0.0590 - dense_2_acc_10: 0.037 - ETA: 15s - loss: 20.7456 - dense_2_loss_1: 2.1523 - dense_2_loss_2: 1.6741 - dense_2_loss_3: 2.1192 - dense_2_loss_4: 2.8427 - dense_2_loss_5: 1.3604 - dense_2_loss_6: 1.7185 - dense_2_loss_7: 2.7494 - dense_2_loss_8: 1.4074 - dense_2_loss_9: 1.9808 - dense_2_loss_10: 2.7407 - dense_2_acc_1: 0.0318 - dense_2_acc_2: 0.4323 - dense_2_acc_3: 0.2115 - dense_2_acc_4: 0.0730 - dense_2_acc_5: 0.7880 - dense_2_acc_6: 0.0177 - dense_2_acc_7: 0.0022 - dense_2_acc_8: 0.9333 - dense_2_acc_9: 0.0675 - dense_2_acc_10: 0.039 - ETA: 15s - loss: 20.6853 - dense_2_loss_1: 2.1393 - dense_2_loss_2: 1.6568 - dense_2_loss_3: 2.1091 - dense_2_loss_4: 2.8452 - dense_2_loss_5: 1.3507 - dense_2_loss_6: 1.7109 - dense_2_loss_7: 2.7554 - dense_2_loss_8: 1.4068 - dense_2_loss_9: 1.9763 - dense_2_loss_10: 2.7348 - dense_2_acc_1: 0.0456 - dense_2_acc_2: 0.4371 - dense_2_acc_3: 0.2151 - dense_2_acc_4: 0.0739 - dense_2_acc_5: 0.7878 - dense_2_acc_6: 0.0229 - dense_2_acc_7: 0.0022 - dense_2_acc_8: 0.9271 - dense_2_acc_9: 0.0739 - dense_2_acc_10: 0.042 - ETA: 14s - loss: 20.6285 - dense_2_loss_1: 2.1283 - dense_2_loss_2: 1.6415 - dense_2_loss_3: 2.1005 - dense_2_loss_4: 2.8463 - dense_2_loss_5: 1.3405 - dense_2_loss_6: 1.7019 - dense_2_loss_7: 2.7606 - dense_2_loss_8: 1.4074 - dense_2_loss_9: 1.9731 - dense_2_loss_10: 2.7285 - dense_2_acc_1: 0.0574 - dense_2_acc_2: 0.4419 - dense_2_acc_3: 0.2183 - dense_2_acc_4: 0.0745 - dense_2_acc_5: 0.7871 - dense_2_acc_6: 0.0288 - dense_2_acc_7: 0.0021 - dense_2_acc_8: 0.9207 - dense_2_acc_9: 0.0805 - dense_2_acc_10: 0.044 - ETA: 14s - loss: 20.5588 - dense_2_loss_1: 2.1131 - dense_2_loss_2: 1.6266 - dense_2_loss_3: 2.0891 - dense_2_loss_4: 2.8494 - dense_2_loss_5: 1.3276 - dense_2_loss_6: 1.6984 - dense_2_loss_7: 2.7622 - dense_2_loss_8: 1.4016 - dense_2_loss_9: 1.9679 - dense_2_loss_10: 2.7228 - dense_2_acc_1: 0.0709 - dense_2_acc_2: 0.4470 - dense_2_acc_3: 0.2221 - dense_2_acc_4: 0.0733 - dense_2_acc_5: 0.7921 - dense_2_acc_6: 0.0281 - dense_2_acc_7: 0.0021 - dense_2_acc_8: 0.9226 - dense_2_acc_9: 0.0860 - dense_2_acc_10: 0.047 - ETA: 13s - loss: 20.4901 - dense_2_loss_1: 2.0958 - dense_2_loss_2: 1.6111 - dense_2_loss_3: 2.0762 - dense_2_loss_4: 2.8484 - dense_2_loss_5: 1.3149 - dense_2_loss_6: 1.6921 - dense_2_loss_7: 2.7748 - dense_2_loss_8: 1.3938 - dense_2_loss_9: 1.9628 - dense_2_loss_10: 2.7203 - dense_2_acc_1: 0.0845 - dense_2_acc_2: 0.4541 - dense_2_acc_3: 0.2264 - dense_2_acc_4: 0.0727 - dense_2_acc_5: 0.7968 - dense_2_acc_6: 0.0275 - dense_2_acc_7: 0.0020 - dense_2_acc_8: 0.9243 - dense_2_acc_9: 0.0898 - dense_2_acc_10: 0.049 - ETA: 13s - loss: 20.4294 - dense_2_loss_1: 2.0802 - dense_2_loss_2: 1.5966 - dense_2_loss_3: 2.0648 - dense_2_loss_4: 2.8481 - dense_2_loss_5: 1.3042 - dense_2_loss_6: 1.6856 - dense_2_loss_7: 2.7815 - dense_2_loss_8: 1.3913 - dense_2_loss_9: 1.9567 - dense_2_loss_10: 2.7204 - dense_2_acc_1: 0.0962 - dense_2_acc_2: 0.4604 - dense_2_acc_3: 0.2296 - dense_2_acc_4: 0.0731 - dense_2_acc_5: 0.8002 - dense_2_acc_6: 0.0276 - dense_2_acc_7: 0.0020 - dense_2_acc_8: 0.9236 - dense_2_acc_9: 0.0976 - dense_2_acc_10: 0.050 - ETA: 12s - loss: 20.3787 - dense_2_loss_1: 2.0666 - dense_2_loss_2: 1.5822 - dense_2_loss_3: 2.0568 - dense_2_loss_4: 2.8481 - dense_2_loss_5: 1.2954 - dense_2_loss_6: 1.6761 - dense_2_loss_7: 2.7959 - dense_2_loss_8: 1.3877 - dense_2_loss_9: 1.9511 - dense_2_loss_10: 2.7188 - dense_2_acc_1: 0.1059 - dense_2_acc_2: 0.4689 - dense_2_acc_3: 0.2315 - dense_2_acc_4: 0.0735 - dense_2_acc_5: 0.8002 - dense_2_acc_6: 0.0337 - dense_2_acc_7: 0.0024 - dense_2_acc_8: 0.9237 - dense_2_acc_9: 0.1041 - dense_2_acc_10: 0.052 - ETA: 12s - loss: 20.3108 - dense_2_loss_1: 2.0483 - dense_2_loss_2: 1.5678 - dense_2_loss_3: 2.0460 - dense_2_loss_4: 2.8429 - dense_2_loss_5: 1.2861 - dense_2_loss_6: 1.6706 - dense_2_loss_7: 2.7970 - dense_2_loss_8: 1.3929 - dense_2_loss_9: 1.9457 - dense_2_loss_10: 2.7137 - dense_2_acc_1: 0.1179 - dense_2_acc_2: 0.4774 - dense_2_acc_3: 0.2353 - dense_2_acc_4: 0.0743 - dense_2_acc_5: 0.8034 - dense_2_acc_6: 0.0332 - dense_2_acc_7: 0.0023 - dense_2_acc_8: 0.9089 - dense_2_acc_9: 0.1106 - dense_2_acc_10: 0.054 - ETA: 11s - loss: 20.2474 - dense_2_loss_1: 2.0298 - dense_2_loss_2: 1.5521 - dense_2_loss_3: 2.0361 - dense_2_loss_4: 2.8434 - dense_2_loss_5: 1.2764 - dense_2_loss_6: 1.6679 - dense_2_loss_7: 2.8014 - dense_2_loss_8: 1.3879 - dense_2_loss_9: 1.9441 - dense_2_loss_10: 2.7084 - dense_2_acc_1: 0.1290 - dense_2_acc_2: 0.4831 - dense_2_acc_3: 0.2375 - dense_2_acc_4: 0.0744 - dense_2_acc_5: 0.8075 - dense_2_acc_6: 0.0325 - dense_2_acc_7: 0.0031 - dense_2_acc_8: 0.9102 - dense_2_acc_9: 0.1142 - dense_2_acc_10: 0.0571"
     ]
    },
    {
     "name": "stdout",
     "output_type": "stream",
     "text": [
      " 6400/10000 [==================>...........] - ETA: 11s - loss: 20.1767 - dense_2_loss_1: 2.0132 - dense_2_loss_2: 1.5377 - dense_2_loss_3: 2.0243 - dense_2_loss_4: 2.8445 - dense_2_loss_5: 1.2634 - dense_2_loss_6: 1.6637 - dense_2_loss_7: 2.8056 - dense_2_loss_8: 1.3807 - dense_2_loss_9: 1.9400 - dense_2_loss_10: 2.7035 - dense_2_acc_1: 0.1384 - dense_2_acc_2: 0.4904 - dense_2_acc_3: 0.2410 - dense_2_acc_4: 0.0737 - dense_2_acc_5: 0.8114 - dense_2_acc_6: 0.0318 - dense_2_acc_7: 0.0031 - dense_2_acc_8: 0.9120 - dense_2_acc_9: 0.1198 - dense_2_acc_10: 0.059 - ETA: 11s - loss: 20.1144 - dense_2_loss_1: 1.9965 - dense_2_loss_2: 1.5231 - dense_2_loss_3: 2.0127 - dense_2_loss_4: 2.8472 - dense_2_loss_5: 1.2522 - dense_2_loss_6: 1.6581 - dense_2_loss_7: 2.8116 - dense_2_loss_8: 1.3730 - dense_2_loss_9: 1.9360 - dense_2_loss_10: 2.7039 - dense_2_acc_1: 0.1470 - dense_2_acc_2: 0.4992 - dense_2_acc_3: 0.2448 - dense_2_acc_4: 0.0730 - dense_2_acc_5: 0.8152 - dense_2_acc_6: 0.0312 - dense_2_acc_7: 0.0030 - dense_2_acc_8: 0.9138 - dense_2_acc_9: 0.1228 - dense_2_acc_10: 0.059 - ETA: 10s - loss: 20.0448 - dense_2_loss_1: 1.9779 - dense_2_loss_2: 1.5083 - dense_2_loss_3: 2.0036 - dense_2_loss_4: 2.8461 - dense_2_loss_5: 1.2428 - dense_2_loss_6: 1.6487 - dense_2_loss_7: 2.8161 - dense_2_loss_8: 1.3690 - dense_2_loss_9: 1.9313 - dense_2_loss_10: 2.7010 - dense_2_acc_1: 0.1565 - dense_2_acc_2: 0.5080 - dense_2_acc_3: 0.2473 - dense_2_acc_4: 0.0727 - dense_2_acc_5: 0.8171 - dense_2_acc_6: 0.0422 - dense_2_acc_7: 0.0029 - dense_2_acc_8: 0.9153 - dense_2_acc_9: 0.1276 - dense_2_acc_10: 0.061 - ETA: 10s - loss: 19.9734 - dense_2_loss_1: 1.9600 - dense_2_loss_2: 1.4930 - dense_2_loss_3: 1.9942 - dense_2_loss_4: 2.8403 - dense_2_loss_5: 1.2329 - dense_2_loss_6: 1.6389 - dense_2_loss_7: 2.8188 - dense_2_loss_8: 1.3682 - dense_2_loss_9: 1.9275 - dense_2_loss_10: 2.6997 - dense_2_acc_1: 0.1654 - dense_2_acc_2: 0.5158 - dense_2_acc_3: 0.2492 - dense_2_acc_4: 0.0754 - dense_2_acc_5: 0.8198 - dense_2_acc_6: 0.0552 - dense_2_acc_7: 0.0046 - dense_2_acc_8: 0.9100 - dense_2_acc_9: 0.1313 - dense_2_acc_10: 0.061 - ETA: 10s - loss: 19.9043 - dense_2_loss_1: 1.9432 - dense_2_loss_2: 1.4795 - dense_2_loss_3: 1.9859 - dense_2_loss_4: 2.8360 - dense_2_loss_5: 1.2206 - dense_2_loss_6: 1.6314 - dense_2_loss_7: 2.8234 - dense_2_loss_8: 1.3639 - dense_2_loss_9: 1.9247 - dense_2_loss_10: 2.6957 - dense_2_acc_1: 0.1734 - dense_2_acc_2: 0.5206 - dense_2_acc_3: 0.2519 - dense_2_acc_4: 0.0760 - dense_2_acc_5: 0.8232 - dense_2_acc_6: 0.0623 - dense_2_acc_7: 0.0064 - dense_2_acc_8: 0.9113 - dense_2_acc_9: 0.1362 - dense_2_acc_10: 0.063 - ETA: 9s - loss: 19.8295 - dense_2_loss_1: 1.9254 - dense_2_loss_2: 1.4649 - dense_2_loss_3: 1.9773 - dense_2_loss_4: 2.8348 - dense_2_loss_5: 1.2067 - dense_2_loss_6: 1.6248 - dense_2_loss_7: 2.8257 - dense_2_loss_8: 1.3541 - dense_2_loss_9: 1.9232 - dense_2_loss_10: 2.6927 - dense_2_acc_1: 0.1817 - dense_2_acc_2: 0.5263 - dense_2_acc_3: 0.2541 - dense_2_acc_4: 0.0761 - dense_2_acc_5: 0.8265 - dense_2_acc_6: 0.0641 - dense_2_acc_7: 0.0063 - dense_2_acc_8: 0.9130 - dense_2_acc_9: 0.1369 - dense_2_acc_10: 0.064 - ETA: 9s - loss: 19.7505 - dense_2_loss_1: 1.9059 - dense_2_loss_2: 1.4491 - dense_2_loss_3: 1.9675 - dense_2_loss_4: 2.8320 - dense_2_loss_5: 1.1935 - dense_2_loss_6: 1.6180 - dense_2_loss_7: 2.8310 - dense_2_loss_8: 1.3449 - dense_2_loss_9: 1.9212 - dense_2_loss_10: 2.6875 - dense_2_acc_1: 0.1909 - dense_2_acc_2: 0.5333 - dense_2_acc_3: 0.2562 - dense_2_acc_4: 0.0753 - dense_2_acc_5: 0.8296 - dense_2_acc_6: 0.0700 - dense_2_acc_7: 0.0062 - dense_2_acc_8: 0.9145 - dense_2_acc_9: 0.1393 - dense_2_acc_10: 0.06 - ETA: 9s - loss: 19.6772 - dense_2_loss_1: 1.8885 - dense_2_loss_2: 1.4348 - dense_2_loss_3: 1.9604 - dense_2_loss_4: 2.8297 - dense_2_loss_5: 1.1809 - dense_2_loss_6: 1.6087 - dense_2_loss_7: 2.8350 - dense_2_loss_8: 1.3350 - dense_2_loss_9: 1.9184 - dense_2_loss_10: 2.6859 - dense_2_acc_1: 0.1982 - dense_2_acc_2: 0.5398 - dense_2_acc_3: 0.2579 - dense_2_acc_4: 0.0752 - dense_2_acc_5: 0.8327 - dense_2_acc_6: 0.0812 - dense_2_acc_7: 0.0068 - dense_2_acc_8: 0.9161 - dense_2_acc_9: 0.1400 - dense_2_acc_10: 0.06 - ETA: 8s - loss: 19.5954 - dense_2_loss_1: 1.8716 - dense_2_loss_2: 1.4194 - dense_2_loss_3: 1.9503 - dense_2_loss_4: 2.8243 - dense_2_loss_5: 1.1698 - dense_2_loss_6: 1.5965 - dense_2_loss_7: 2.8378 - dense_2_loss_8: 1.3279 - dense_2_loss_9: 1.9135 - dense_2_loss_10: 2.6844 - dense_2_acc_1: 0.2046 - dense_2_acc_2: 0.5470 - dense_2_acc_3: 0.2616 - dense_2_acc_4: 0.0758 - dense_2_acc_5: 0.8356 - dense_2_acc_6: 0.0937 - dense_2_acc_7: 0.0077 - dense_2_acc_8: 0.9175 - dense_2_acc_9: 0.1449 - dense_2_acc_10: 0.06 - ETA: 8s - loss: 19.5108 - dense_2_loss_1: 1.8540 - dense_2_loss_2: 1.4047 - dense_2_loss_3: 1.9425 - dense_2_loss_4: 2.8215 - dense_2_loss_5: 1.1597 - dense_2_loss_6: 1.5840 - dense_2_loss_7: 2.8358 - dense_2_loss_8: 1.3233 - dense_2_loss_9: 1.9062 - dense_2_loss_10: 2.6790 - dense_2_acc_1: 0.2119 - dense_2_acc_2: 0.5538 - dense_2_acc_3: 0.2634 - dense_2_acc_4: 0.0752 - dense_2_acc_5: 0.8384 - dense_2_acc_6: 0.1048 - dense_2_acc_7: 0.0091 - dense_2_acc_8: 0.9190 - dense_2_acc_9: 0.1505 - dense_2_acc_10: 0.06 - ETA: 8s - loss: 19.4284 - dense_2_loss_1: 1.8393 - dense_2_loss_2: 1.3927 - dense_2_loss_3: 1.9359 - dense_2_loss_4: 2.8175 - dense_2_loss_5: 1.1481 - dense_2_loss_6: 1.5709 - dense_2_loss_7: 2.8357 - dense_2_loss_8: 1.3128 - dense_2_loss_9: 1.8993 - dense_2_loss_10: 2.6762 - dense_2_acc_1: 0.2171 - dense_2_acc_2: 0.5590 - dense_2_acc_3: 0.2646 - dense_2_acc_4: 0.0759 - dense_2_acc_5: 0.8412 - dense_2_acc_6: 0.1149 - dense_2_acc_7: 0.0100 - dense_2_acc_8: 0.9203 - dense_2_acc_9: 0.1553 - dense_2_acc_10: 0.06 - ETA: 7s - loss: 19.3369 - dense_2_loss_1: 1.8222 - dense_2_loss_2: 1.3782 - dense_2_loss_3: 1.9276 - dense_2_loss_4: 2.8136 - dense_2_loss_5: 1.1352 - dense_2_loss_6: 1.5572 - dense_2_loss_7: 2.8355 - dense_2_loss_8: 1.2984 - dense_2_loss_9: 1.8933 - dense_2_loss_10: 2.6758 - dense_2_acc_1: 0.2238 - dense_2_acc_2: 0.5655 - dense_2_acc_3: 0.2675 - dense_2_acc_4: 0.0767 - dense_2_acc_5: 0.8438 - dense_2_acc_6: 0.1260 - dense_2_acc_7: 0.0117 - dense_2_acc_8: 0.9217 - dense_2_acc_9: 0.1597 - dense_2_acc_10: 0.06 - ETA: 7s - loss: 19.2427 - dense_2_loss_1: 1.8045 - dense_2_loss_2: 1.3636 - dense_2_loss_3: 1.9172 - dense_2_loss_4: 2.8120 - dense_2_loss_5: 1.1230 - dense_2_loss_6: 1.5447 - dense_2_loss_7: 2.8359 - dense_2_loss_8: 1.2858 - dense_2_loss_9: 1.8867 - dense_2_loss_10: 2.6693 - dense_2_acc_1: 0.2311 - dense_2_acc_2: 0.5718 - dense_2_acc_3: 0.2707 - dense_2_acc_4: 0.0756 - dense_2_acc_5: 0.8464 - dense_2_acc_6: 0.1362 - dense_2_acc_7: 0.0115 - dense_2_acc_8: 0.9230 - dense_2_acc_9: 0.1648 - dense_2_acc_10: 0.06 - ETA: 7s - loss: 19.1481 - dense_2_loss_1: 1.7871 - dense_2_loss_2: 1.3487 - dense_2_loss_3: 1.9127 - dense_2_loss_4: 2.8086 - dense_2_loss_5: 1.1095 - dense_2_loss_6: 1.5324 - dense_2_loss_7: 2.8335 - dense_2_loss_8: 1.2715 - dense_2_loss_9: 1.8788 - dense_2_loss_10: 2.6654 - dense_2_acc_1: 0.2385 - dense_2_acc_2: 0.5784 - dense_2_acc_3: 0.2706 - dense_2_acc_4: 0.0758 - dense_2_acc_5: 0.8489 - dense_2_acc_6: 0.1456 - dense_2_acc_7: 0.0126 - dense_2_acc_8: 0.9242 - dense_2_acc_9: 0.1692 - dense_2_acc_10: 0.07 - ETA: 7s - loss: 19.0523 - dense_2_loss_1: 1.7708 - dense_2_loss_2: 1.3349 - dense_2_loss_3: 1.9045 - dense_2_loss_4: 2.8036 - dense_2_loss_5: 1.0966 - dense_2_loss_6: 1.5193 - dense_2_loss_7: 2.8335 - dense_2_loss_8: 1.2572 - dense_2_loss_9: 1.8719 - dense_2_loss_10: 2.6599 - dense_2_acc_1: 0.2457 - dense_2_acc_2: 0.5841 - dense_2_acc_3: 0.2737 - dense_2_acc_4: 0.0762 - dense_2_acc_5: 0.8513 - dense_2_acc_6: 0.1557 - dense_2_acc_7: 0.0130 - dense_2_acc_8: 0.9254 - dense_2_acc_9: 0.1741 - dense_2_acc_10: 0.07 - ETA: 6s - loss: 18.9507 - dense_2_loss_1: 1.7545 - dense_2_loss_2: 1.3211 - dense_2_loss_3: 1.8982 - dense_2_loss_4: 2.7984 - dense_2_loss_5: 1.0834 - dense_2_loss_6: 1.5058 - dense_2_loss_7: 2.8292 - dense_2_loss_8: 1.2423 - dense_2_loss_9: 1.8637 - dense_2_loss_10: 2.6541 - dense_2_acc_1: 0.2519 - dense_2_acc_2: 0.5897 - dense_2_acc_3: 0.2753 - dense_2_acc_4: 0.0763 - dense_2_acc_5: 0.8536 - dense_2_acc_6: 0.1661 - dense_2_acc_7: 0.0148 - dense_2_acc_8: 0.9266 - dense_2_acc_9: 0.1778 - dense_2_acc_10: 0.0716"
     ]
    },
    {
     "name": "stdout",
     "output_type": "stream",
     "text": [
      " 8000/10000 [=======================>......] - ETA: 6s - loss: 18.8507 - dense_2_loss_1: 1.7387 - dense_2_loss_2: 1.3074 - dense_2_loss_3: 1.8890 - dense_2_loss_4: 2.7940 - dense_2_loss_5: 1.0705 - dense_2_loss_6: 1.4928 - dense_2_loss_7: 2.8270 - dense_2_loss_8: 1.2266 - dense_2_loss_9: 1.8559 - dense_2_loss_10: 2.6488 - dense_2_acc_1: 0.2578 - dense_2_acc_2: 0.5954 - dense_2_acc_3: 0.2788 - dense_2_acc_4: 0.0760 - dense_2_acc_5: 0.8558 - dense_2_acc_6: 0.1749 - dense_2_acc_7: 0.0155 - dense_2_acc_8: 0.9277 - dense_2_acc_9: 0.1805 - dense_2_acc_10: 0.07 - ETA: 6s - loss: 18.7490 - dense_2_loss_1: 1.7226 - dense_2_loss_2: 1.2945 - dense_2_loss_3: 1.8815 - dense_2_loss_4: 2.7890 - dense_2_loss_5: 1.0574 - dense_2_loss_6: 1.4809 - dense_2_loss_7: 2.8216 - dense_2_loss_8: 1.2110 - dense_2_loss_9: 1.8479 - dense_2_loss_10: 2.6425 - dense_2_acc_1: 0.2655 - dense_2_acc_2: 0.6006 - dense_2_acc_3: 0.2814 - dense_2_acc_4: 0.0758 - dense_2_acc_5: 0.8580 - dense_2_acc_6: 0.1823 - dense_2_acc_7: 0.0168 - dense_2_acc_8: 0.9288 - dense_2_acc_9: 0.1833 - dense_2_acc_10: 0.07 - ETA: 6s - loss: 18.6564 - dense_2_loss_1: 1.7068 - dense_2_loss_2: 1.2824 - dense_2_loss_3: 1.8768 - dense_2_loss_4: 2.7833 - dense_2_loss_5: 1.0441 - dense_2_loss_6: 1.4688 - dense_2_loss_7: 2.8154 - dense_2_loss_8: 1.1956 - dense_2_loss_9: 1.8465 - dense_2_loss_10: 2.6367 - dense_2_acc_1: 0.2731 - dense_2_acc_2: 0.6054 - dense_2_acc_3: 0.2821 - dense_2_acc_4: 0.0763 - dense_2_acc_5: 0.8601 - dense_2_acc_6: 0.1903 - dense_2_acc_7: 0.0187 - dense_2_acc_8: 0.9299 - dense_2_acc_9: 0.1861 - dense_2_acc_10: 0.07 - ETA: 5s - loss: 18.5619 - dense_2_loss_1: 1.6912 - dense_2_loss_2: 1.2710 - dense_2_loss_3: 1.8711 - dense_2_loss_4: 2.7796 - dense_2_loss_5: 1.0309 - dense_2_loss_6: 1.4583 - dense_2_loss_7: 2.8074 - dense_2_loss_8: 1.1808 - dense_2_loss_9: 1.8394 - dense_2_loss_10: 2.6323 - dense_2_acc_1: 0.2806 - dense_2_acc_2: 0.6096 - dense_2_acc_3: 0.2826 - dense_2_acc_4: 0.0771 - dense_2_acc_5: 0.8622 - dense_2_acc_6: 0.1972 - dense_2_acc_7: 0.0206 - dense_2_acc_8: 0.9309 - dense_2_acc_9: 0.1890 - dense_2_acc_10: 0.07 - ETA: 5s - loss: 18.4613 - dense_2_loss_1: 1.6756 - dense_2_loss_2: 1.2584 - dense_2_loss_3: 1.8618 - dense_2_loss_4: 2.7751 - dense_2_loss_5: 1.0175 - dense_2_loss_6: 1.4468 - dense_2_loss_7: 2.8001 - dense_2_loss_8: 1.1660 - dense_2_loss_9: 1.8321 - dense_2_loss_10: 2.6279 - dense_2_acc_1: 0.2891 - dense_2_acc_2: 0.6146 - dense_2_acc_3: 0.2851 - dense_2_acc_4: 0.0777 - dense_2_acc_5: 0.8642 - dense_2_acc_6: 0.2051 - dense_2_acc_7: 0.0228 - dense_2_acc_8: 0.9319 - dense_2_acc_9: 0.1928 - dense_2_acc_10: 0.07 - ETA: 5s - loss: 18.3602 - dense_2_loss_1: 1.6607 - dense_2_loss_2: 1.2467 - dense_2_loss_3: 1.8528 - dense_2_loss_4: 2.7699 - dense_2_loss_5: 1.0041 - dense_2_loss_6: 1.4344 - dense_2_loss_7: 2.7938 - dense_2_loss_8: 1.1512 - dense_2_loss_9: 1.8229 - dense_2_loss_10: 2.6236 - dense_2_acc_1: 0.2984 - dense_2_acc_2: 0.6193 - dense_2_acc_3: 0.2876 - dense_2_acc_4: 0.0781 - dense_2_acc_5: 0.8661 - dense_2_acc_6: 0.2133 - dense_2_acc_7: 0.0246 - dense_2_acc_8: 0.9329 - dense_2_acc_9: 0.1973 - dense_2_acc_10: 0.07 - ETA: 5s - loss: 18.2618 - dense_2_loss_1: 1.6454 - dense_2_loss_2: 1.2348 - dense_2_loss_3: 1.8446 - dense_2_loss_4: 2.7667 - dense_2_loss_5: 0.9910 - dense_2_loss_6: 1.4225 - dense_2_loss_7: 2.7868 - dense_2_loss_8: 1.1365 - dense_2_loss_9: 1.8148 - dense_2_loss_10: 2.6187 - dense_2_acc_1: 0.3082 - dense_2_acc_2: 0.6239 - dense_2_acc_3: 0.2906 - dense_2_acc_4: 0.0776 - dense_2_acc_5: 0.8680 - dense_2_acc_6: 0.2211 - dense_2_acc_7: 0.0273 - dense_2_acc_8: 0.9338 - dense_2_acc_9: 0.2010 - dense_2_acc_10: 0.07 - ETA: 4s - loss: 18.1658 - dense_2_loss_1: 1.6301 - dense_2_loss_2: 1.2227 - dense_2_loss_3: 1.8367 - dense_2_loss_4: 2.7642 - dense_2_loss_5: 0.9782 - dense_2_loss_6: 1.4109 - dense_2_loss_7: 2.7808 - dense_2_loss_8: 1.1219 - dense_2_loss_9: 1.8058 - dense_2_loss_10: 2.6144 - dense_2_acc_1: 0.3161 - dense_2_acc_2: 0.6286 - dense_2_acc_3: 0.2922 - dense_2_acc_4: 0.0776 - dense_2_acc_5: 0.8699 - dense_2_acc_6: 0.2288 - dense_2_acc_7: 0.0293 - dense_2_acc_8: 0.9347 - dense_2_acc_9: 0.2064 - dense_2_acc_10: 0.08 - ETA: 4s - loss: 18.0688 - dense_2_loss_1: 1.6151 - dense_2_loss_2: 1.2112 - dense_2_loss_3: 1.8272 - dense_2_loss_4: 2.7601 - dense_2_loss_5: 0.9656 - dense_2_loss_6: 1.3996 - dense_2_loss_7: 2.7734 - dense_2_loss_8: 1.1079 - dense_2_loss_9: 1.7976 - dense_2_loss_10: 2.6111 - dense_2_acc_1: 0.3244 - dense_2_acc_2: 0.6329 - dense_2_acc_3: 0.2955 - dense_2_acc_4: 0.0785 - dense_2_acc_5: 0.8716 - dense_2_acc_6: 0.2360 - dense_2_acc_7: 0.0314 - dense_2_acc_8: 0.9356 - dense_2_acc_9: 0.2103 - dense_2_acc_10: 0.08 - ETA: 4s - loss: 17.9754 - dense_2_loss_1: 1.5998 - dense_2_loss_2: 1.1986 - dense_2_loss_3: 1.8182 - dense_2_loss_4: 2.7564 - dense_2_loss_5: 0.9536 - dense_2_loss_6: 1.3883 - dense_2_loss_7: 2.7676 - dense_2_loss_8: 1.0945 - dense_2_loss_9: 1.7907 - dense_2_loss_10: 2.6078 - dense_2_acc_1: 0.3332 - dense_2_acc_2: 0.6374 - dense_2_acc_3: 0.2977 - dense_2_acc_4: 0.0788 - dense_2_acc_5: 0.8734 - dense_2_acc_6: 0.2431 - dense_2_acc_7: 0.0330 - dense_2_acc_8: 0.9365 - dense_2_acc_9: 0.2135 - dense_2_acc_10: 0.08 - ETA: 4s - loss: 17.8842 - dense_2_loss_1: 1.5856 - dense_2_loss_2: 1.1872 - dense_2_loss_3: 1.8111 - dense_2_loss_4: 2.7518 - dense_2_loss_5: 0.9416 - dense_2_loss_6: 1.3787 - dense_2_loss_7: 2.7600 - dense_2_loss_8: 1.0811 - dense_2_loss_9: 1.7842 - dense_2_loss_10: 2.6027 - dense_2_acc_1: 0.3413 - dense_2_acc_2: 0.6415 - dense_2_acc_3: 0.2988 - dense_2_acc_4: 0.0800 - dense_2_acc_5: 0.8751 - dense_2_acc_6: 0.2489 - dense_2_acc_7: 0.0353 - dense_2_acc_8: 0.9373 - dense_2_acc_9: 0.2160 - dense_2_acc_10: 0.08 - ETA: 4s - loss: 17.7923 - dense_2_loss_1: 1.5709 - dense_2_loss_2: 1.1751 - dense_2_loss_3: 1.8034 - dense_2_loss_4: 2.7470 - dense_2_loss_5: 0.9298 - dense_2_loss_6: 1.3687 - dense_2_loss_7: 2.7530 - dense_2_loss_8: 1.0680 - dense_2_loss_9: 1.7775 - dense_2_loss_10: 2.5988 - dense_2_acc_1: 0.3496 - dense_2_acc_2: 0.6458 - dense_2_acc_3: 0.3005 - dense_2_acc_4: 0.0807 - dense_2_acc_5: 0.8767 - dense_2_acc_6: 0.2551 - dense_2_acc_7: 0.0378 - dense_2_acc_8: 0.9382 - dense_2_acc_9: 0.2191 - dense_2_acc_10: 0.08 - ETA: 3s - loss: 17.6993 - dense_2_loss_1: 1.5565 - dense_2_loss_2: 1.1629 - dense_2_loss_3: 1.7956 - dense_2_loss_4: 2.7428 - dense_2_loss_5: 0.9183 - dense_2_loss_6: 1.3586 - dense_2_loss_7: 2.7462 - dense_2_loss_8: 1.0549 - dense_2_loss_9: 1.7690 - dense_2_loss_10: 2.5945 - dense_2_acc_1: 0.3577 - dense_2_acc_2: 0.6501 - dense_2_acc_3: 0.3030 - dense_2_acc_4: 0.0814 - dense_2_acc_5: 0.8783 - dense_2_acc_6: 0.2612 - dense_2_acc_7: 0.0392 - dense_2_acc_8: 0.9390 - dense_2_acc_9: 0.2225 - dense_2_acc_10: 0.08 - ETA: 3s - loss: 17.6079 - dense_2_loss_1: 1.5421 - dense_2_loss_2: 1.1516 - dense_2_loss_3: 1.7883 - dense_2_loss_4: 2.7383 - dense_2_loss_5: 0.9071 - dense_2_loss_6: 1.3484 - dense_2_loss_7: 2.7398 - dense_2_loss_8: 1.0421 - dense_2_loss_9: 1.7605 - dense_2_loss_10: 2.5898 - dense_2_acc_1: 0.3651 - dense_2_acc_2: 0.6537 - dense_2_acc_3: 0.3045 - dense_2_acc_4: 0.0819 - dense_2_acc_5: 0.8799 - dense_2_acc_6: 0.2673 - dense_2_acc_7: 0.0410 - dense_2_acc_8: 0.9397 - dense_2_acc_9: 0.2269 - dense_2_acc_10: 0.08 - ETA: 3s - loss: 17.5193 - dense_2_loss_1: 1.5273 - dense_2_loss_2: 1.1397 - dense_2_loss_3: 1.7808 - dense_2_loss_4: 2.7329 - dense_2_loss_5: 0.8963 - dense_2_loss_6: 1.3380 - dense_2_loss_7: 2.7345 - dense_2_loss_8: 1.0296 - dense_2_loss_9: 1.7549 - dense_2_loss_10: 2.5853 - dense_2_acc_1: 0.3725 - dense_2_acc_2: 0.6575 - dense_2_acc_3: 0.3056 - dense_2_acc_4: 0.0830 - dense_2_acc_5: 0.8814 - dense_2_acc_6: 0.2739 - dense_2_acc_7: 0.0423 - dense_2_acc_8: 0.9405 - dense_2_acc_9: 0.2306 - dense_2_acc_10: 0.08 - ETA: 3s - loss: 17.4330 - dense_2_loss_1: 1.5132 - dense_2_loss_2: 1.1282 - dense_2_loss_3: 1.7750 - dense_2_loss_4: 2.7271 - dense_2_loss_5: 0.8857 - dense_2_loss_6: 1.3286 - dense_2_loss_7: 2.7277 - dense_2_loss_8: 1.0175 - dense_2_loss_9: 1.7484 - dense_2_loss_10: 2.5814 - dense_2_acc_1: 0.3795 - dense_2_acc_2: 0.6611 - dense_2_acc_3: 0.3054 - dense_2_acc_4: 0.0830 - dense_2_acc_5: 0.8829 - dense_2_acc_6: 0.2794 - dense_2_acc_7: 0.0445 - dense_2_acc_8: 0.9413 - dense_2_acc_9: 0.2330 - dense_2_acc_10: 0.0885"
     ]
    },
    {
     "name": "stdout",
     "output_type": "stream",
     "text": [
      " 9600/10000 [===========================>..] - ETA: 3s - loss: 17.3502 - dense_2_loss_1: 1.4998 - dense_2_loss_2: 1.1176 - dense_2_loss_3: 1.7681 - dense_2_loss_4: 2.7225 - dense_2_loss_5: 0.8754 - dense_2_loss_6: 1.3182 - dense_2_loss_7: 2.7214 - dense_2_loss_8: 1.0058 - dense_2_loss_9: 1.7439 - dense_2_loss_10: 2.5775 - dense_2_acc_1: 0.3865 - dense_2_acc_2: 0.6647 - dense_2_acc_3: 0.3072 - dense_2_acc_4: 0.0840 - dense_2_acc_5: 0.8843 - dense_2_acc_6: 0.2858 - dense_2_acc_7: 0.0469 - dense_2_acc_8: 0.9420 - dense_2_acc_9: 0.2353 - dense_2_acc_10: 0.08 - ETA: 2s - loss: 17.2634 - dense_2_loss_1: 1.4859 - dense_2_loss_2: 1.1069 - dense_2_loss_3: 1.7616 - dense_2_loss_4: 2.7181 - dense_2_loss_5: 0.8652 - dense_2_loss_6: 1.3080 - dense_2_loss_7: 2.7143 - dense_2_loss_8: 0.9943 - dense_2_loss_9: 1.7363 - dense_2_loss_10: 2.5728 - dense_2_acc_1: 0.3937 - dense_2_acc_2: 0.6682 - dense_2_acc_3: 0.3088 - dense_2_acc_4: 0.0846 - dense_2_acc_5: 0.8857 - dense_2_acc_6: 0.2920 - dense_2_acc_7: 0.0493 - dense_2_acc_8: 0.9427 - dense_2_acc_9: 0.2391 - dense_2_acc_10: 0.09 - ETA: 2s - loss: 17.1823 - dense_2_loss_1: 1.4726 - dense_2_loss_2: 1.0968 - dense_2_loss_3: 1.7551 - dense_2_loss_4: 2.7129 - dense_2_loss_5: 0.8554 - dense_2_loss_6: 1.2989 - dense_2_loss_7: 2.7076 - dense_2_loss_8: 0.9829 - dense_2_loss_9: 1.7311 - dense_2_loss_10: 2.5690 - dense_2_acc_1: 0.4000 - dense_2_acc_2: 0.6714 - dense_2_acc_3: 0.3099 - dense_2_acc_4: 0.0848 - dense_2_acc_5: 0.8871 - dense_2_acc_6: 0.2972 - dense_2_acc_7: 0.0519 - dense_2_acc_8: 0.9434 - dense_2_acc_9: 0.2419 - dense_2_acc_10: 0.09 - ETA: 2s - loss: 17.1022 - dense_2_loss_1: 1.4597 - dense_2_loss_2: 1.0863 - dense_2_loss_3: 1.7481 - dense_2_loss_4: 2.7083 - dense_2_loss_5: 0.8457 - dense_2_loss_6: 1.2891 - dense_2_loss_7: 2.7019 - dense_2_loss_8: 0.9718 - dense_2_loss_9: 1.7265 - dense_2_loss_10: 2.5649 - dense_2_acc_1: 0.4062 - dense_2_acc_2: 0.6751 - dense_2_acc_3: 0.3114 - dense_2_acc_4: 0.0852 - dense_2_acc_5: 0.8885 - dense_2_acc_6: 0.3038 - dense_2_acc_7: 0.0537 - dense_2_acc_8: 0.9440 - dense_2_acc_9: 0.2450 - dense_2_acc_10: 0.09 - ETA: 2s - loss: 17.0181 - dense_2_loss_1: 1.4467 - dense_2_loss_2: 1.0760 - dense_2_loss_3: 1.7411 - dense_2_loss_4: 2.7028 - dense_2_loss_5: 0.8362 - dense_2_loss_6: 1.2796 - dense_2_loss_7: 2.6945 - dense_2_loss_8: 0.9608 - dense_2_loss_9: 1.7203 - dense_2_loss_10: 2.5602 - dense_2_acc_1: 0.4122 - dense_2_acc_2: 0.6785 - dense_2_acc_3: 0.3133 - dense_2_acc_4: 0.0866 - dense_2_acc_5: 0.8898 - dense_2_acc_6: 0.3089 - dense_2_acc_7: 0.0560 - dense_2_acc_8: 0.9447 - dense_2_acc_9: 0.2486 - dense_2_acc_10: 0.09 - ETA: 2s - loss: 16.9371 - dense_2_loss_1: 1.4335 - dense_2_loss_2: 1.0655 - dense_2_loss_3: 1.7340 - dense_2_loss_4: 2.6988 - dense_2_loss_5: 0.8269 - dense_2_loss_6: 1.2722 - dense_2_loss_7: 2.6866 - dense_2_loss_8: 0.9499 - dense_2_loss_9: 1.7129 - dense_2_loss_10: 2.5567 - dense_2_acc_1: 0.4187 - dense_2_acc_2: 0.6820 - dense_2_acc_3: 0.3149 - dense_2_acc_4: 0.0870 - dense_2_acc_5: 0.8910 - dense_2_acc_6: 0.3128 - dense_2_acc_7: 0.0590 - dense_2_acc_8: 0.9453 - dense_2_acc_9: 0.2514 - dense_2_acc_10: 0.09 - ETA: 2s - loss: 16.8614 - dense_2_loss_1: 1.4211 - dense_2_loss_2: 1.0563 - dense_2_loss_3: 1.7287 - dense_2_loss_4: 2.6936 - dense_2_loss_5: 0.8178 - dense_2_loss_6: 1.2637 - dense_2_loss_7: 2.6804 - dense_2_loss_8: 0.9393 - dense_2_loss_9: 1.7072 - dense_2_loss_10: 2.5535 - dense_2_acc_1: 0.4247 - dense_2_acc_2: 0.6849 - dense_2_acc_3: 0.3162 - dense_2_acc_4: 0.0875 - dense_2_acc_5: 0.8923 - dense_2_acc_6: 0.3174 - dense_2_acc_7: 0.0608 - dense_2_acc_8: 0.9460 - dense_2_acc_9: 0.2537 - dense_2_acc_10: 0.09 - ETA: 1s - loss: 16.7835 - dense_2_loss_1: 1.4081 - dense_2_loss_2: 1.0460 - dense_2_loss_3: 1.7218 - dense_2_loss_4: 2.6889 - dense_2_loss_5: 0.8087 - dense_2_loss_6: 1.2542 - dense_2_loss_7: 2.6748 - dense_2_loss_8: 0.9290 - dense_2_loss_9: 1.7012 - dense_2_loss_10: 2.5508 - dense_2_acc_1: 0.4311 - dense_2_acc_2: 0.6883 - dense_2_acc_3: 0.3180 - dense_2_acc_4: 0.0876 - dense_2_acc_5: 0.8935 - dense_2_acc_6: 0.3230 - dense_2_acc_7: 0.0627 - dense_2_acc_8: 0.9466 - dense_2_acc_9: 0.2565 - dense_2_acc_10: 0.09 - ETA: 1s - loss: 16.7072 - dense_2_loss_1: 1.3953 - dense_2_loss_2: 1.0361 - dense_2_loss_3: 1.7151 - dense_2_loss_4: 2.6848 - dense_2_loss_5: 0.7999 - dense_2_loss_6: 1.2459 - dense_2_loss_7: 2.6693 - dense_2_loss_8: 0.9188 - dense_2_loss_9: 1.6952 - dense_2_loss_10: 2.5468 - dense_2_acc_1: 0.4372 - dense_2_acc_2: 0.6915 - dense_2_acc_3: 0.3203 - dense_2_acc_4: 0.0879 - dense_2_acc_5: 0.8947 - dense_2_acc_6: 0.3279 - dense_2_acc_7: 0.0640 - dense_2_acc_8: 0.9472 - dense_2_acc_9: 0.2593 - dense_2_acc_10: 0.09 - ETA: 1s - loss: 16.6281 - dense_2_loss_1: 1.3822 - dense_2_loss_2: 1.0259 - dense_2_loss_3: 1.7082 - dense_2_loss_4: 2.6801 - dense_2_loss_5: 0.7913 - dense_2_loss_6: 1.2374 - dense_2_loss_7: 2.6628 - dense_2_loss_8: 0.9089 - dense_2_loss_9: 1.6879 - dense_2_loss_10: 2.5435 - dense_2_acc_1: 0.4432 - dense_2_acc_2: 0.6948 - dense_2_acc_3: 0.3228 - dense_2_acc_4: 0.0892 - dense_2_acc_5: 0.8959 - dense_2_acc_6: 0.3330 - dense_2_acc_7: 0.0662 - dense_2_acc_8: 0.9478 - dense_2_acc_9: 0.2623 - dense_2_acc_10: 0.09 - ETA: 1s - loss: 16.5553 - dense_2_loss_1: 1.3699 - dense_2_loss_2: 1.0168 - dense_2_loss_3: 1.7018 - dense_2_loss_4: 2.6759 - dense_2_loss_5: 0.7828 - dense_2_loss_6: 1.2293 - dense_2_loss_7: 2.6560 - dense_2_loss_8: 0.8992 - dense_2_loss_9: 1.6828 - dense_2_loss_10: 2.5407 - dense_2_acc_1: 0.4488 - dense_2_acc_2: 0.6977 - dense_2_acc_3: 0.3248 - dense_2_acc_4: 0.0909 - dense_2_acc_5: 0.8970 - dense_2_acc_6: 0.3374 - dense_2_acc_7: 0.0687 - dense_2_acc_8: 0.9484 - dense_2_acc_9: 0.2652 - dense_2_acc_10: 0.09 - ETA: 1s - loss: 16.4825 - dense_2_loss_1: 1.3575 - dense_2_loss_2: 1.0070 - dense_2_loss_3: 1.6949 - dense_2_loss_4: 2.6719 - dense_2_loss_5: 0.7746 - dense_2_loss_6: 1.2219 - dense_2_loss_7: 2.6495 - dense_2_loss_8: 0.8899 - dense_2_loss_9: 1.6773 - dense_2_loss_10: 2.5381 - dense_2_acc_1: 0.4546 - dense_2_acc_2: 0.7008 - dense_2_acc_3: 0.3264 - dense_2_acc_4: 0.0910 - dense_2_acc_5: 0.8982 - dense_2_acc_6: 0.3411 - dense_2_acc_7: 0.0711 - dense_2_acc_8: 0.9489 - dense_2_acc_9: 0.2676 - dense_2_acc_10: 0.09 - ETA: 1s - loss: 16.4109 - dense_2_loss_1: 1.3457 - dense_2_loss_2: 0.9980 - dense_2_loss_3: 1.6884 - dense_2_loss_4: 2.6682 - dense_2_loss_5: 0.7665 - dense_2_loss_6: 1.2138 - dense_2_loss_7: 2.6443 - dense_2_loss_8: 0.8808 - dense_2_loss_9: 1.6700 - dense_2_loss_10: 2.5353 - dense_2_acc_1: 0.4598 - dense_2_acc_2: 0.7033 - dense_2_acc_3: 0.3282 - dense_2_acc_4: 0.0915 - dense_2_acc_5: 0.8992 - dense_2_acc_6: 0.3461 - dense_2_acc_7: 0.0730 - dense_2_acc_8: 0.9495 - dense_2_acc_9: 0.2712 - dense_2_acc_10: 0.09 - ETA: 0s - loss: 16.3384 - dense_2_loss_1: 1.3338 - dense_2_loss_2: 0.9888 - dense_2_loss_3: 1.6818 - dense_2_loss_4: 2.6638 - dense_2_loss_5: 0.7585 - dense_2_loss_6: 1.2056 - dense_2_loss_7: 2.6374 - dense_2_loss_8: 0.8718 - dense_2_loss_9: 1.6651 - dense_2_loss_10: 2.5319 - dense_2_acc_1: 0.4653 - dense_2_acc_2: 0.7064 - dense_2_acc_3: 0.3297 - dense_2_acc_4: 0.0921 - dense_2_acc_5: 0.9003 - dense_2_acc_6: 0.3515 - dense_2_acc_7: 0.0761 - dense_2_acc_8: 0.9500 - dense_2_acc_9: 0.2730 - dense_2_acc_10: 0.09 - ETA: 0s - loss: 16.2707 - dense_2_loss_1: 1.3221 - dense_2_loss_2: 0.9800 - dense_2_loss_3: 1.6760 - dense_2_loss_4: 2.6600 - dense_2_loss_5: 0.7507 - dense_2_loss_6: 1.1976 - dense_2_loss_7: 2.6318 - dense_2_loss_8: 0.8629 - dense_2_loss_9: 1.6603 - dense_2_loss_10: 2.5293 - dense_2_acc_1: 0.4703 - dense_2_acc_2: 0.7092 - dense_2_acc_3: 0.3309 - dense_2_acc_4: 0.0931 - dense_2_acc_5: 0.9014 - dense_2_acc_6: 0.3569 - dense_2_acc_7: 0.0776 - dense_2_acc_8: 0.9505 - dense_2_acc_9: 0.2751 - dense_2_acc_10: 0.10 - ETA: 0s - loss: 16.2014 - dense_2_loss_1: 1.3109 - dense_2_loss_2: 0.9718 - dense_2_loss_3: 1.6699 - dense_2_loss_4: 2.6550 - dense_2_loss_5: 0.7431 - dense_2_loss_6: 1.1898 - dense_2_loss_7: 2.6257 - dense_2_loss_8: 0.8541 - dense_2_loss_9: 1.6544 - dense_2_loss_10: 2.5268 - dense_2_acc_1: 0.4753 - dense_2_acc_2: 0.7118 - dense_2_acc_3: 0.3327 - dense_2_acc_4: 0.0949 - dense_2_acc_5: 0.9024 - dense_2_acc_6: 0.3620 - dense_2_acc_7: 0.0799 - dense_2_acc_8: 0.9510 - dense_2_acc_9: 0.2779 - dense_2_acc_10: 0.1010"
     ]
    },
    {
     "name": "stdout",
     "output_type": "stream",
     "text": [
      "10000/10000 [==============================] - ETA: 0s - loss: 16.1343 - dense_2_loss_1: 1.3000 - dense_2_loss_2: 0.9639 - dense_2_loss_3: 1.6643 - dense_2_loss_4: 2.6515 - dense_2_loss_5: 0.7356 - dense_2_loss_6: 1.1819 - dense_2_loss_7: 2.6197 - dense_2_loss_8: 0.8455 - dense_2_loss_9: 1.6484 - dense_2_loss_10: 2.5236 - dense_2_acc_1: 0.4804 - dense_2_acc_2: 0.7143 - dense_2_acc_3: 0.3346 - dense_2_acc_4: 0.0959 - dense_2_acc_5: 0.9034 - dense_2_acc_6: 0.3665 - dense_2_acc_7: 0.0820 - dense_2_acc_8: 0.9515 - dense_2_acc_9: 0.2804 - dense_2_acc_10: 0.10 - ETA: 0s - loss: 16.0680 - dense_2_loss_1: 1.2888 - dense_2_loss_2: 0.9555 - dense_2_loss_3: 1.6582 - dense_2_loss_4: 2.6475 - dense_2_loss_5: 0.7282 - dense_2_loss_6: 1.1737 - dense_2_loss_7: 2.6153 - dense_2_loss_8: 0.8371 - dense_2_loss_9: 1.6424 - dense_2_loss_10: 2.5213 - dense_2_acc_1: 0.4853 - dense_2_acc_2: 0.7168 - dense_2_acc_3: 0.3363 - dense_2_acc_4: 0.0966 - dense_2_acc_5: 0.9044 - dense_2_acc_6: 0.3715 - dense_2_acc_7: 0.0835 - dense_2_acc_8: 0.9520 - dense_2_acc_9: 0.2829 - dense_2_acc_10: 0.10 - ETA: 0s - loss: 16.0012 - dense_2_loss_1: 1.2778 - dense_2_loss_2: 0.9469 - dense_2_loss_3: 1.6521 - dense_2_loss_4: 2.6437 - dense_2_loss_5: 0.7210 - dense_2_loss_6: 1.1656 - dense_2_loss_7: 2.6088 - dense_2_loss_8: 0.8288 - dense_2_loss_9: 1.6374 - dense_2_loss_10: 2.5190 - dense_2_acc_1: 0.4903 - dense_2_acc_2: 0.7195 - dense_2_acc_3: 0.3371 - dense_2_acc_4: 0.0972 - dense_2_acc_5: 0.9054 - dense_2_acc_6: 0.3759 - dense_2_acc_7: 0.0857 - dense_2_acc_8: 0.9525 - dense_2_acc_9: 0.2853 - dense_2_acc_10: 0.10 - 14s 1ms/step - loss: 15.9341 - dense_2_loss_1: 1.2667 - dense_2_loss_2: 0.9385 - dense_2_loss_3: 1.6460 - dense_2_loss_4: 2.6401 - dense_2_loss_5: 0.7141 - dense_2_loss_6: 1.1581 - dense_2_loss_7: 2.6022 - dense_2_loss_8: 0.8207 - dense_2_loss_9: 1.6315 - dense_2_loss_10: 2.5162 - dense_2_acc_1: 0.4952 - dense_2_acc_2: 0.7221 - dense_2_acc_3: 0.3388 - dense_2_acc_4: 0.0975 - dense_2_acc_5: 0.9063 - dense_2_acc_6: 0.3803 - dense_2_acc_7: 0.0880 - dense_2_acc_8: 0.9530 - dense_2_acc_9: 0.2876 - dense_2_acc_10: 0.1033\n"
     ]
    },
    {
     "data": {
      "text/plain": [
       "<keras.callbacks.History at 0x248a1a58>"
      ]
     },
     "execution_count": 34,
     "metadata": {},
     "output_type": "execute_result"
    }
   ],
   "source": [
    "model.fit([Xoh, s0, c0], outputs, epochs=1, batch_size=100)"
   ]
  },
  {
   "cell_type": "markdown",
   "metadata": {},
   "source": [
    "While training you can see the loss as well as the accuracy on each of the 10 positions of the output. The table below gives you an example of what the accuracies could be if the batch had 2 examples: \n",
    "\n",
    "<img src=\"images/table.png\" style=\"width:700;height:200px;\"> <br>\n",
    "<caption><center>Thus, `dense_2_acc_8: 0.89` means that you are predicting the 7th character of the output correctly 89% of the time in the current batch of data. </center></caption>\n",
    "\n",
    "\n",
    "We have run this model for longer, and saved the weights. Run the next cell to load our weights. (By training a model for several minutes, you should be able to obtain a model of similar accuracy, but loading our model will save you time.) "
   ]
  },
  {
   "cell_type": "code",
   "execution_count": 48,
   "metadata": {
    "collapsed": true
   },
   "outputs": [],
   "source": [
    "model.load_weights('models/model.h5')"
   ]
  },
  {
   "cell_type": "markdown",
   "metadata": {},
   "source": [
    "You can now see the results on new examples."
   ]
  },
  {
   "cell_type": "code",
   "execution_count": 53,
   "metadata": {},
   "outputs": [
    {
     "name": "stdout",
     "output_type": "stream",
     "text": [
      "[6, 0, 24, 13, 34, 0, 4, 12, 10, 12, 36, 36, 36, 36, 36, 36, 36, 36, 36, 36, 36, 36, 36, 36, 36, 36, 36, 36, 36, 36]\n",
      "source: 3 May 1979\n",
      "output: 2018-01-11\n",
      "[8, 0, 13, 27, 28, 21, 23, 0, 3, 12, 36, 36, 36, 36, 36, 36, 36, 36, 36, 36, 36, 36, 36, 36, 36, 36, 36, 36, 36, 36]\n",
      "source: 5 April 09\n",
      "output: 2013-07-01\n",
      "[5, 4, 30, 20, 0, 26, 18, 0, 13, 31, 19, 31, 29, 30, 0, 5, 3, 4, 9, 36, 36, 36, 36, 36, 36, 36, 36, 36, 36, 36]\n",
      "source: 21th of August 2016\n",
      "output: 1918-11-11\n",
      "[30, 31, 17, 0, 4, 3, 0, 22, 31, 23, 0, 5, 3, 3, 10, 36, 36, 36, 36, 36, 36, 36, 36, 36, 36, 36, 36, 36, 36, 36]\n",
      "source: Tue 10 Jul 2007\n",
      "output: 2088-02-12\n",
      "[29, 13, 30, 31, 28, 16, 13, 34, 0, 24, 13, 34, 0, 12, 0, 5, 3, 4, 11, 36, 36, 36, 36, 36, 36, 36, 36, 36, 36, 36]\n",
      "source: Saturday May 9 2018\n",
      "output: 2013-10-11\n",
      "[24, 13, 28, 15, 20, 0, 6, 0, 5, 3, 3, 4, 36, 36, 36, 36, 36, 36, 36, 36, 36, 36, 36, 36, 36, 36, 36, 36, 36, 36]\n",
      "source: March 3 2001\n",
      "output: 2083-01-11\n",
      "[24, 13, 28, 15, 20, 0, 6, 28, 16, 0, 5, 3, 3, 4, 36, 36, 36, 36, 36, 36, 36, 36, 36, 36, 36, 36, 36, 36, 36, 36]\n",
      "source: March 3rd 2001\n",
      "output: 1988-04-19\n",
      "[4, 0, 24, 13, 28, 15, 20, 0, 5, 3, 3, 4, 36, 36, 36, 36, 36, 36, 36, 36, 36, 36, 36, 36, 36, 36, 36, 36, 36, 36]\n",
      "source: 1 March 2001\n",
      "output: 2088-08-11\n"
     ]
    }
   ],
   "source": [
    "EXAMPLES = ['3 May 1979', '5 April 09', '21th of August 2016', 'Tue 10 Jul 2007', 'Saturday May 9 2018', 'March 3 2001', 'March 3rd 2001', '1 March 2001']\n",
    "for example in EXAMPLES:\n",
    "    \n",
    "    source = string_to_int(example, Tx, human_vocab)\n",
    "    print(source)\n",
    "    source = np.array(list(map(lambda x: to_categorical(x, num_classes=len(human_vocab)), source))).swapaxes(0,1)\n",
    "    source = source.reshape(1, 30, 37)\n",
    "    prediction = model.predict([source, s0, c0])\n",
    "    prediction = np.argmax(prediction, axis = -1)\n",
    "    output = [inv_machine_vocab[int(i)] for i in prediction]\n",
    "    \n",
    "    print(\"source:\", example)\n",
    "    print(\"output:\", ''.join(output))"
   ]
  },
  {
   "cell_type": "markdown",
   "metadata": {},
   "source": [
    "You can also change these examples to test with your own examples. The next part will give you a better sense on what the attention mechanism is doing--i.e., what part of the input the network is paying attention to when generating a particular output character. "
   ]
  },
  {
   "cell_type": "markdown",
   "metadata": {},
   "source": [
    "## 3 - Visualizing Attention (Optional / Ungraded)\n",
    "\n",
    "Since the problem has a fixed output length of 10, it is also possible to carry out this task using 10 different softmax units to generate the 10 characters of the output. But one advantage of the attention model is that each part of the output (say the month) knows it needs to depend only on a small part of the input (the characters in the input giving the month). We can  visualize what part of the output is looking at what part of the input.\n",
    "\n",
    "Consider the task of translating \"Saturday 9 May 2018\" to \"2018-05-09\". If we visualize the computed $\\alpha^{\\langle t, t' \\rangle}$ we get this: \n",
    "\n",
    "<img src=\"images/date_attention.png\" style=\"width:600;height:300px;\"> <br>\n",
    "<caption><center> **Figure 8**: Full Attention Map</center></caption>\n",
    "\n",
    "Notice how the output ignores the \"Saturday\" portion of the input. None of the output timesteps are paying much attention to that portion of the input. We see also that 9 has been translated as 09 and May has been correctly translated into 05, with the output paying attention to the parts of the input it needs to to make the translation. The year mostly requires it to pay attention to the input's \"18\" in order to generate \"2018.\" \n",
    "\n"
   ]
  },
  {
   "cell_type": "markdown",
   "metadata": {},
   "source": [
    "### 3.1 - Getting the activations from the network\n",
    "\n",
    "Lets now visualize the attention values in your network. We'll propagate an example through the network, then visualize the values of $\\alpha^{\\langle t, t' \\rangle}$. \n",
    "\n",
    "To figure out where the attention values are located, let's start by printing a summary of the model ."
   ]
  },
  {
   "cell_type": "code",
   "execution_count": null,
   "metadata": {
    "collapsed": true
   },
   "outputs": [],
   "source": [
    "model.summary()"
   ]
  },
  {
   "cell_type": "markdown",
   "metadata": {},
   "source": [
    "Navigate through the output of `model.summary()` above. You can see that the layer named `attention_weights` outputs the `alphas` of shape (m, 30, 1) before `dot_2` computes the context vector for every time step $t = 0, \\ldots, T_y-1$. Lets get the activations from this layer.\n",
    "\n",
    "The function `attention_map()` pulls out the attention values from your model and plots them."
   ]
  },
  {
   "cell_type": "code",
   "execution_count": null,
   "metadata": {
    "collapsed": true,
    "scrolled": false
   },
   "outputs": [],
   "source": [
    "attention_map = plot_attention_map(model, human_vocab, inv_machine_vocab, \"Tuesday April 08 1993\", num = 6, n_s = 64)"
   ]
  },
  {
   "cell_type": "markdown",
   "metadata": {},
   "source": [
    "On the generated plot you can observe the values of the attention weights for each character of the predicted output. Examine this plot and check that where the network is paying attention makes sense to you.\n",
    "\n",
    "In the date translation application, you will observe that most of the time attention helps predict the year, and hasn't much impact on predicting the day/month."
   ]
  },
  {
   "cell_type": "markdown",
   "metadata": {},
   "source": [
    "### Congratulations!\n",
    "\n",
    "\n",
    "You have come to the end of this assignment \n",
    "\n",
    "<font color='blue'> **Here's what you should remember from this notebook**:\n",
    "\n",
    "- Machine translation models can be used to map from one sequence to another. They are useful not just for translating human languages (like French->English) but also for tasks like date format translation. \n",
    "- An attention mechanism allows a network to focus on the most relevant parts of the input when producing a specific part of the output. \n",
    "- A network using an attention mechanism can translate from inputs of length $T_x$ to outputs of length $T_y$, where $T_x$ and $T_y$ can be different. \n",
    "- You can visualize attention weights $\\alpha^{\\langle t,t' \\rangle}$ to see what the network is paying attention to while generating each output."
   ]
  },
  {
   "cell_type": "markdown",
   "metadata": {},
   "source": [
    "Congratulations on finishing this assignment! You are now able to implement an attention model and use it to learn complex mappings from one sequence to another. "
   ]
  }
 ],
 "metadata": {
  "coursera": {
   "course_slug": "nlp-sequence-models",
   "graded_item_id": "n16CQ",
   "launcher_item_id": "npjGi"
  },
  "kernelspec": {
   "display_name": "Python 3",
   "language": "python",
   "name": "python3"
  },
  "language_info": {
   "codemirror_mode": {
    "name": "ipython",
    "version": 3
   },
   "file_extension": ".py",
   "mimetype": "text/x-python",
   "name": "python",
   "nbconvert_exporter": "python",
   "pygments_lexer": "ipython3",
   "version": "3.6.2"
  }
 },
 "nbformat": 4,
 "nbformat_minor": 2
}
