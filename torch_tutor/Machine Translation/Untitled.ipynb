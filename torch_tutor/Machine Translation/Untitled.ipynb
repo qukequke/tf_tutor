{
 "cells": [
  {
   "cell_type": "code",
   "execution_count": 4,
   "metadata": {},
   "outputs": [],
   "source": [
    "# from keras.layers import Bidirectional, Concatenate, Permute, Dot, Input, LSTM, Multiply\n",
    "# from keras.layers import RepeatVector, Dense, Activation, Lambda\n",
    "# from keras.optimizers import Adam\n",
    "# from keras.utils import to_categorical\n",
    "# from keras.models import load_model, Model\n",
    "# import keras.backend as K\n",
    "import numpy as np\n",
    "\n",
    "import torch\n",
    "from faker import Faker\n",
    "import random\n",
    "from tqdm import tqdm\n",
    "from babel.dates import format_date\n",
    "from nmt_utils import *\n",
    "import matplotlib.pyplot as plt\n",
    "# %matplotlib inline"
   ]
  },
  {
   "cell_type": "code",
   "execution_count": 2,
   "metadata": {},
   "outputs": [
    {
     "name": "stderr",
     "output_type": "stream",
     "text": [
      "100%|█████████████████████████████████| 10000/10000 [00:00<00:00, 25575.45it/s]\n"
     ]
    }
   ],
   "source": [
    "m = 10000\n",
    "dataset, human_vocab, machine_vocab, inv_machine_vocab = load_dataset(m)"
   ]
  },
  {
   "cell_type": "code",
   "execution_count": 3,
   "metadata": {},
   "outputs": [
    {
     "name": "stdout",
     "output_type": "stream",
     "text": [
      "X.shape: (10000, 30)\n",
      "Y.shape: (10000, 10)\n",
      "Xoh.shape: (10000, 30, 37)\n",
      "Yoh.shape: (10000, 10, 11)\n"
     ]
    }
   ],
   "source": [
    "Tx = 30\n",
    "Ty = 10\n",
    "X, Y, Xoh, Yoh = preprocess_data(dataset, human_vocab, machine_vocab, Tx, Ty)\n",
    "\n",
    "print(\"X.shape:\", X.shape)\n",
    "print(\"Y.shape:\", Y.shape)\n",
    "print(\"Xoh.shape:\", Xoh.shape)\n",
    "print(\"Yoh.shape:\", Yoh.shape)"
   ]
  },
  {
   "cell_type": "code",
   "execution_count": 7,
   "metadata": {},
   "outputs": [
    {
     "data": {
      "text/plain": [
       "LSTM(37, 30)"
      ]
     },
     "execution_count": 7,
     "metadata": {},
     "output_type": "execute_result"
    }
   ],
   "source": [
    "lstm = torch.nn.LSTM(37, 30)\n",
    "lstm"
   ]
  },
  {
   "cell_type": "code",
   "execution_count": 26,
   "metadata": {},
   "outputs": [
    {
     "data": {
      "text/plain": [
       "Sequential(\n",
       "  (0): LSTM(37, 64, batch_first=True)\n",
       ")"
      ]
     },
     "execution_count": 26,
     "metadata": {},
     "output_type": "execute_result"
    }
   ],
   "source": [
    "model = torch.nn.Sequential(torch.nn.LSTM(input_size=37, hidden_size=64, batch_first=True))\n",
    "model"
   ]
  },
  {
   "cell_type": "code",
   "execution_count": 53,
   "metadata": {},
   "outputs": [
    {
     "data": {
      "text/plain": [
       "(tensor([[[ 4.0471e-02,  7.1281e-03, -2.6050e-02,  ..., -2.8468e-02,\n",
       "           -9.0745e-03,  2.3547e-02],\n",
       "          [ 3.0816e-02, -2.2600e-02,  8.6122e-03,  ..., -3.1055e-02,\n",
       "           -2.2732e-02,  5.3045e-02],\n",
       "          [ 5.9511e-03,  7.5749e-04, -1.4130e-02,  ..., -6.4547e-02,\n",
       "           -5.9130e-02,  5.0718e-02],\n",
       "          ...,\n",
       "          [-6.3868e-02, -1.0695e-02, -3.6123e-02,  ..., -5.7346e-02,\n",
       "           -3.4157e-02,  8.4975e-02],\n",
       "          [-6.3874e-02, -1.0693e-02, -3.6115e-02,  ..., -5.7349e-02,\n",
       "           -3.4159e-02,  8.4979e-02],\n",
       "          [-6.3878e-02, -1.0692e-02, -3.6110e-02,  ..., -5.7351e-02,\n",
       "           -3.4160e-02,  8.4982e-02]],\n",
       " \n",
       "         [[ 1.8101e-02, -3.4457e-02, -1.3790e-02,  ..., -1.3370e-02,\n",
       "            9.7822e-04,  1.8877e-02],\n",
       "          [ 6.4141e-03, -2.6215e-02,  7.6500e-03,  ..., -1.9171e-02,\n",
       "            9.8071e-03,  2.7213e-02],\n",
       "          [ 3.0757e-02,  8.9219e-04,  1.5157e-02,  ..., -3.3098e-02,\n",
       "            9.1029e-03,  5.2884e-02],\n",
       "          ...,\n",
       "          [-6.3878e-02, -1.0694e-02, -3.6106e-02,  ..., -5.7352e-02,\n",
       "           -3.4160e-02,  8.4983e-02],\n",
       "          [-6.3881e-02, -1.0693e-02, -3.6104e-02,  ..., -5.7353e-02,\n",
       "           -3.4161e-02,  8.4985e-02],\n",
       "          [-6.3882e-02, -1.0692e-02, -3.6102e-02,  ..., -5.7354e-02,\n",
       "           -3.4162e-02,  8.4986e-02]],\n",
       " \n",
       "         [[-7.3536e-03, -2.2053e-02,  9.8524e-03,  ..., -2.8901e-02,\n",
       "           -8.2725e-03, -2.1906e-02],\n",
       "          [-2.3872e-02, -3.8898e-04,  2.3858e-02,  ..., -2.4436e-02,\n",
       "           -3.8821e-02,  4.5872e-03],\n",
       "          [-7.7512e-04, -1.9233e-02,  2.3177e-02,  ..., -3.6746e-02,\n",
       "           -2.0124e-02, -2.4257e-02],\n",
       "          ...,\n",
       "          [-6.3880e-02, -1.0692e-02, -3.6106e-02,  ..., -5.7352e-02,\n",
       "           -3.4161e-02,  8.4984e-02],\n",
       "          [-6.3882e-02, -1.0692e-02, -3.6104e-02,  ..., -5.7353e-02,\n",
       "           -3.4161e-02,  8.4986e-02],\n",
       "          [-6.3883e-02, -1.0691e-02, -3.6103e-02,  ..., -5.7353e-02,\n",
       "           -3.4162e-02,  8.4987e-02]],\n",
       " \n",
       "         ...,\n",
       " \n",
       "         [[-1.5374e-02, -7.6529e-03, -1.9379e-02,  ..., -5.6076e-02,\n",
       "           -3.7927e-02,  1.5079e-02],\n",
       "          [ 1.0127e-02,  9.3979e-03, -1.6952e-02,  ..., -3.3102e-02,\n",
       "           -1.9914e-02,  5.2495e-02],\n",
       "          [-3.1291e-03, -1.2021e-02, -1.5246e-02,  ..., -3.3289e-02,\n",
       "           -2.7887e-03,  5.0197e-02],\n",
       "          ...,\n",
       "          [-6.3642e-02, -1.0775e-02, -3.6224e-02,  ..., -5.7106e-02,\n",
       "           -3.4040e-02,  8.5027e-02],\n",
       "          [-6.3716e-02, -1.0753e-02, -3.6192e-02,  ..., -5.7213e-02,\n",
       "           -3.4084e-02,  8.4997e-02],\n",
       "          [-6.3771e-02, -1.0735e-02, -3.6166e-02,  ..., -5.7275e-02,\n",
       "           -3.4112e-02,  8.4983e-02]],\n",
       " \n",
       "         [[ 3.7475e-02, -7.9163e-03, -1.4110e-02,  ..., -4.8922e-02,\n",
       "           -4.1304e-02,  2.7665e-02],\n",
       "          [ 5.1933e-02, -2.5041e-02,  1.0206e-02,  ..., -4.7269e-02,\n",
       "           -4.8059e-02,  1.9360e-02],\n",
       "          [ 4.6719e-02, -1.2166e-02, -2.2070e-02,  ..., -2.4290e-02,\n",
       "           -3.2197e-02,  5.5574e-02],\n",
       "          ...,\n",
       "          [-5.7282e-02, -8.7070e-03, -3.6839e-02,  ..., -4.6944e-02,\n",
       "           -2.9005e-02,  7.8985e-02],\n",
       "          [-6.0292e-02, -9.7735e-03, -3.7127e-02,  ..., -5.0343e-02,\n",
       "           -3.1132e-02,  8.1175e-02],\n",
       "          [-6.1780e-02, -1.0322e-02, -3.7148e-02,  ..., -5.2830e-02,\n",
       "           -3.2391e-02,  8.2631e-02]],\n",
       " \n",
       "         [[ 7.2434e-04, -1.4962e-02,  1.5268e-02,  ..., -1.7836e-02,\n",
       "            1.7766e-03,  1.8847e-02],\n",
       "          [ 3.0602e-02,  5.4042e-03,  2.1322e-03,  ..., -6.1911e-02,\n",
       "           -3.4343e-02, -1.3338e-02],\n",
       "          [ 2.6101e-02, -2.0582e-02,  2.3739e-02,  ..., -4.3461e-02,\n",
       "           -2.5468e-02,  4.0495e-02],\n",
       "          ...,\n",
       "          [-6.3856e-02, -1.0699e-02, -3.6140e-02,  ..., -5.7340e-02,\n",
       "           -3.4154e-02,  8.4963e-02],\n",
       "          [-6.3866e-02, -1.0696e-02, -3.6126e-02,  ..., -5.7346e-02,\n",
       "           -3.4157e-02,  8.4971e-02],\n",
       "          [-6.3873e-02, -1.0694e-02, -3.6117e-02,  ..., -5.7350e-02,\n",
       "           -3.4159e-02,  8.4977e-02]]]),\n",
       " (tensor([[[-6.3878e-02, -1.0692e-02, -3.6110e-02,  ..., -5.7351e-02,\n",
       "            -3.4160e-02,  8.4982e-02],\n",
       "           [-6.3882e-02, -1.0692e-02, -3.6102e-02,  ..., -5.7354e-02,\n",
       "            -3.4162e-02,  8.4986e-02],\n",
       "           [-6.3883e-02, -1.0691e-02, -3.6103e-02,  ..., -5.7353e-02,\n",
       "            -3.4162e-02,  8.4987e-02],\n",
       "           ...,\n",
       "           [-6.3771e-02, -1.0735e-02, -3.6166e-02,  ..., -5.7275e-02,\n",
       "            -3.4112e-02,  8.4983e-02],\n",
       "           [-6.1780e-02, -1.0322e-02, -3.7148e-02,  ..., -5.2830e-02,\n",
       "            -3.2391e-02,  8.2631e-02],\n",
       "           [-6.3873e-02, -1.0694e-02, -3.6117e-02,  ..., -5.7350e-02,\n",
       "            -3.4159e-02,  8.4977e-02]]]),\n",
       "  tensor([[[-1.1794e-01, -2.5058e-02, -7.8315e-02,  ..., -1.1331e-01,\n",
       "            -7.4849e-02,  1.4888e-01],\n",
       "           [-1.1795e-01, -2.5057e-02, -7.8299e-02,  ..., -1.1332e-01,\n",
       "            -7.4852e-02,  1.4888e-01],\n",
       "           [-1.1795e-01, -2.5055e-02, -7.8300e-02,  ..., -1.1332e-01,\n",
       "            -7.4852e-02,  1.4888e-01],\n",
       "           ...,\n",
       "           [-1.1774e-01, -2.5159e-02, -7.8438e-02,  ..., -1.1316e-01,\n",
       "            -7.4743e-02,  1.4888e-01],\n",
       "           [-1.1421e-01, -2.4207e-02, -8.0654e-02,  ..., -1.0436e-01,\n",
       "            -7.0936e-02,  1.4483e-01],\n",
       "           [-1.1793e-01, -2.5063e-02, -7.8331e-02,  ..., -1.1331e-01,\n",
       "            -7.4845e-02,  1.4887e-01]]])))"
      ]
     },
     "execution_count": 53,
     "metadata": {},
     "output_type": "execute_result"
    }
   ],
   "source": [
    "model(Xoh)"
   ]
  },
  {
   "cell_type": "code",
   "execution_count": 47,
   "metadata": {},
   "outputs": [],
   "source": [
    "class RNN(torch.nn.Module):\n",
    "    def __init__(self):\n",
    "        super(RNN, self).__init__()\n",
    "        self.rnn = torch.nn.LSTM(37, 64, batch_first=True, num_layers=1)\n",
    "        self.linear = torch.nn.Linear(64*32, )\n",
    "    def forward(self, x):\n",
    "        r_out, (h_n, h_c) = self.rnn(x, None)\n",
    "        return r_out, h_n, h_c"
   ]
  },
  {
   "cell_type": "code",
   "execution_count": 48,
   "metadata": {},
   "outputs": [
    {
     "data": {
      "text/plain": [
       "RNN(\n",
       "  (rnn): LSTM(37, 32, batch_first=True)\n",
       ")"
      ]
     },
     "execution_count": 48,
     "metadata": {},
     "output_type": "execute_result"
    }
   ],
   "source": [
    "rnn = RNN()\n",
    "rnn"
   ]
  },
  {
   "cell_type": "code",
   "execution_count": 49,
   "metadata": {},
   "outputs": [],
   "source": [
    "from torch.autograd import Variable"
   ]
  },
  {
   "cell_type": "code",
   "execution_count": 50,
   "metadata": {},
   "outputs": [],
   "source": [
    "Xoh = Variable(torch.FloatTensor\n",
    "               (Xoh))"
   ]
  },
  {
   "cell_type": "code",
   "execution_count": 52,
   "metadata": {},
   "outputs": [
    {
     "name": "stdout",
     "output_type": "stream",
     "text": [
      "torch.Size([1, 10000, 32])\n",
      "torch.Size([1, 10000, 32])\n"
     ]
    },
    {
     "data": {
      "text/plain": [
       "torch.Size([10000, 30, 32])"
      ]
     },
     "execution_count": 52,
     "metadata": {},
     "output_type": "execute_result"
    }
   ],
   "source": [
    "a, h_n, h_c = rnn(Xoh)\n",
    "print(h_n.shape)\n",
    "print(h_c.shape)\n",
    "a.shape\n"
   ]
  },
  {
   "cell_type": "code",
   "execution_count": null,
   "metadata": {
    "collapsed": true
   },
   "outputs": [],
   "source": [
    "torch.nn.Linear()"
   ]
  }
 ],
 "metadata": {
  "kernelspec": {
   "display_name": "Python 3",
   "language": "python",
   "name": "python3"
  },
  "language_info": {
   "codemirror_mode": {
    "name": "ipython",
    "version": 3
   },
   "file_extension": ".py",
   "mimetype": "text/x-python",
   "name": "python",
   "nbconvert_exporter": "python",
   "pygments_lexer": "ipython3",
   "version": "3.6.2"
  }
 },
 "nbformat": 4,
 "nbformat_minor": 2
}
