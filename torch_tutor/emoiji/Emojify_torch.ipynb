{
 "cells": [
  {
   "cell_type": "code",
   "execution_count": 1,
   "metadata": {
    "collapsed": true
   },
   "outputs": [],
   "source": [
    "import torch \n",
    "from torch.autograd import Variable\n",
    "import numpy as np\n",
    "import pandas as pd\n",
    "import os\n",
    "import emoji\n",
    "import torch.nn.functional as F"
   ]
  },
  {
   "cell_type": "code",
   "execution_count": 2,
   "metadata": {},
   "outputs": [
    {
     "name": "stdout",
     "output_type": "stream",
     "text": [
      "                                 0  1   2     3\n",
      "0           never talk to me again  3 NaN   NaN\n",
      "1  I am proud of your achievements  2 NaN   NaN\n",
      "2   It is the worst day in my life  3 NaN   NaN\n",
      "3                 Miss you so much  0 NaN   [0]\n",
      "4                     food is life  4 NaN   NaN\n",
      "----------------------------------------------------------------------------------------------------\n",
      "<class 'pandas.core.frame.DataFrame'>\n",
      "RangeIndex: 132 entries, 0 to 131\n",
      "Data columns (total 4 columns):\n",
      "0    132 non-null object\n",
      "1    132 non-null int64\n",
      "2    0 non-null float64\n",
      "3    12 non-null object\n",
      "dtypes: float64(1), int64(1), object(2)\n",
      "memory usage: 4.2+ KB\n"
     ]
    }
   ],
   "source": [
    "df = pd.read_csv('data/train_emoji.csv', header=None)\n",
    "print(df.head())\n",
    "print('--' * 50)\n",
    "df.info()"
   ]
  },
  {
   "cell_type": "code",
   "execution_count": 3,
   "metadata": {},
   "outputs": [
    {
     "name": "stdout",
     "output_type": "stream",
     "text": [
      "(132,)\n",
      "(132,)\n"
     ]
    }
   ],
   "source": [
    "X = df.loc[:, 0]\n",
    "Y = df.loc[:, 1]\n",
    "X_list = list(X)\n",
    "Y_list = list(Y)\n",
    "print(X.shape)\n",
    "print(Y.shape)"
   ]
  },
  {
   "cell_type": "code",
   "execution_count": 4,
   "metadata": {},
   "outputs": [
    {
     "name": "stdout",
     "output_type": "stream",
     "text": [
      "❤️\n",
      "⚾\n",
      "😄\n",
      "😞\n",
      "🍴\n"
     ]
    }
   ],
   "source": [
    "emoji_dictionary = {\"0\": \"\\u2764\\uFE0F\",    # :heart: prints a black instead of red heart depending on the font\n",
    "                    \"1\": \":baseball:\",\n",
    "                    \"2\": \":smile:\",\n",
    "                    \"3\": \":disappointed:\",\n",
    "                    \"4\": \":fork_and_knife:\"}\n",
    "for i in range(5):\n",
    "    print(emoji.emojize(emoji_dictionary[str(i)], use_aliases=True))"
   ]
  },
  {
   "cell_type": "code",
   "execution_count": 102,
   "metadata": {
    "collapsed": true
   },
   "outputs": [],
   "source": [
    "class Net(torch.nn.Module):\n",
    "    def __init__(self, Tx):\n",
    "        super(Net, self).__init__()\n",
    "        self.lstm = torch.nn.LSTM(Tx, 128, batch_first=True, dropout=0.5, num_layers=2)\n",
    "        self.fcn = torch.nn.Linear(128, 5)\n",
    "    def forward(self, x):\n",
    "        r_out, (a, c) = self.lstm(x)\n",
    "        ret = self.fcn(r_out[:, -1, :])\n",
    "#         ret = F.softmax(ret)\n",
    "        return ret"
   ]
  },
  {
   "cell_type": "code",
   "execution_count": 103,
   "metadata": {},
   "outputs": [
    {
     "data": {
      "text/plain": [
       "Net(\n",
       "  (lstm): LSTM(50, 128, num_layers=2, batch_first=True, dropout=0.5)\n",
       "  (fcn): Linear(in_features=128, out_features=5, bias=True)\n",
       ")"
      ]
     },
     "execution_count": 103,
     "metadata": {},
     "output_type": "execute_result"
    }
   ],
   "source": [
    "net = Net(50)\n",
    "net"
   ]
  },
  {
   "cell_type": "code",
   "execution_count": 7,
   "metadata": {
    "collapsed": true
   },
   "outputs": [],
   "source": [
    "with open('data/glove.6B.50d.txt', encoding='utf-8') as f:\n",
    "    #用来得到3个字典\n",
    "    word_vec = {}\n",
    "    word_inx = {}\n",
    "    inx_word = {}\n",
    "    j = 0\n",
    "    for i in f:\n",
    "        i = i.split()\n",
    "        word = i[0]\n",
    "        word = word.lower()\n",
    "        vec = i[1:]\n",
    "        word_vec[word] = vec\n",
    "        word_inx[word] = j\n",
    "        inx_word[j] = word\n",
    "        j += 1"
   ]
  },
  {
   "cell_type": "code",
   "execution_count": 8,
   "metadata": {},
   "outputs": [
    {
     "data": {
      "text/plain": [
       "400000"
      ]
     },
     "execution_count": 8,
     "metadata": {},
     "output_type": "execute_result"
    }
   ],
   "source": [
    "len(word_inx.keys())"
   ]
  },
  {
   "cell_type": "code",
   "execution_count": 9,
   "metadata": {},
   "outputs": [
    {
     "name": "stdout",
     "output_type": "stream",
     "text": [
      "10\n"
     ]
    }
   ],
   "source": [
    "max_len = 0\n",
    "for i in X_list:\n",
    "    len_ = len(i.split())\n",
    "    max_len = max(max_len, len_)\n",
    "print(max_len)\n",
    "Tx = max_len"
   ]
  },
  {
   "cell_type": "code",
   "execution_count": 10,
   "metadata": {},
   "outputs": [
    {
     "data": {
      "text/plain": [
       "[3,\n",
       " 2,\n",
       " 3,\n",
       " 0,\n",
       " 4,\n",
       " 0,\n",
       " 3,\n",
       " 2,\n",
       " 3,\n",
       " 1,\n",
       " 3,\n",
       " 3,\n",
       " 1,\n",
       " 3,\n",
       " 2,\n",
       " 3,\n",
       " 2,\n",
       " 3,\n",
       " 1,\n",
       " 2,\n",
       " 3,\n",
       " 0,\n",
       " 2,\n",
       " 2,\n",
       " 2,\n",
       " 1,\n",
       " 4,\n",
       " 2,\n",
       " 2,\n",
       " 4,\n",
       " 0,\n",
       " 3,\n",
       " 4,\n",
       " 2,\n",
       " 0,\n",
       " 3,\n",
       " 2,\n",
       " 2,\n",
       " 3,\n",
       " 4,\n",
       " 2,\n",
       " 2,\n",
       " 0,\n",
       " 2,\n",
       " 3,\n",
       " 0,\n",
       " 3,\n",
       " 2,\n",
       " 4,\n",
       " 3,\n",
       " 0,\n",
       " 3,\n",
       " 3,\n",
       " 3,\n",
       " 4,\n",
       " 2,\n",
       " 1,\n",
       " 1,\n",
       " 1,\n",
       " 2,\n",
       " 3,\n",
       " 1,\n",
       " 0,\n",
       " 0,\n",
       " 0,\n",
       " 3,\n",
       " 4,\n",
       " 4,\n",
       " 2,\n",
       " 2,\n",
       " 1,\n",
       " 2,\n",
       " 0,\n",
       " 3,\n",
       " 2,\n",
       " 2,\n",
       " 0,\n",
       " 0,\n",
       " 3,\n",
       " 1,\n",
       " 2,\n",
       " 1,\n",
       " 2,\n",
       " 2,\n",
       " 4,\n",
       " 3,\n",
       " 3,\n",
       " 2,\n",
       " 4,\n",
       " 0,\n",
       " 0,\n",
       " 0,\n",
       " 3,\n",
       " 3,\n",
       " 3,\n",
       " 2,\n",
       " 0,\n",
       " 1,\n",
       " 2,\n",
       " 3,\n",
       " 0,\n",
       " 2,\n",
       " 2,\n",
       " 2,\n",
       " 3,\n",
       " 2,\n",
       " 2,\n",
       " 2,\n",
       " 4,\n",
       " 1,\n",
       " 1,\n",
       " 3,\n",
       " 3,\n",
       " 4,\n",
       " 1,\n",
       " 2,\n",
       " 1,\n",
       " 1,\n",
       " 3,\n",
       " 1,\n",
       " 0,\n",
       " 4,\n",
       " 0,\n",
       " 3,\n",
       " 3,\n",
       " 4,\n",
       " 4,\n",
       " 1,\n",
       " 4,\n",
       " 3,\n",
       " 0,\n",
       " 2]"
      ]
     },
     "execution_count": 10,
     "metadata": {},
     "output_type": "execute_result"
    }
   ],
   "source": [
    "Y_list"
   ]
  },
  {
   "cell_type": "code",
   "execution_count": 11,
   "metadata": {
    "collapsed": true
   },
   "outputs": [],
   "source": [
    "X_train = np.zeros((len(X_list), Tx, 50))\n",
    "for i, sentence in enumerate(X_list):\n",
    "    for index, word in enumerate(sentence.split()):\n",
    "        X_train[i, index, :] = word_vec[word.lower()]"
   ]
  },
  {
   "cell_type": "code",
   "execution_count": 106,
   "metadata": {
    "collapsed": true
   },
   "outputs": [],
   "source": [
    "loss_func = torch.nn.CrossEntropyLoss()\n",
    "optimizer = torch.optim.Adam(net.parameters(), lr=1e-3)"
   ]
  },
  {
   "cell_type": "code",
   "execution_count": 107,
   "metadata": {},
   "outputs": [
    {
     "name": "stdout",
     "output_type": "stream",
     "text": [
      "acc = 31.8181818182%\n",
      "acc = 32.5757575758%\n",
      "acc = 32.5757575758%\n",
      "acc = 31.8181818182%\n",
      "acc = 34.0909090909%\n",
      "acc = 31.8181818182%\n",
      "acc = 34.8484848485%\n",
      "acc = 38.6363636364%\n",
      "acc = 35.6060606061%\n",
      "acc = 37.8787878788%\n",
      "acc = 36.3636363636%\n",
      "acc = 39.3939393939%\n",
      "acc = 42.4242424242%\n",
      "acc = 47.7272727273%\n",
      "acc = 50.0%\n",
      "acc = 53.7878787879%\n",
      "acc = 59.0909090909%\n",
      "acc = 59.8484848485%\n",
      "acc = 62.1212121212%\n",
      "acc = 65.1515151515%\n",
      "acc = 66.6666666667%\n",
      "acc = 71.2121212121%\n",
      "acc = 71.9696969697%\n",
      "acc = 67.4242424242%\n",
      "acc = 71.2121212121%\n",
      "acc = 77.2727272727%\n",
      "acc = 78.7878787879%\n",
      "acc = 77.2727272727%\n",
      "acc = 81.0606060606%\n",
      "acc = 78.0303030303%\n",
      "acc = 81.0606060606%\n",
      "acc = 81.0606060606%\n",
      "acc = 88.6363636364%\n",
      "acc = 87.8787878788%\n",
      "acc = 89.3939393939%\n",
      "acc = 84.8484848485%\n",
      "acc = 89.3939393939%\n",
      "acc = 89.3939393939%\n",
      "acc = 83.3333333333%\n",
      "acc = 88.6363636364%\n",
      "acc = 90.9090909091%\n",
      "acc = 91.6666666667%\n",
      "acc = 89.3939393939%\n",
      "acc = 93.1818181818%\n",
      "acc = 91.6666666667%\n",
      "acc = 88.6363636364%\n",
      "acc = 92.4242424242%\n",
      "acc = 91.6666666667%\n",
      "acc = 92.4242424242%\n",
      "acc = 93.1818181818%\n"
     ]
    }
   ],
   "source": [
    "epochs = 50\n",
    "for i in range(epochs):\n",
    "    x = torch.FloatTensor(X_train)\n",
    "    y = torch.LongTensor(Y)\n",
    "    x, y = Variable(x), Variable(y)\n",
    "#     print(x.shape)\n",
    "#     print(y.shape)\n",
    "    y_pre = net(x)\n",
    "#     print(y_pre[0, :])\n",
    "#     print(r_out.shape)\n",
    "#     print(type(r_out))\n",
    "#     print(type(y))\n",
    "#     print(y[0, :])\n",
    "#     print(y_pre[0, :])\n",
    "#     print(y)\n",
    "#     print(y_pre[0, :].shape)\n",
    "    loss = loss_func(y_pre, y)\n",
    "    optimizer.zero_grad()\n",
    "    loss.backward()\n",
    "    optimizer.step()\n",
    "    \n",
    "    y_val = net(x)\n",
    "#     print(y_pre.shape)\n",
    "    label = torch.argmax(y_val, 1)\n",
    "#     print(label.shape)\n",
    "#     print(label)\n",
    "#     print(y)\n",
    "#     print(sum(label == y))\n",
    "    acc = sum(label == y).data.numpy() / (label.shape[0])\n",
    "    print('acc = ' + str(acc*100) + '%')"
   ]
  },
  {
   "cell_type": "code",
   "execution_count": 68,
   "metadata": {
    "collapsed": true
   },
   "outputs": [],
   "source": [
    "def con_x(test_sen):\n",
    "    #把str变成网络输入格式\n",
    "    ret = np.zeros((1, 10, 50))\n",
    "    for i, word in enumerate(test_sen.split()):\n",
    "        ret[:, i, :] = word_vec[word.lower()]\n",
    "    return ret"
   ]
  },
  {
   "cell_type": "code",
   "execution_count": 65,
   "metadata": {},
   "outputs": [
    {
     "data": {
      "text/plain": [
       "torch.Size([132, 10, 50])"
      ]
     },
     "execution_count": 65,
     "metadata": {},
     "output_type": "execute_result"
    }
   ],
   "source": [
    "x.shape"
   ]
  },
  {
   "cell_type": "code",
   "execution_count": 109,
   "metadata": {},
   "outputs": [
    {
     "name": "stdout",
     "output_type": "stream",
     "text": [
      "I want to football ⚾\n",
      "You are good ❤️\n",
      "You are not good 😞\n",
      "work is hard 😄\n",
      "I want to eat 🍴\n",
      "Please play football ⚾\n",
      "You are wrong 😞\n",
      "I hate you 😞\n",
      "I don not hate you 😞\n",
      "I do not love you ❤️\n",
      "You are not happy ❤️\n"
     ]
    }
   ],
   "source": [
    "test_sen = ['I want to football', 'You are good', \n",
    "            'You are not good', 'work is hard',\n",
    "            'I want to eat', \n",
    "            'Please play football', 'You are wrong', 'I hate you', 'I don not hate you', 'I do not love you', 'You are not happy']\n",
    "for i in test_sen:\n",
    "    test_x = con_x(i)\n",
    "#     print(test_x.shape)\n",
    "    test_x = torch.FloatTensor(test_x)\n",
    "    test_x = Variable(test_x)\n",
    "    test_y = net(test_x)\n",
    "    test_label = torch.argmax(test_y, 1)\n",
    "    print(i, emoji.emojize(emoji_dictionary[str(test_label.data.numpy()[0])], use_aliases=True))\n",
    "#     print()"
   ]
  },
  {
   "cell_type": "code",
   "execution_count": null,
   "metadata": {
    "collapsed": true
   },
   "outputs": [],
   "source": []
  }
 ],
 "metadata": {
  "kernelspec": {
   "display_name": "Python 3",
   "language": "python",
   "name": "python3"
  },
  "language_info": {
   "codemirror_mode": {
    "name": "ipython",
    "version": 3
   },
   "file_extension": ".py",
   "mimetype": "text/x-python",
   "name": "python",
   "nbconvert_exporter": "python",
   "pygments_lexer": "ipython3",
   "version": "3.6.2"
  }
 },
 "nbformat": 4,
 "nbformat_minor": 2
}
