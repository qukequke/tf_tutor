{
 "cells": [
  {
   "cell_type": "code",
   "execution_count": 47,
   "metadata": {
    "collapsed": true
   },
   "outputs": [],
   "source": [
    "import torch\n",
    "import matplotlib.pyplot as plt\n",
    "import numpy as np\n",
    "from torch.autograd import Variable"
   ]
  },
  {
   "cell_type": "code",
   "execution_count": 48,
   "metadata": {},
   "outputs": [
    {
     "data": {
      "text/plain": [
       "tensor([[ 0.,  1.],\n",
       "        [ 2.,  3.]])"
      ]
     },
     "execution_count": 48,
     "metadata": {},
     "output_type": "execute_result"
    }
   ],
   "source": [
    "a = torch.FloatTensor(np.arange(4).reshape(2,2))\n",
    "a"
   ]
  },
  {
   "cell_type": "code",
   "execution_count": 49,
   "metadata": {},
   "outputs": [
    {
     "data": {
      "text/plain": [
       "tensor([[ 0,  1],\n",
       "        [ 2,  3]], dtype=torch.int32)"
      ]
     },
     "execution_count": 49,
     "metadata": {},
     "output_type": "execute_result"
    }
   ],
   "source": [
    "torch.from_numpy(np.arange(4).reshape(2, 2))"
   ]
  },
  {
   "cell_type": "code",
   "execution_count": 50,
   "metadata": {},
   "outputs": [
    {
     "data": {
      "text/plain": [
       "tensor([-2.0000, -1.9596, -1.9192, -1.8788, -1.8384, -1.7980, -1.7576,\n",
       "        -1.7172, -1.6768, -1.6364, -1.5960, -1.5556, -1.5152, -1.4747,\n",
       "        -1.4343, -1.3939, -1.3535, -1.3131, -1.2727, -1.2323, -1.1919,\n",
       "        -1.1515, -1.1111, -1.0707, -1.0303, -0.9899, -0.9495, -0.9091,\n",
       "        -0.8687, -0.8283, -0.7879, -0.7475, -0.7071, -0.6667, -0.6263,\n",
       "        -0.5859, -0.5455, -0.5051, -0.4646, -0.4242, -0.3838, -0.3434,\n",
       "        -0.3030, -0.2626, -0.2222, -0.1818, -0.1414, -0.1010, -0.0606,\n",
       "        -0.0202,  0.0202,  0.0606,  0.1010,  0.1414,  0.1818,  0.2222,\n",
       "         0.2626,  0.3030,  0.3434,  0.3838,  0.4242,  0.4646,  0.5051,\n",
       "         0.5455,  0.5859,  0.6263,  0.6667,  0.7071,  0.7475,  0.7879,\n",
       "         0.8283,  0.8687,  0.9091,  0.9495,  0.9899,  1.0303,  1.0707,\n",
       "         1.1111,  1.1515,  1.1919,  1.2323,  1.2727,  1.3131,  1.3535,\n",
       "         1.3939,  1.4343,  1.4747,  1.5152,  1.5556,  1.5960,  1.6364,\n",
       "         1.6768,  1.7172,  1.7576,  1.7980,  1.8384,  1.8788,  1.9192,\n",
       "         1.9596,  2.0000])"
      ]
     },
     "execution_count": 50,
     "metadata": {},
     "output_type": "execute_result"
    }
   ],
   "source": [
    "a = torch.linspace(-2, 2, 100)\n",
    "a"
   ]
  },
  {
   "cell_type": "code",
   "execution_count": 51,
   "metadata": {},
   "outputs": [
    {
     "data": {
      "text/plain": [
       "tensor([ 4.5533,  3.9001,  4.4461,  3.6077,  3.6124,  3.7210,  3.6750,\n",
       "         3.1126,  2.8421,  3.6214,  2.6055,  2.5915,  2.6751,  2.5815,\n",
       "         2.5460,  2.8066,  2.3068,  1.7395,  2.5777,  1.6998,  2.0829,\n",
       "         1.6906,  1.5382,  1.3889,  1.2949,  1.8868,  1.1996,  1.6144,\n",
       "         0.8074,  1.1581,  1.1148,  0.7459,  0.9347,  1.1967,  0.8051,\n",
       "         0.9187,  0.5430,  0.3098,  0.2986,  0.8826,  0.4136,  0.8147,\n",
       "         0.6916,  0.4253,  0.5672,  0.7718,  0.9483,  0.1029,  0.6780,\n",
       "         0.2886,  0.1915,  0.1696,  0.7712,  0.9397,  0.9376,  0.4448,\n",
       "         0.7685,  0.7961,  0.7907,  1.1295,  0.5631,  1.1009,  0.4401,\n",
       "         1.2066,  0.7568,  1.0678,  0.9972,  0.6769,  1.3832,  1.2767,\n",
       "         1.3330,  1.0514,  1.2792,  1.3199,  1.1194,  1.4364,  1.1543,\n",
       "         1.8281,  1.7487,  2.1332,  1.7078,  1.9518,  1.7994,  1.9055,\n",
       "         2.4065,  2.5708,  2.5497,  2.5420,  2.9483,  2.6319,  3.1895,\n",
       "         3.0476,  3.4499,  3.4444,  4.2134,  3.8069,  4.1202,  4.1570,\n",
       "         4.3564,  4.2232])"
      ]
     },
     "execution_count": 51,
     "metadata": {},
     "output_type": "execute_result"
    }
   ],
   "source": [
    "b = torch.pow(a, 2) + torch.rand(100)\n",
    "b"
   ]
  },
  {
   "cell_type": "code",
   "execution_count": 52,
   "metadata": {},
   "outputs": [
    {
     "data": {
      "text/plain": [
       "torch.Size([100])"
      ]
     },
     "execution_count": 52,
     "metadata": {},
     "output_type": "execute_result"
    }
   ],
   "source": [
    "a.shape"
   ]
  },
  {
   "cell_type": "code",
   "execution_count": 53,
   "metadata": {},
   "outputs": [
    {
     "data": {
      "text/plain": [
       "torch.Size([100])"
      ]
     },
     "execution_count": 53,
     "metadata": {},
     "output_type": "execute_result"
    }
   ],
   "source": [
    "b.shape"
   ]
  },
  {
   "cell_type": "code",
   "execution_count": 54,
   "metadata": {},
   "outputs": [
    {
     "data": {
      "image/png": "[encoded data removed]",
      "text/plain": [
       "<matplotlib.figure.Figure at 0x9fff5c0>"
      ]
     },
     "metadata": {},
     "output_type": "display_data"
    }
   ],
   "source": [
    "plt.scatter(a.numpy(), b.numpy())\n",
    "plt.show()"
   ]
  },
  {
   "cell_type": "code",
   "execution_count": 55,
   "metadata": {
    "collapsed": true
   },
   "outputs": [],
   "source": [
    "class Net(torch.nn.Module):\n",
    "    def __init__(self):\n",
    "        super().__init__()\n",
    "        self.fcn1 = torch.nn.Linear(1, 50)\n",
    "        self.fcn2 = torch.nn.Linear(50, 1)\n",
    "    def forward(self, x):\n",
    "        x = self.fcn1(x)\n",
    "        x = torch.relu(x)\n",
    "        x = self.fcn2(x)\n",
    "        return x"
   ]
  },
  {
   "cell_type": "code",
   "execution_count": 56,
   "metadata": {},
   "outputs": [
    {
     "data": {
      "text/plain": [
       "Net(\n",
       "  (fcn1): Linear(in_features=1, out_features=50, bias=True)\n",
       "  (fcn2): Linear(in_features=50, out_features=1, bias=True)\n",
       ")"
      ]
     },
     "execution_count": 56,
     "metadata": {},
     "output_type": "execute_result"
    }
   ],
   "source": [
    "net = Net()\n",
    "net"
   ]
  },
  {
   "cell_type": "code",
   "execution_count": 57,
   "metadata": {},
   "outputs": [
    {
     "data": {
      "text/plain": [
       "<generator object Module.parameters at 0x0000000009BE1F10>"
      ]
     },
     "execution_count": 57,
     "metadata": {},
     "output_type": "execute_result"
    }
   ],
   "source": [
    "net.parameters()"
   ]
  },
  {
   "cell_type": "code",
   "execution_count": 58,
   "metadata": {
    "collapsed": true
   },
   "outputs": [],
   "source": [
    "opti = torch.optim.Adam(net.parameters())\n",
    "def loss_func(y, y_pre):\n",
    "    return torch.mean(torch.pow((y - y_pre), 2))"
   ]
  },
  {
   "cell_type": "code",
   "execution_count": 59,
   "metadata": {},
   "outputs": [
    {
     "name": "stdout",
     "output_type": "stream",
     "text": [
      "<class 'torch.Tensor'>\n"
     ]
    },
    {
     "data": {
      "text/plain": [
       "torch.Tensor"
      ]
     },
     "execution_count": 59,
     "metadata": {},
     "output_type": "execute_result"
    }
   ],
   "source": [
    "a = a.reshape(100, 1)\n",
    "b = b.reshape(100, 1)\n",
    "print(type(a))\n",
    "type(Variable(a))"
   ]
  },
  {
   "cell_type": "code",
   "execution_count": 45,
   "metadata": {
    "collapsed": true
   },
   "outputs": [],
   "source": [
    "steps = 1000\n",
    "plt.ion()\n",
    "for i in range(steps):\n",
    "    x = Variable(a)\n",
    "    y = Variable(b)\n",
    "    pre = net(x)\n",
    "    loss = loss_func(y, pre)\n",
    "#     print(loss)\n",
    "    opti.zero_grad()\n",
    "    loss.backward()\n",
    "    opti.step()\n",
    "    if i % 5 == 10:\n",
    "        plt.scatter(x.data.numpy(), y.data.numpy())\n",
    "        plt.plot(x, pre)\n",
    "        plt.pause(0.5)\n",
    "        plt.show()\n",
    "# plt.ioff()"
   ]
  },
  {
   "cell_type": "code",
   "execution_count": 44,
   "metadata": {
    "collapsed": true
   },
   "outputs": [],
   "source": [
    "plt.show()"
   ]
  },
  {
   "cell_type": "code",
   "execution_count": null,
   "metadata": {
    "collapsed": true
   },
   "outputs": [],
   "source": []
  }
 ],
 "metadata": {
  "kernelspec": {
   "display_name": "Python 3",
   "language": "python",
   "name": "python3"
  },
  "language_info": {
   "codemirror_mode": {
    "name": "ipython",
    "version": 3
   },
   "file_extension": ".py",
   "mimetype": "text/x-python",
   "name": "python",
   "nbconvert_exporter": "python",
   "pygments_lexer": "ipython3",
   "version": "3.6.2"
  }
 },
 "nbformat": 4,
 "nbformat_minor": 2
}
